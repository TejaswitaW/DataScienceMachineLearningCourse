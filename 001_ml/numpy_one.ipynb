{
 "cells": [
  {
   "cell_type": "code",
   "execution_count": 1,
   "metadata": {},
   "outputs": [
    {
     "name": "stdout",
     "output_type": "stream",
     "text": [
      "For list of string :  50000\n",
      "For list of integers :  28000\n",
      "For numpy array of integers :  4000\n"
     ]
    }
   ],
   "source": [
    "#code to verify numpy array takes lesser memory than python lists\n",
    "import numpy as np\n",
    "import time\n",
    "import sys\n",
    "python_list= list(range(1000))\n",
    "print(\"For list of string : \",sys.getsizeof(\"s\")*len(python_list))\n",
    "print(\"For list of integers : \",sys.getsizeof(5)*len(python_list))\n",
    "#print(sys.getsizeof(0)*len(python_list))\n",
    "numpy_array= np.arange(1000)\n",
    "print(\"For numpy array of integers : \",numpy_array.size*numpy_array.itemsize)"
   ]
  },
  {
   "cell_type": "code",
   "execution_count": 2,
   "metadata": {},
   "outputs": [
    {
     "name": "stdout",
     "output_type": "stream",
     "text": [
      "Time to process lists :  623.6133575439453\n",
      "Time to process array :  331.80761337280273\n"
     ]
    }
   ],
   "source": [
    "#code to verify numpy arrays are faster than python lists\n",
    "import time\n",
    "import sys\n",
    " \n",
    "SIZE = 1000000\n",
    " \n",
    "list_one= range(SIZE)\n",
    "list_two= range(SIZE)\n",
    "array_one= np.arange(SIZE)\n",
    "array_two= np.arange(SIZE)\n",
    " \n",
    "start= time.time()\n",
    "result=[(x,y) for x,y in zip(list_one,list_two)]\n",
    "print(\"Time to process lists : \",(time.time()-start)*1000)\n",
    " \n",
    "start=time.time()\n",
    "result= array_one+array_two\n",
    "print(\"Time to process array : \",(time.time()-start)*1000)"
   ]
  },
  {
   "cell_type": "code",
   "execution_count": 3,
   "metadata": {},
   "outputs": [
    {
     "name": "stdout",
     "output_type": "stream",
     "text": [
      "Our array 2D is : \n",
      "[[1 2 3]\n",
      " [4 5 6]]\n"
     ]
    }
   ],
   "source": [
    "# creating array using list of lists\n",
    "# we use np.array function to create new array\n",
    "new_list=[[1,2,3],[4,5,6]]\n",
    "new_array=np.array(new_list)\n",
    "print(\"Our array 2D is : \")\n",
    "print(new_array)"
   ]
  },
  {
   "cell_type": "code",
   "execution_count": 4,
   "metadata": {},
   "outputs": [
    {
     "name": "stdout",
     "output_type": "stream",
     "text": [
      "Dimensions:  2\n",
      "Shape:  (2, 3)\n",
      "Size:  6\n",
      "Data Type:  int32\n",
      "Item size:  4\n"
     ]
    }
   ],
   "source": [
    "# checking attributes of array\n",
    "print(\"Dimensions: \",new_array.ndim)\n",
    "print(\"Shape: \",new_array.shape)\n",
    "print(\"Size: \",new_array.size)#number of elements in an array\n",
    "print(\"Data Type: \",new_array.dtype)\n",
    "print(\"Item size: \",new_array.itemsize)"
   ]
  },
  {
   "cell_type": "code",
   "execution_count": 5,
   "metadata": {},
   "outputs": [
    {
     "data": {
      "text/plain": [
       "<memory at 0x0000000005921D68>"
      ]
     },
     "execution_count": 5,
     "metadata": {},
     "output_type": "execute_result"
    }
   ],
   "source": [
    "new_array.data#buffer"
   ]
  },
  {
   "cell_type": "code",
   "execution_count": 6,
   "metadata": {},
   "outputs": [
    {
     "name": "stdout",
     "output_type": "stream",
     "text": [
      "original array is : \n",
      "[[1 2 3]\n",
      " [4 5 6]]\n",
      "Our modified array is : \n",
      "[[1 2]\n",
      " [3 4]\n",
      " [5 6]]\n",
      "Our modified array is : \n",
      "[[1 2 3 4 5 6]]\n",
      "Our modified array is : \n",
      "[[1]\n",
      " [2]\n",
      " [3]\n",
      " [4]\n",
      " [5]\n",
      " [6]]\n"
     ]
    }
   ],
   "source": [
    "# we can reshape original array to new size using reshape method\n",
    "# original array does not change\n",
    "print(\"original array is : \")\n",
    "print(new_array)\n",
    "#new_array.reshape(1,6)\n",
    "print(\"Our modified array is : \")\n",
    "print(new_array.reshape(3,2))\n",
    "print(\"Our modified array is : \")\n",
    "print(new_array.reshape(1,6))\n",
    "print(\"Our modified array is : \")\n",
    "print(new_array.reshape(6,1))"
   ]
  },
  {
   "cell_type": "code",
   "execution_count": 7,
   "metadata": {
    "scrolled": false
   },
   "outputs": [],
   "source": [
    "# creating new array using arange function\n",
    "new_array=np.arange(6).reshape(2,3)"
   ]
  },
  {
   "cell_type": "code",
   "execution_count": 8,
   "metadata": {},
   "outputs": [
    {
     "data": {
      "text/plain": [
       "array([[0., 1., 2.],\n",
       "       [3., 4., 5.]])"
      ]
     },
     "execution_count": 8,
     "metadata": {},
     "output_type": "execute_result"
    }
   ],
   "source": [
    "# we can specify data type of the data in array\n",
    "np.array(new_array,dtype=float)"
   ]
  },
  {
   "cell_type": "code",
   "execution_count": 9,
   "metadata": {},
   "outputs": [
    {
     "name": "stdout",
     "output_type": "stream",
     "text": [
      "Zeros array is : \n",
      "[[0. 0. 0.]\n",
      " [0. 0. 0.]]\n"
     ]
    }
   ],
   "source": [
    "# we can create array ,initialised with zeros\n",
    "zeros_array=np.zeros((2,3),dtype=float)\n",
    "print(\"Zeros array is : \")\n",
    "print(zeros_array)"
   ]
  },
  {
   "cell_type": "code",
   "execution_count": 10,
   "metadata": {},
   "outputs": [
    {
     "name": "stdout",
     "output_type": "stream",
     "text": [
      "Ones array is : \n",
      "[[1. 1. 1.]\n",
      " [1. 1. 1.]]\n"
     ]
    }
   ],
   "source": [
    "# we can create array , initialised with ones\n",
    "ones_array=np.ones((2,3),dtype=float)\n",
    "print(\"Ones array is : \")\n",
    "print(ones_array)"
   ]
  },
  {
   "cell_type": "code",
   "execution_count": 11,
   "metadata": {},
   "outputs": [
    {
     "name": "stdout",
     "output_type": "stream",
     "text": [
      "Empty array is : \n",
      "[[ 75825266         0         0]\n",
      " [        0         1 538976288]]\n"
     ]
    }
   ],
   "source": [
    "# we can create empty array ,which will get initialised to random numbers\n",
    "empty_array=np.empty((2,3),dtype=int)\n",
    "print(\"Empty array is : \")\n",
    "print(empty_array)"
   ]
  },
  {
   "cell_type": "code",
   "execution_count": 12,
   "metadata": {},
   "outputs": [
    {
     "data": {
      "text/plain": [
       "array([10, 15, 20, 25])"
      ]
     },
     "execution_count": 12,
     "metadata": {},
     "output_type": "execute_result"
    }
   ],
   "source": [
    "row_array=np.arange(10,30,5)\n",
    "row_array"
   ]
  },
  {
   "cell_type": "code",
   "execution_count": 13,
   "metadata": {},
   "outputs": [
    {
     "name": "stdout",
     "output_type": "stream",
     "text": [
      "[0.  0.3 0.6 0.9 1.2 1.5 1.8]\n"
     ]
    },
    {
     "data": {
      "text/plain": [
       "numpy.ndarray"
      ]
     },
     "execution_count": 13,
     "metadata": {},
     "output_type": "execute_result"
    }
   ],
   "source": [
    "row_array=np.arange(0,2,0.3)\n",
    "print(row_array)\n",
    "type(row_array)"
   ]
  },
  {
   "cell_type": "code",
   "execution_count": 14,
   "metadata": {
    "scrolled": true
   },
   "outputs": [
    {
     "name": "stdout",
     "output_type": "stream",
     "text": [
      "[0.   0.25 0.5  0.75 1.   1.25 1.5  1.75 2.  ]\n"
     ]
    }
   ],
   "source": [
    "new_array=np.linspace(0,2,9)\n",
    "print(new_array)"
   ]
  },
  {
   "cell_type": "code",
   "execution_count": 15,
   "metadata": {},
   "outputs": [
    {
     "name": "stdout",
     "output_type": "stream",
     "text": [
      "Our array is : \n",
      "[[   0    1    2 ...   97   98   99]\n",
      " [ 100  101  102 ...  197  198  199]\n",
      " [ 200  201  202 ...  297  298  299]\n",
      " ...\n",
      " [9700 9701 9702 ... 9797 9798 9799]\n",
      " [9800 9801 9802 ... 9897 9898 9899]\n",
      " [9900 9901 9902 ... 9997 9998 9999]]\n"
     ]
    }
   ],
   "source": [
    "raw_array=np.arange(10000).reshape(100,100)\n",
    "print(\"Our array is : \")\n",
    "print(raw_array)"
   ]
  },
  {
   "cell_type": "code",
   "execution_count": 16,
   "metadata": {},
   "outputs": [
    {
     "name": "stdout",
     "output_type": "stream",
     "text": [
      "Our first array is :  [0 1 2 3 4]\n",
      "Our second array is :  [5 6 7 8 9]\n",
      "Addtion of above two arrays is : \n",
      "[ 5  7  9 11 13]\n"
     ]
    }
   ],
   "source": [
    "# addition of two array elements\n",
    "one_array=np.array([0,1,2,3,4])\n",
    "two_array=np.array([5,6,7,8,9])\n",
    "print(\"Our first array is : \",one_array)\n",
    "print(\"Our second array is : \",two_array)\n",
    "summation=one_array+two_array\n",
    "print(\"Addtion of above two arrays is : \")\n",
    "print(summation)"
   ]
  },
  {
   "cell_type": "code",
   "execution_count": 17,
   "metadata": {},
   "outputs": [
    {
     "name": "stdout",
     "output_type": "stream",
     "text": [
      "Our first array is :  [0 1 2 3 4]\n",
      "Our second array is :  [5 6 7 8 9]\n",
      "Subtraction of above two arrays is : \n",
      "[-5 -5 -5 -5 -5]\n"
     ]
    }
   ],
   "source": [
    "print(\"Our first array is : \",one_array)\n",
    "print(\"Our second array is : \",two_array)\n",
    "subtraction=one_array-two_array\n",
    "print(\"Subtraction of above two arrays is : \")\n",
    "print(subtraction)"
   ]
  },
  {
   "cell_type": "code",
   "execution_count": 18,
   "metadata": {},
   "outputs": [
    {
     "name": "stdout",
     "output_type": "stream",
     "text": [
      "Our original array is :  [0 1 2 3 4]\n",
      "After multiplication with 2, we got :  [0 2 4 6 8]\n"
     ]
    }
   ],
   "source": [
    "# multiply each element of array with constant\n",
    "print(\"Our original array is : \",one_array)\n",
    "# original array does not change\n",
    "print(\"After multiplication with 2, we got : \",one_array*2)"
   ]
  },
  {
   "cell_type": "code",
   "execution_count": 19,
   "metadata": {},
   "outputs": [
    {
     "name": "stdout",
     "output_type": "stream",
     "text": [
      "Our original array is :  [0 1 2 3 4]\n",
      "After application of conditional operator on above array, we got :  [ True  True  True False False]\n"
     ]
    }
   ],
   "source": [
    "# use of conditional operator \n",
    "print(\"Our original array is : \",one_array)\n",
    "print(\"After application of conditional operator on above array, we got : \",one_array<3)"
   ]
  },
  {
   "cell_type": "code",
   "execution_count": 20,
   "metadata": {},
   "outputs": [
    {
     "name": "stdout",
     "output_type": "stream",
     "text": [
      "Our original array is :  [0 1 2 3 4]\n",
      "After application of conditional operator on above array, we got :  [0 1 2]\n"
     ]
    }
   ],
   "source": [
    "# use of conditional operator \n",
    "print(\"Our original array is : \",one_array)\n",
    "print(\"After application of conditional operator on above array, we got : \",one_array[one_array<3])"
   ]
  },
  {
   "cell_type": "code",
   "execution_count": 21,
   "metadata": {},
   "outputs": [
    {
     "name": "stdout",
     "output_type": "stream",
     "text": [
      "Our original array is :  [0 1 2 3 4]\n",
      "Maximum element from the above array is :  4\n"
     ]
    }
   ],
   "source": [
    "# getting maximum element from the array\n",
    "print(\"Our original array is : \",one_array)\n",
    "print(\"Maximum element from the above array is : \",one_array.max())"
   ]
  },
  {
   "cell_type": "code",
   "execution_count": 22,
   "metadata": {},
   "outputs": [
    {
     "name": "stdout",
     "output_type": "stream",
     "text": [
      "Our original array is :  [0 1 2 3 4]\n",
      "Minimum element from the above array is :  0\n"
     ]
    }
   ],
   "source": [
    "# getting minimum element from the array\n",
    "print(\"Our original array is : \",one_array)\n",
    "print(\"Minimum element from the above array is : \",one_array.min())"
   ]
  },
  {
   "cell_type": "code",
   "execution_count": 23,
   "metadata": {},
   "outputs": [
    {
     "name": "stdout",
     "output_type": "stream",
     "text": [
      "Our original array is :  [0 1 2 3 4]\n",
      "Mean of elements of the above array is :  2.0\n"
     ]
    }
   ],
   "source": [
    "# getting mean of elements of the array\n",
    "print(\"Our original array is : \",one_array)\n",
    "print(\"Mean of elements of the above array is : \",one_array.mean())"
   ]
  },
  {
   "cell_type": "code",
   "execution_count": 24,
   "metadata": {},
   "outputs": [
    {
     "name": "stdout",
     "output_type": "stream",
     "text": [
      "Our original array is : \n",
      "[[ 0  1  2  3  4]\n",
      " [ 5  6  7  8  9]\n",
      " [10 11 12 13 14]\n",
      " [15 16 17 18 19]]\n",
      "Sum of elements along axis 0\n",
      "[30 34 38 42 46]\n"
     ]
    }
   ],
   "source": [
    "# axis 0 is along columns\n",
    "large_array=np.array([[0,1,2,3,4],[5,6,7,8,9],[10,11,12,13,14],[15,16,17,18,19]])\n",
    "print(\"Our original array is : \")\n",
    "print(large_array)\n",
    "print(\"Sum of elements along axis 0\")\n",
    "print(large_array.sum(axis=0))"
   ]
  },
  {
   "cell_type": "code",
   "execution_count": 25,
   "metadata": {},
   "outputs": [
    {
     "name": "stdout",
     "output_type": "stream",
     "text": [
      "Our original array is : \n",
      "[[ 0  1  2  3  4]\n",
      " [ 5  6  7  8  9]\n",
      " [10 11 12 13 14]\n",
      " [15 16 17 18 19]]\n",
      "Sum of elements along axis 1\n",
      "[10 35 60 85]\n"
     ]
    }
   ],
   "source": [
    "# axis 1 is along rows\n",
    "large_array=np.array([[0,1,2,3,4],[5,6,7,8,9],[10,11,12,13,14],[15,16,17,18,19]])\n",
    "print(\"Our original array is : \")\n",
    "print(large_array)\n",
    "print(\"Sum of elements along axis 1\")\n",
    "print(large_array.sum(axis=1))"
   ]
  },
  {
   "cell_type": "code",
   "execution_count": 26,
   "metadata": {},
   "outputs": [
    {
     "name": "stdout",
     "output_type": "stream",
     "text": [
      "Our original array is : \n",
      "[[ 0  1  2  3  4]\n",
      " [ 5  6  7  8  9]\n",
      " [10 11 12 13 14]\n",
      " [15 16 17 18 19]]\n",
      "Cumulative sum of above array, along axis 1 is : \n",
      "[[ 0  1  3  6 10]\n",
      " [ 5 11 18 26 35]\n",
      " [10 21 33 46 60]\n",
      " [15 31 48 66 85]]\n"
     ]
    }
   ],
   "source": [
    "large_array=np.array([[0,1,2,3,4],[5,6,7,8,9],[10,11,12,13,14],[15,16,17,18,19]])\n",
    "print(\"Our original array is : \")\n",
    "print(large_array)\n",
    "print(\"Cumulative sum of above array, along axis 1 is : \")\n",
    "print(large_array.cumsum(axis=1))"
   ]
  },
  {
   "cell_type": "code",
   "execution_count": 27,
   "metadata": {},
   "outputs": [
    {
     "name": "stdout",
     "output_type": "stream",
     "text": [
      "Our original array is : \n",
      "[[ 0  1  2  3  4]\n",
      " [ 5  6  7  8  9]\n",
      " [10 11 12 13 14]\n",
      " [15 16 17 18 19]]\n",
      "Cumulative sum of above array,along axis 0 is : \n",
      "[[ 0  1  2  3  4]\n",
      " [ 5  7  9 11 13]\n",
      " [15 18 21 24 27]\n",
      " [30 34 38 42 46]]\n"
     ]
    }
   ],
   "source": [
    "large_array=np.array([[0,1,2,3,4],[5,6,7,8,9],[10,11,12,13,14],[15,16,17,18,19]])\n",
    "print(\"Our original array is : \")\n",
    "print(large_array)\n",
    "print(\"Cumulative sum of above array,along axis 0 is : \")\n",
    "print(large_array.cumsum(axis=0))"
   ]
  },
  {
   "cell_type": "code",
   "execution_count": 28,
   "metadata": {},
   "outputs": [
    {
     "name": "stdout",
     "output_type": "stream",
     "text": [
      "Our original array_one is : \n",
      "[[1 1]\n",
      " [0 1]]\n",
      "Our original array_two is : \n",
      "[[2 0]\n",
      " [3 4]]\n"
     ]
    }
   ],
   "source": [
    "# taking two new arrays\n",
    "new_array_one=np.array([[1,1],[0,1]])\n",
    "new_array_two=np.array([[2,0],[3,4]])\n",
    "print(\"Our original array_one is : \")\n",
    "print(new_array_one)\n",
    "print(\"Our original array_two is : \")\n",
    "print(new_array_two)"
   ]
  },
  {
   "cell_type": "code",
   "execution_count": 29,
   "metadata": {},
   "outputs": [
    {
     "name": "stdout",
     "output_type": "stream",
     "text": [
      "Our original array_one is : \n",
      "[[1 1]\n",
      " [0 1]]\n",
      "Our original array_two is : \n",
      "[[2 0]\n",
      " [3 4]]\n",
      "Element wise multiplication of above two arrays : \n",
      "[[2 0]\n",
      " [0 4]]\n"
     ]
    }
   ],
   "source": [
    "#element wise multiplication\n",
    "print(\"Our original array_one is : \")\n",
    "print(new_array_one)\n",
    "print(\"Our original array_two is : \")\n",
    "print(new_array_two)\n",
    "print(\"Element wise multiplication of above two arrays : \")\n",
    "print(new_array_one*new_array_two)"
   ]
  },
  {
   "cell_type": "code",
   "execution_count": 30,
   "metadata": {},
   "outputs": [
    {
     "name": "stdout",
     "output_type": "stream",
     "text": [
      "Our original array_one is : \n",
      "[[1 1]\n",
      " [0 1]]\n",
      "Our original array_two is : \n",
      "[[2 0]\n",
      " [3 4]]\n",
      "Matrix multiplication of above two arrays : \n",
      "[[5 4]\n",
      " [3 4]]\n"
     ]
    }
   ],
   "source": [
    "new_array_one=np.array([[1,1],[0,1]])\n",
    "new_array_two=np.array([[2,0],[3,4]])\n",
    "print(\"Our original array_one is : \")\n",
    "print(new_array_one)\n",
    "print(\"Our original array_two is : \")\n",
    "print(new_array_two)\n",
    "#matrix multiplication\n",
    "print(\"Matrix multiplication of above two arrays : \")\n",
    "print(new_array_one@new_array_two)"
   ]
  },
  {
   "cell_type": "code",
   "execution_count": 31,
   "metadata": {},
   "outputs": [
    {
     "name": "stdout",
     "output_type": "stream",
     "text": [
      "Our original array_one is : \n",
      "[[1 1]\n",
      " [0 1]]\n",
      "Our original array_two is : \n",
      "[[2 0]\n",
      " [3 4]]\n",
      "Matrix multiplication of above two arrays : \n",
      "[[5 4]\n",
      " [3 4]]\n"
     ]
    }
   ],
   "source": [
    "new_array_one=np.array([[1,1],[0,1]])\n",
    "new_array_two=np.array([[2,0],[3,4]])\n",
    "print(\"Our original array_one is : \")\n",
    "print(new_array_one)\n",
    "print(\"Our original array_two is : \")\n",
    "print(new_array_two)\n",
    "#matrix multiplication\n",
    "print(\"Matrix multiplication of above two arrays : \")\n",
    "print(new_array_one.dot(new_array_two))"
   ]
  },
  {
   "cell_type": "code",
   "execution_count": 32,
   "metadata": {},
   "outputs": [
    {
     "name": "stdout",
     "output_type": "stream",
     "text": [
      "Our new array is :  [0 1 2 3 4 5 6 7 8 9]\n"
     ]
    }
   ],
   "source": [
    "# creating new array using arange function\n",
    "new_array=np.arange(10)\n",
    "print(\"Our new array is : \",new_array)"
   ]
  },
  {
   "cell_type": "code",
   "execution_count": 33,
   "metadata": {},
   "outputs": [
    {
     "name": "stdout",
     "output_type": "stream",
     "text": [
      "Our new array is :  [0 1 2 3 4 5 6 7 8 9]\n",
      "After slicing applied on array elemnts : \n",
      "new_array[2:5] :  [2 3 4]\n"
     ]
    }
   ],
   "source": [
    "# slicing on array elements\n",
    "print(\"Our new array is : \",new_array)\n",
    "print(\"After slicing applied on array elemnts : \")\n",
    "print(\"new_array[2:5] : \",new_array[2:5])"
   ]
  },
  {
   "cell_type": "code",
   "execution_count": 34,
   "metadata": {},
   "outputs": [
    {
     "name": "stdout",
     "output_type": "stream",
     "text": [
      "Our new array is :  [0 1 2 3 4 5 6 7 8 9]\n",
      "We want 5th element from above array : \n",
      "new_array[5]  5\n"
     ]
    }
   ],
   "source": [
    "# we can access individual element using index\n",
    "print(\"Our new array is : \",new_array)\n",
    "print(\"We want 5th element from above array : \")\n",
    "print(\"new_array[5] \", new_array[5])"
   ]
  },
  {
   "cell_type": "code",
   "execution_count": 35,
   "metadata": {},
   "outputs": [
    {
     "name": "stdout",
     "output_type": "stream",
     "text": [
      "Our original array is :  [0 1 2 3 4 5 6 7 8 9]\n",
      "Every second element of above array will get assigned with 1000\n",
      "After modification array is :  [1000    1 1000    3 1000    5 1000    7 1000    9]\n"
     ]
    }
   ],
   "source": [
    "print(\"Our original array is : \",new_array)\n",
    "# every second element will get assigned to 1000\n",
    "new_array[::2]=1000\n",
    "print(\"Every second element of above array will get assigned with 1000\")\n",
    "print(\"After modification array is : \",new_array)"
   ]
  },
  {
   "cell_type": "code",
   "execution_count": 36,
   "metadata": {},
   "outputs": [
    {
     "name": "stdout",
     "output_type": "stream",
     "text": [
      "Our original array is :  [1000    1 1000    3 1000    5 1000    7 1000    9]\n",
      "Every second element of above array will get assigned with 2000,upto 7th element\n",
      "After modification array is :  [2000    1 2000    3 2000    5 2000    7 1000    9]\n"
     ]
    }
   ],
   "source": [
    "print(\"Our original array is : \",new_array)\n",
    "print(\"Every second element of above array will get assigned with 2000,upto 7th element\")\n",
    "new_array[:7:2]=2000\n",
    "print(\"After modification array is : \",new_array)"
   ]
  },
  {
   "cell_type": "code",
   "execution_count": 37,
   "metadata": {},
   "outputs": [
    {
     "name": "stdout",
     "output_type": "stream",
     "text": [
      "Our created new array is : \n",
      "[[ 0  1  2  3  4]\n",
      " [ 5  6  7  8  9]\n",
      " [10 11 12 13 14]]\n"
     ]
    }
   ],
   "source": [
    "# creating new array\n",
    "new_array=np.arange(15).reshape(3,5)\n",
    "print(\"Our created new array is : \")\n",
    "print(new_array)"
   ]
  },
  {
   "cell_type": "code",
   "execution_count": 38,
   "metadata": {
    "scrolled": true
   },
   "outputs": [
    {
     "name": "stdout",
     "output_type": "stream",
     "text": [
      "Our created new array is : \n",
      "[[ 0  1  2  3  4]\n",
      " [ 5  6  7  8  9]\n",
      " [10 11 12 13 14]]\n",
      "Getting 0th rows element upto index 3\n",
      "new_array[0][:4] :  [0 1 2 3]\n"
     ]
    }
   ],
   "source": [
    "print(\"Our created new array is : \")\n",
    "print(new_array)\n",
    "print(\"Getting 0th rows element upto index 3\")\n",
    "print(\"new_array[0][:4] : \",new_array[0][:4])"
   ]
  },
  {
   "cell_type": "code",
   "execution_count": 39,
   "metadata": {},
   "outputs": [
    {
     "name": "stdout",
     "output_type": "stream",
     "text": [
      "Our created new array is : \n",
      "[[ 0  1  2  3  4]\n",
      " [ 5  6  7  8  9]\n",
      " [10 11 12 13 14]]\n",
      "After slicing on rows and columns\n",
      "new_array[0:2,1:3] :  \n",
      "[[1 2]\n",
      " [6 7]]\n"
     ]
    }
   ],
   "source": [
    "print(\"Our created new array is : \")\n",
    "print(new_array)\n",
    "# we can apply slicing on rows and columns seperately \n",
    "print(\"After slicing on rows and columns\")\n",
    "print(\"new_array[0:2,1:3] :  \")\n",
    "print(new_array[0:2,1:3])"
   ]
  },
  {
   "cell_type": "code",
   "execution_count": 40,
   "metadata": {},
   "outputs": [
    {
     "name": "stdout",
     "output_type": "stream",
     "text": [
      "Our original matrix is : \n",
      "[[ 0  1  2  3  4]\n",
      " [ 5  6  7  8  9]\n",
      " [10 11 12 13 14]]\n",
      "Transpose of above matrix is : \n",
      "[[ 0  5 10]\n",
      " [ 1  6 11]\n",
      " [ 2  7 12]\n",
      " [ 3  8 13]\n",
      " [ 4  9 14]]\n"
     ]
    }
   ],
   "source": [
    "# taking transpose of a matrix\n",
    "print(\"Our original matrix is : \")\n",
    "print(new_array)\n",
    "print(\"Transpose of above matrix is : \")\n",
    "print(new_array.T)"
   ]
  },
  {
   "cell_type": "code",
   "execution_count": 41,
   "metadata": {},
   "outputs": [
    {
     "name": "stdout",
     "output_type": "stream",
     "text": [
      "It returns iterator object :  <numpy.flatiter object at 0x0000000000558840>\n",
      "Our original array is : \n",
      "[[ 0  1  2  3  4]\n",
      " [ 5  6  7  8  9]\n",
      " [10 11 12 13 14]]\n",
      "Our flattened array is : \n",
      "0 1 2 3 4 5 6 7 8 9 10 11 12 13 14 "
     ]
    }
   ],
   "source": [
    "# flattening array into 1-D array\n",
    "array_iterator=new_array.flat\n",
    "print(\"It returns iterator object : \",array_iterator)\n",
    "print(\"Our original array is : \")\n",
    "print(new_array)\n",
    "print(\"Our flattened array is : \")\n",
    "for element in array_iterator:\n",
    "    print(element,end=\" \")"
   ]
  },
  {
   "cell_type": "code",
   "execution_count": 42,
   "metadata": {},
   "outputs": [
    {
     "name": "stdout",
     "output_type": "stream",
     "text": [
      "Our original array is : \n",
      "[[ 0  1  2  3  4]\n",
      " [ 5  6  7  8  9]\n",
      " [10 11 12 13 14]]\n",
      "Our flattened array is : \n",
      "[ 0  1  2  3  4  5  6  7  8  9 10 11 12 13 14]\n"
     ]
    }
   ],
   "source": [
    "# flattening array into 1-D array\n",
    "print(\"Our original array is : \")\n",
    "print(new_array)\n",
    "print(\"Our flattened array is : \")\n",
    "print(new_array.ravel())"
   ]
  },
  {
   "cell_type": "code",
   "execution_count": 43,
   "metadata": {},
   "outputs": [],
   "source": [
    "new_array_one=np.array([[1,1],[0,1]])\n",
    "new_array_two=np.array([[2,0],[3,4]])\n"
   ]
  },
  {
   "cell_type": "code",
   "execution_count": 44,
   "metadata": {
    "scrolled": true
   },
   "outputs": [
    {
     "name": "stdout",
     "output_type": "stream",
     "text": [
      "Our original array one is : \n",
      "[[1 1]\n",
      " [0 1]]\n",
      "Our original array two is : \n",
      "[[2 0]\n",
      " [3 4]]\n",
      "After applying vstack on above two arrays : \n",
      "[[1 1]\n",
      " [0 1]\n",
      " [2 0]\n",
      " [3 4]]\n"
     ]
    }
   ],
   "source": [
    "print(\"Our original array one is : \")\n",
    "print(new_array_one)\n",
    "print(\"Our original array two is : \")\n",
    "print(new_array_two)\n",
    "# vstack , vertically stacks the elements of array\n",
    "# and returns new array\n",
    "print(\"After applying vstack on above two arrays : \")\n",
    "print(np.vstack((new_array_one,new_array_two)))"
   ]
  },
  {
   "cell_type": "code",
   "execution_count": 45,
   "metadata": {},
   "outputs": [
    {
     "name": "stdout",
     "output_type": "stream",
     "text": [
      "Our original array one is : \n",
      "[[1 1]\n",
      " [0 1]]\n",
      "Our original array two is : \n",
      "[[2 0]\n",
      " [3 4]]\n",
      "After applying hstack on above two arrays : \n",
      "[[1 1 2 0]\n",
      " [0 1 3 4]]\n"
     ]
    }
   ],
   "source": [
    "print(\"Our original array one is : \")\n",
    "print(new_array_one)\n",
    "print(\"Our original array two is : \")\n",
    "print(new_array_two)\n",
    "# hstack , horizontally stacks the elements of array\n",
    "# and returns new array\n",
    "print(\"After applying hstack on above two arrays : \")\n",
    "print(np.hstack((new_array_one,new_array_two)))"
   ]
  },
  {
   "cell_type": "code",
   "execution_count": 46,
   "metadata": {},
   "outputs": [
    {
     "name": "stdout",
     "output_type": "stream",
     "text": [
      "Our original array is : \n",
      "[[ 0  1  2  3]\n",
      " [ 4  5  6  7]\n",
      " [ 8  9 10 11]]\n"
     ]
    }
   ],
   "source": [
    "original_array=np.arange(12).reshape(3,4)\n",
    "print(\"Our original array is : \")\n",
    "print(original_array)"
   ]
  },
  {
   "cell_type": "code",
   "execution_count": 47,
   "metadata": {
    "scrolled": true
   },
   "outputs": [
    {
     "name": "stdout",
     "output_type": "stream",
     "text": [
      "ID of original array is :  293630720\n",
      "ID of copied array is :  84496096\n"
     ]
    }
   ],
   "source": [
    "# array.view(), makes copy of the orginal array\n",
    "# with different memory location\n",
    "copied_array=original_array.view()\n",
    "copied_array=copied_array.reshape(12,1)\n",
    "print(\"ID of original array is : \",id(original_array))\n",
    "print(\"ID of copied array is : \",id(copied_array))"
   ]
  },
  {
   "cell_type": "code",
   "execution_count": 48,
   "metadata": {},
   "outputs": [],
   "source": [
    "# making changes in copied array\n",
    "copied_array[2]=1000"
   ]
  },
  {
   "cell_type": "code",
   "execution_count": 49,
   "metadata": {},
   "outputs": [
    {
     "data": {
      "text/plain": [
       "array([[   0,    1, 1000,    3],\n",
       "       [   4,    5,    6,    7],\n",
       "       [   8,    9,   10,   11]])"
      ]
     },
     "execution_count": 49,
     "metadata": {},
     "output_type": "execute_result"
    }
   ],
   "source": [
    "# changes in copied array got reflected in original array\n",
    "original_array"
   ]
  },
  {
   "cell_type": "code",
   "execution_count": 50,
   "metadata": {},
   "outputs": [
    {
     "data": {
      "text/plain": [
       "array([[   0],\n",
       "       [   1],\n",
       "       [1000],\n",
       "       [   3],\n",
       "       [   4],\n",
       "       [   5],\n",
       "       [   6],\n",
       "       [   7],\n",
       "       [   8],\n",
       "       [   9],\n",
       "       [  10],\n",
       "       [  11]])"
      ]
     },
     "execution_count": 50,
     "metadata": {},
     "output_type": "execute_result"
    }
   ],
   "source": [
    "copied_array"
   ]
  },
  {
   "cell_type": "code",
   "execution_count": 51,
   "metadata": {},
   "outputs": [
    {
     "name": "stdout",
     "output_type": "stream",
     "text": [
      "[[   0    1 1000    3]\n",
      " [   4    5    6    7]\n",
      " [   8    9   10   11]]\n"
     ]
    }
   ],
   "source": [
    "print(original_array)"
   ]
  }
 ],
 "metadata": {
  "kernelspec": {
   "display_name": "Python 3",
   "language": "python",
   "name": "python3"
  },
  "language_info": {
   "codemirror_mode": {
    "name": "ipython",
    "version": 3
   },
   "file_extension": ".py",
   "mimetype": "text/x-python",
   "name": "python",
   "nbconvert_exporter": "python",
   "pygments_lexer": "ipython3",
   "version": "3.7.6"
  }
 },
 "nbformat": 4,
 "nbformat_minor": 4
}
