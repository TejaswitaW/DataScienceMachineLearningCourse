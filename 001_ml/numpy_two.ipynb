{
 "cells": [
  {
   "cell_type": "markdown",
   "metadata": {},
   "source": [
    "\n",
    "#### Q1. How to import numpy as np and see the version?"
   ]
  },
  {
   "cell_type": "code",
   "execution_count": 1,
   "metadata": {},
   "outputs": [
    {
     "name": "stdout",
     "output_type": "stream",
     "text": [
      "1.18.1\n"
     ]
    }
   ],
   "source": [
    "import numpy as np\n",
    "print(np.__version__)"
   ]
  },
  {
   "cell_type": "markdown",
   "metadata": {},
   "source": [
    "#### Q2.How to create a 1D array?"
   ]
  },
  {
   "cell_type": "code",
   "execution_count": 2,
   "metadata": {},
   "outputs": [
    {
     "data": {
      "text/plain": [
       "array([0, 1, 2, 3, 4, 5, 6, 7, 8, 9])"
      ]
     },
     "execution_count": 2,
     "metadata": {},
     "output_type": "execute_result"
    }
   ],
   "source": [
    "number_array = np.arange(10)\n",
    "number_array"
   ]
  },
  {
   "cell_type": "markdown",
   "metadata": {},
   "source": [
    "#### Q3.How to create a 3×3 numpy array of all True’s?"
   ]
  },
  {
   "cell_type": "code",
   "execution_count": 3,
   "metadata": {},
   "outputs": [
    {
     "data": {
      "text/plain": [
       "array([[ True,  True,  True],\n",
       "       [ True,  True,  True],\n",
       "       [ True,  True,  True]])"
      ]
     },
     "execution_count": 3,
     "metadata": {},
     "output_type": "execute_result"
    }
   ],
   "source": [
    "boolean_array=np.full((3, 3), True, dtype=bool)\n",
    "boolean_array"
   ]
  },
  {
   "cell_type": "markdown",
   "metadata": {},
   "source": [
    "#### Q4.How to extract all odd numbers from array? "
   ]
  },
  {
   "cell_type": "code",
   "execution_count": 5,
   "metadata": {},
   "outputs": [
    {
     "name": "stdout",
     "output_type": "stream",
     "text": [
      "Our original number_array is : \n",
      "[0 1 2 3 4 5 6 7 8 9]\n",
      "Odd elements in number_array are : \n",
      "[1 3 5 7 9]\n"
     ]
    }
   ],
   "source": [
    "number_array = np.array([0, 1, 2, 3, 4, 5, 6, 7, 8, 9])\n",
    "# Solution\n",
    "print(\"Our original number_array is : \")\n",
    "print(number_array)\n",
    "print(\"Odd elements in number_array are : \")\n",
    "print(number_array[number_array % 2 == 1])"
   ]
  },
  {
   "cell_type": "markdown",
   "metadata": {},
   "source": [
    "#### Q5.How replace all odd numbers in array with -1?"
   ]
  },
  {
   "cell_type": "code",
   "execution_count": 7,
   "metadata": {},
   "outputs": [
    {
     "name": "stdout",
     "output_type": "stream",
     "text": [
      "Our original array is : \n",
      "[0 1 2 3 4 5 6 7 8 9]\n",
      "After replacing odd numbers with -1 : \n",
      "[ 0 -1  2 -1  4 -1  6 -1  8 -1]\n"
     ]
    }
   ],
   "source": [
    "number_array = np.array([0, 1, 2, 3, 4, 5, 6, 7, 8, 9])\n",
    "print(\"Our original array is : \")\n",
    "print(number_array)\n",
    "print(\"After replacing odd numbers with -1 : \")\n",
    "number_array[number_array % 2 == 1] = -1\n",
    "print(number_array)"
   ]
  },
  {
   "cell_type": "markdown",
   "metadata": {},
   "source": [
    "#### Q6.How to replace all odd numbers in array with -1 without changing array?"
   ]
  },
  {
   "cell_type": "code",
   "execution_count": 9,
   "metadata": {},
   "outputs": [
    {
     "name": "stdout",
     "output_type": "stream",
     "text": [
      "Our orginal array remains as it is: \n",
      "[0 1 2 3 4 5 6 7 8 9]\n",
      "Modified array is: \n",
      "[ 0 -1  2 -1  4 -1  6 -1  8 -1]\n"
     ]
    }
   ],
   "source": [
    "number_array = np.arange(10)\n",
    "output_array = np.where(number_array % 2 == 1, -1, number_array)\n",
    "print(\"Our orginal array remains as it is: \")\n",
    "print(number_array)\n",
    "print(\"Modified array is: \")\n",
    "print(output_array)"
   ]
  },
  {
   "cell_type": "markdown",
   "metadata": {},
   "source": [
    "#### Q7. How to convert a 1D array to a 2D array with 2 rows?\n"
   ]
  },
  {
   "cell_type": "code",
   "execution_count": 16,
   "metadata": {},
   "outputs": [
    {
     "data": {
      "text/plain": [
       "array([[0, 1, 2, 3, 4],\n",
       "       [5, 6, 7, 8, 9]])"
      ]
     },
     "execution_count": 16,
     "metadata": {},
     "output_type": "execute_result"
    }
   ],
   "source": [
    "data_array = np.arange(10)\n",
    "data_array.reshape(2, -1)"
   ]
  },
  {
   "cell_type": "code",
   "execution_count": 17,
   "metadata": {},
   "outputs": [
    {
     "data": {
      "text/plain": [
       "array([[0, 1],\n",
       "       [2, 3],\n",
       "       [4, 5],\n",
       "       [6, 7],\n",
       "       [8, 9]])"
      ]
     },
     "execution_count": 17,
     "metadata": {},
     "output_type": "execute_result"
    }
   ],
   "source": [
    "data_array = np.arange(10)\n",
    "data_array.reshape(5, -1)"
   ]
  },
  {
   "cell_type": "markdown",
   "metadata": {},
   "source": [
    "#### Q8.How to stack two arrays vertically?"
   ]
  },
  {
   "cell_type": "code",
   "execution_count": 20,
   "metadata": {},
   "outputs": [
    {
     "name": "stdout",
     "output_type": "stream",
     "text": [
      "Our array_one is : \n",
      "[[0 1 2 3 4]\n",
      " [5 6 7 8 9]]\n",
      "Our array_two is : \n",
      "[[1 1 1 1 1]\n",
      " [1 1 1 1 1]]\n"
     ]
    }
   ],
   "source": [
    "array_one = np.arange(10).reshape(2,-1)\n",
    "array_two = np.repeat(1, 10).reshape(2,-1)\n",
    "print(\"Our array_one is : \")\n",
    "print(array_one)\n",
    "print(\"Our array_two is : \")\n",
    "print(array_two)"
   ]
  },
  {
   "cell_type": "code",
   "execution_count": 21,
   "metadata": {},
   "outputs": [
    {
     "data": {
      "text/plain": [
       "array([[0, 1, 2, 3, 4],\n",
       "       [5, 6, 7, 8, 9],\n",
       "       [1, 1, 1, 1, 1],\n",
       "       [1, 1, 1, 1, 1]])"
      ]
     },
     "execution_count": 21,
     "metadata": {},
     "output_type": "execute_result"
    }
   ],
   "source": [
    "# method 1:\n",
    "np.concatenate([array_one, array_two], axis=0)"
   ]
  },
  {
   "cell_type": "code",
   "execution_count": 22,
   "metadata": {},
   "outputs": [
    {
     "data": {
      "text/plain": [
       "array([[0, 1, 2, 3, 4],\n",
       "       [5, 6, 7, 8, 9],\n",
       "       [1, 1, 1, 1, 1],\n",
       "       [1, 1, 1, 1, 1]])"
      ]
     },
     "execution_count": 22,
     "metadata": {},
     "output_type": "execute_result"
    }
   ],
   "source": [
    "# method 2:\n",
    "np.vstack([array_one, array_two])"
   ]
  },
  {
   "cell_type": "code",
   "execution_count": 23,
   "metadata": {},
   "outputs": [
    {
     "data": {
      "text/plain": [
       "array([[0, 1, 2, 3, 4],\n",
       "       [5, 6, 7, 8, 9],\n",
       "       [1, 1, 1, 1, 1],\n",
       "       [1, 1, 1, 1, 1]])"
      ]
     },
     "execution_count": 23,
     "metadata": {},
     "output_type": "execute_result"
    }
   ],
   "source": [
    "# method 3:\n",
    "np.r_[array_one, array_two]"
   ]
  },
  {
   "cell_type": "markdown",
   "metadata": {},
   "source": [
    "#### Q9.How to stack two arrays horizontally?"
   ]
  },
  {
   "cell_type": "code",
   "execution_count": 24,
   "metadata": {},
   "outputs": [
    {
     "name": "stdout",
     "output_type": "stream",
     "text": [
      "Our array_one is : \n",
      "[[0 1 2 3 4]\n",
      " [5 6 7 8 9]]\n",
      "Our array_two is : \n",
      "[[1 1 1 1 1]\n",
      " [1 1 1 1 1]]\n"
     ]
    }
   ],
   "source": [
    "array_one = np.arange(10).reshape(2,-1)\n",
    "array_two = np.repeat(1, 10).reshape(2,-1)\n",
    "print(\"Our array_one is : \")\n",
    "print(array_one)\n",
    "print(\"Our array_two is : \")\n",
    "print(array_two)"
   ]
  },
  {
   "cell_type": "code",
   "execution_count": 25,
   "metadata": {},
   "outputs": [
    {
     "data": {
      "text/plain": [
       "array([[0, 1, 2, 3, 4, 1, 1, 1, 1, 1],\n",
       "       [5, 6, 7, 8, 9, 1, 1, 1, 1, 1]])"
      ]
     },
     "execution_count": 25,
     "metadata": {},
     "output_type": "execute_result"
    }
   ],
   "source": [
    "# method 1:\n",
    "np.concatenate([array_one, array_two], axis=1)"
   ]
  },
  {
   "cell_type": "code",
   "execution_count": 26,
   "metadata": {},
   "outputs": [
    {
     "data": {
      "text/plain": [
       "array([[0, 1, 2, 3, 4, 1, 1, 1, 1, 1],\n",
       "       [5, 6, 7, 8, 9, 1, 1, 1, 1, 1]])"
      ]
     },
     "execution_count": 26,
     "metadata": {},
     "output_type": "execute_result"
    }
   ],
   "source": [
    "# method 2:\n",
    "np.hstack([array_one, array_two])"
   ]
  },
  {
   "cell_type": "code",
   "execution_count": 27,
   "metadata": {},
   "outputs": [
    {
     "data": {
      "text/plain": [
       "array([[0, 1, 2, 3, 4, 1, 1, 1, 1, 1],\n",
       "       [5, 6, 7, 8, 9, 1, 1, 1, 1, 1]])"
      ]
     },
     "execution_count": 27,
     "metadata": {},
     "output_type": "execute_result"
    }
   ],
   "source": [
    "# method 3:\n",
    "np.c_[array_one, array_two]"
   ]
  },
  {
   "cell_type": "markdown",
   "metadata": {},
   "source": [
    "#### Q10. How to create the following pattern without hardcoding. Use only numpy functions and the below input array, data_array?\n",
    "\n",
    "###### Input:\n",
    "\n",
    "###### data_array = np.array([1,2,3])`\n",
    "\n",
    "###### Output:\n",
    "\n",
    "###### array([1, 1, 1, 2, 2, 2, 3, 3, 3, 1, 2, 3, 1, 2, 3, 1, 2, 3])"
   ]
  },
  {
   "cell_type": "code",
   "execution_count": 28,
   "metadata": {},
   "outputs": [
    {
     "data": {
      "text/plain": [
       "array([1, 1, 1, 2, 2, 2, 3, 3, 3, 1, 2, 3, 1, 2, 3, 1, 2, 3])"
      ]
     },
     "execution_count": 28,
     "metadata": {},
     "output_type": "execute_result"
    }
   ],
   "source": [
    "data_array = np.array([1,2,3])\n",
    "np.r_[np.repeat(data_array, 3), np.tile(data_array, 3)]"
   ]
  },
  {
   "cell_type": "markdown",
   "metadata": {},
   "source": [
    "#### Q11.How to get the common items between two arrays?\n",
    "\n",
    "###### Input:\n",
    "\n",
    "###### array_one = np.array([1,2,3,2,3,4,3,4,5,6]) array_two = np.array([7,2,10,2,7,4,9,4,9,8])\n",
    "\n",
    "###### Desired Output:\n",
    "\n",
    "###### array([2, 4])"
   ]
  },
  {
   "cell_type": "code",
   "execution_count": 30,
   "metadata": {},
   "outputs": [
    {
     "name": "stdout",
     "output_type": "stream",
     "text": [
      "Our array_one is :  [1 2 3 2 3 4 3 4 5 6]\n",
      "Our array_two is :  [ 7  2 10  2  7  4  9  4  9  8]\n"
     ]
    }
   ],
   "source": [
    "array_one=np.array([1,2,3,2,3,4,3,4,5,6])\n",
    "array_two=np.array([7,2,10,2,7,4,9,4,9,8])\n",
    "print(\"Our array_one is : \",array_one)\n",
    "print(\"Our array_two is : \",array_two)"
   ]
  },
  {
   "cell_type": "code",
   "execution_count": 31,
   "metadata": {},
   "outputs": [
    {
     "data": {
      "text/plain": [
       "array([2, 4])"
      ]
     },
     "execution_count": 31,
     "metadata": {},
     "output_type": "execute_result"
    }
   ],
   "source": [
    "np.intersect1d(array_one,array_two)"
   ]
  },
  {
   "cell_type": "markdown",
   "metadata": {},
   "source": [
    "#### Q12. How to remove elements from array_a present in array_b ?\n",
    "##### array_one = np.array([1,2,3,4,5]) array_two = np.array([5,6,7,8,9])\n",
    "\n",
    "##### Desired Output:\n",
    "\n",
    "###### array([1,2,3,4])"
   ]
  },
  {
   "cell_type": "code",
   "execution_count": 32,
   "metadata": {},
   "outputs": [
    {
     "data": {
      "text/plain": [
       "array([1, 2, 3, 4])"
      ]
     },
     "execution_count": 32,
     "metadata": {},
     "output_type": "execute_result"
    }
   ],
   "source": [
    "array_a = np.array([1,2,3,4,5])\n",
    "array_b = np.array([5,6,7,8,9])\n",
    "\n",
    "# from 'array_a' remove all of 'array_b'\n",
    "np.setdiff1d(array_a,array_b)"
   ]
  },
  {
   "cell_type": "markdown",
   "metadata": {},
   "source": [
    "\n",
    "#### Q13.How to get the positions where elements of array_a and array_b match ?\n",
    "\n",
    "##### array_a = np.array([1,2,3,2,3,4,3,4,5,6]) array_b = np.array([7,2,10,2,7,4,9,4,9,8])\n",
    "\n",
    "###### Desired Output:\n",
    "\n",
    "###### (array([1, 3, 5, 7]),)"
   ]
  },
  {
   "cell_type": "code",
   "execution_count": 34,
   "metadata": {},
   "outputs": [
    {
     "data": {
      "text/plain": [
       "(array([1, 3, 5, 7], dtype=int64),)"
      ]
     },
     "execution_count": 34,
     "metadata": {},
     "output_type": "execute_result"
    }
   ],
   "source": [
    "array_a = np.array([1,2,3,2,3,4,3,4,5,6])\n",
    "array_b = np.array([7,2,10,2,7,4,9,4,9,8])\n",
    "\n",
    "np.where(array_a == array_b)"
   ]
  },
  {
   "cell_type": "markdown",
   "metadata": {},
   "source": [
    "#### Q14. How to get all items between 5 and 10 from array_a?\n",
    "\n",
    "##### Input:\n",
    "\n",
    "###### array_a = np.array([2, 6, 1, 9, 10, 3, 27])\n",
    "\n",
    "##### Desired Output:\n",
    "\n",
    "##### (array([6, 9, 10]),)"
   ]
  },
  {
   "cell_type": "code",
   "execution_count": 35,
   "metadata": {},
   "outputs": [
    {
     "data": {
      "text/plain": [
       "array([ 6,  9, 10])"
      ]
     },
     "execution_count": 35,
     "metadata": {},
     "output_type": "execute_result"
    }
   ],
   "source": [
    "array_a=np.array([2,6,1,9,10,3,27])\n",
    "# method 1\n",
    "index = np.where((array_a >= 5) & (array_a <= 10))\n",
    "array_a[index]"
   ]
  },
  {
   "cell_type": "code",
   "execution_count": 36,
   "metadata": {},
   "outputs": [
    {
     "data": {
      "text/plain": [
       "array([ 6,  9, 10])"
      ]
     },
     "execution_count": 36,
     "metadata": {},
     "output_type": "execute_result"
    }
   ],
   "source": [
    "# method 2\n",
    "index = np.where(np.logical_and(array_a>=5, array_a<=10))\n",
    "array_a[index]"
   ]
  },
  {
   "cell_type": "code",
   "execution_count": 38,
   "metadata": {},
   "outputs": [
    {
     "data": {
      "text/plain": [
       "array([ 6,  9, 10])"
      ]
     },
     "execution_count": 38,
     "metadata": {},
     "output_type": "execute_result"
    }
   ],
   "source": [
    "# method 3: \n",
    "array_a[(array_a >= 5) & (array_a <= 10)]"
   ]
  },
  {
   "cell_type": "markdown",
   "metadata": {},
   "source": [
    "#### Q15. How to reverse the rows of a 2D array array_one?\n",
    "\n",
    "###### Input\n",
    "\n",
    "##### array_one = np.arange(9).reshape(3,3)"
   ]
  },
  {
   "cell_type": "code",
   "execution_count": 45,
   "metadata": {},
   "outputs": [
    {
     "name": "stdout",
     "output_type": "stream",
     "text": [
      "Our original 2D array is : \n",
      "[[0 1 2]\n",
      " [3 4 5]\n",
      " [6 7 8]]\n",
      "After reversing rows of array_one is : \n",
      "[[6 7 8]\n",
      " [3 4 5]\n",
      " [0 1 2]]\n"
     ]
    }
   ],
   "source": [
    "array_one = np.arange(9).reshape(3,3)\n",
    "print(\"Our original 2D array is : \")\n",
    "print(array_one)\n",
    "# it does not change original array\n",
    "print(\"After reversing rows of array_one is : \")\n",
    "print(array_one[::-1])"
   ]
  },
  {
   "cell_type": "markdown",
   "metadata": {},
   "source": [
    "#### Q16. How to reverse the columns of a 2D array array_one?\n",
    "\n",
    "###### Input\n",
    "\n",
    "##### array_one = np.arange(9).reshape(3,3)"
   ]
  },
  {
   "cell_type": "code",
   "execution_count": 46,
   "metadata": {},
   "outputs": [
    {
     "name": "stdout",
     "output_type": "stream",
     "text": [
      "Our original array is : \n",
      "[[0 1 2]\n",
      " [3 4 5]\n",
      " [6 7 8]]\n",
      "After reversing columns of array_one is : \n",
      "[[2 1 0]\n",
      " [5 4 3]\n",
      " [8 7 6]]\n"
     ]
    }
   ],
   "source": [
    "array_one = np.arange(9).reshape(3,3)\n",
    "print(\"Our original array is : \")\n",
    "print(array_one)\n",
    "print(\"After reversing columns of array_one is : \")\n",
    "print(array_one[:, ::-1])"
   ]
  },
  {
   "cell_type": "markdown",
   "metadata": {},
   "source": [
    "\n",
    "#### Q17. How to create a 2D array of shape 5x3 to contain random decimal numbers between 5 and 10?"
   ]
  },
  {
   "cell_type": "code",
   "execution_count": 49,
   "metadata": {},
   "outputs": [
    {
     "name": "stdout",
     "output_type": "stream",
     "text": [
      "Using first method\n",
      "\n",
      "[[6.78220897 8.77279814 7.8717555 ]\n",
      " [6.50891296 8.95136305 6.71340842]\n",
      " [9.5441114  5.72721359 5.64707896]\n",
      " [8.13573784 8.03566809 5.25412567]\n",
      " [7.42542271 6.50820814 5.82700672]]\n",
      "\n",
      "Using second method\n",
      "\n",
      "[[6.87234847 9.6241871  8.78542456]\n",
      " [7.21642407 6.00795103 5.99313439]\n",
      " [6.80236183 9.5912383  9.75544283]\n",
      " [7.06111193 9.16851594 5.00269991]\n",
      " [5.54145793 6.16442153 9.82865879]]\n"
     ]
    }
   ],
   "source": [
    "print(\"Using first method\")\n",
    "print()\n",
    "# method 1:\n",
    "random_numbers_array = np.random.randint(low=5, high=10, size=(5,3)) + np.random.random((5,3))\n",
    "print(random_numbers_array)\n",
    "print()\n",
    "print(\"Using second method\")\n",
    "print()\n",
    "# method 2:\n",
    "random_numbers_array = np.random.uniform(5,10, size=(5,3))\n",
    "print(random_numbers_array)"
   ]
  }
 ],
 "metadata": {
  "kernelspec": {
   "display_name": "Python 3",
   "language": "python",
   "name": "python3"
  },
  "language_info": {
   "codemirror_mode": {
    "name": "ipython",
    "version": 3
   },
   "file_extension": ".py",
   "mimetype": "text/x-python",
   "name": "python",
   "nbconvert_exporter": "python",
   "pygments_lexer": "ipython3",
   "version": "3.7.6"
  }
 },
 "nbformat": 4,
 "nbformat_minor": 4
}
