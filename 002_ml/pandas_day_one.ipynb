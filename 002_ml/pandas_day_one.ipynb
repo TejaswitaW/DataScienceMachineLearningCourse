{
 "cells": [
  {
   "cell_type": "markdown",
   "metadata": {},
   "source": [
    "#### Series"
   ]
  },
  {
   "cell_type": "code",
   "execution_count": 1,
   "metadata": {},
   "outputs": [],
   "source": [
    "import pandas as pd\n",
    "import numpy as np\n",
    "import sys"
   ]
  },
  {
   "cell_type": "code",
   "execution_count": 2,
   "metadata": {},
   "outputs": [],
   "source": [
    "# creating series using pandas function\n",
    "series_one=pd.Series([1,2,3,4,4,\"name\",\"tom\"])"
   ]
  },
  {
   "cell_type": "code",
   "execution_count": 3,
   "metadata": {
    "scrolled": false
   },
   "outputs": [
    {
     "name": "stdout",
     "output_type": "stream",
     "text": [
      "Created series_one is : \n",
      "0       1\n",
      "1       2\n",
      "2       3\n",
      "3       4\n",
      "4       4\n",
      "5    name\n",
      "6     tom\n",
      "dtype: object\n"
     ]
    }
   ],
   "source": [
    "print(\"Created series_one is : \")\n",
    "print(series_one)"
   ]
  },
  {
   "cell_type": "code",
   "execution_count": 4,
   "metadata": {},
   "outputs": [
    {
     "name": "stdout",
     "output_type": "stream",
     "text": [
      "Created empty series is : \n",
      "Series([], dtype: int32)\n"
     ]
    }
   ],
   "source": [
    "# creating empty series\n",
    "print(\"Created empty series is : \")\n",
    "empty_series=pd.Series(dtype=int)\n",
    "print(empty_series)"
   ]
  },
  {
   "cell_type": "code",
   "execution_count": 5,
   "metadata": {},
   "outputs": [
    {
     "name": "stdout",
     "output_type": "stream",
     "text": [
      "Our series_using_numpy is : \n",
      "0    1\n",
      "1    2\n",
      "2    3\n",
      "3    4\n",
      "4    4\n",
      "5    5\n",
      "6    6\n",
      "dtype: int32\n"
     ]
    }
   ],
   "source": [
    "# creating series using numpy array\n",
    "series_using_numpy=pd.Series(np.array([1,2,3,4,4,5,6]))\n",
    "print(\"Our series_using_numpy is : \")\n",
    "print(series_using_numpy)"
   ]
  },
  {
   "cell_type": "code",
   "execution_count": 6,
   "metadata": {},
   "outputs": [
    {
     "name": "stdout",
     "output_type": "stream",
     "text": [
      "Type of element in series:  <class 'numpy.int32'>\n",
      "Get size of 5 :  28\n",
      "Get size of element in series_using_numpy :  28\n",
      "Use of size of attribute :  7\n",
      "Size of whole array :  180\n"
     ]
    }
   ],
   "source": [
    "# some basic intuations\n",
    "series_using_numpy=pd.Series(np.array([1,2,3,4,4,5,6]))\n",
    "print(\"Type of element in series: \",type(series_using_numpy[0]))\n",
    "# sys.getsizeof returns sizeof objects in bytes\n",
    "print(\"Get size of 5 : \",sys.getsizeof(5))\n",
    "print(\"Get size of element in series_using_numpy : \",sys.getsizeof(series_using_numpy[0]))\n",
    "print(\"Use of size of attribute : \",series_using_numpy.size)\n",
    "print(\"Size of whole array : \",sys.getsizeof(series_using_numpy))\n",
    "# print(type(int))\n",
    "#print(\"Get size of element in series_using_numpy : \",series_using_numpy[0].size)#1"
   ]
  },
  {
   "cell_type": "code",
   "execution_count": 7,
   "metadata": {
    "scrolled": true
   },
   "outputs": [
    {
     "name": "stdout",
     "output_type": "stream",
     "text": [
      "a    1\n",
      "b    2\n",
      "c    3\n",
      "d    4\n",
      "dtype: int32\n"
     ]
    }
   ],
   "source": [
    "# giving customized indices\n",
    "series_using_numpy=pd.Series(np.array([1,2,3,4,]),index=[\"a\",\"b\",\"c\",\"d\"])\n",
    "print(series_using_numpy)"
   ]
  },
  {
   "cell_type": "code",
   "execution_count": 8,
   "metadata": {},
   "outputs": [],
   "source": [
    "# series_using_numpy=pd.Series(np.array([1,2,3,4]),index=[\"a\",\"b\",\"c\",\"d\",\"e\",\"f\"])\n",
    "# print(series_using_numpy)\n",
    "# above code gives error,as more indices than elements"
   ]
  },
  {
   "cell_type": "code",
   "execution_count": 9,
   "metadata": {
    "scrolled": true
   },
   "outputs": [
    {
     "name": "stdout",
     "output_type": "stream",
     "text": [
      "Our original dictionary is :  {1: 'a', 2: 'b', 3: 'c', 4: 'd', 5: 'e'}\n",
      "The series we got for example_dict is : \n",
      "1    a\n",
      "2    b\n",
      "3    c\n",
      "4    d\n",
      "5    e\n",
      "dtype: object\n"
     ]
    }
   ],
   "source": [
    "# creating series using dictionary\n",
    "example_dict={1:\"a\",2:\"b\",3:\"c\",4:\"d\",5:\"e\"}\n",
    "print(\"Our original dictionary is : \",example_dict)\n",
    "series_using_dict=pd.Series(example_dict)\n",
    "print(\"The series we got for example_dict is : \")\n",
    "print(series_using_dict)\n",
    "# keys become indices, and dictionary values get assigned to them"
   ]
  },
  {
   "cell_type": "code",
   "execution_count": 10,
   "metadata": {},
   "outputs": [
    {
     "name": "stdout",
     "output_type": "stream",
     "text": [
      "We have dictionary is :  {'a': 0, 'b': 1, 'c': 2, 'd': 3}\n",
      "We have list for indices :  ['b', 'c', 'd', 'a', 'e']\n",
      "Using above data structures we got dictionary is : \n",
      "b    1.0\n",
      "c    2.0\n",
      "d    3.0\n",
      "a    0.0\n",
      "e    NaN\n",
      "dtype: float64\n"
     ]
    }
   ],
   "source": [
    "# observe the code , if indices are more in number, it applies NaN value to extra indices\n",
    "series_using_dict=pd.Series({\"a\":0,\"b\":1,\"c\":2,\"d\":3},index=[\"b\",\"c\",\"d\",\"a\",'e'],dtype=int)\n",
    "print(\"We have dictionary is : \",{\"a\":0,\"b\":1,\"c\":2,\"d\":3})\n",
    "print(\"We have list for indices : \",[\"b\",\"c\",\"d\",\"a\",\"e\"])\n",
    "print(\"Using above data structures we got dictionary is : \")\n",
    "print(series_using_dict)"
   ]
  },
  {
   "cell_type": "code",
   "execution_count": 11,
   "metadata": {},
   "outputs": [
    {
     "name": "stdout",
     "output_type": "stream",
     "text": [
      "Our original series is : \n",
      "b    1.0\n",
      "c    2.0\n",
      "d    3.0\n",
      "a    0.0\n",
      "e    NaN\n",
      "dtype: float64\n",
      "We got 0th index data :  1.0\n",
      "We got \"b\" index data :  1.0\n"
     ]
    }
   ],
   "source": [
    "print(\"Our original series is : \")\n",
    "print(series_using_dict)\n",
    "# accessing series data, using numeric index\n",
    "print(\"We got 0th index data : \",series_using_dict[0])\n",
    "# accessing series data, using user given indices\n",
    "print(\"We got \\\"b\\\" index data : \",series_using_dict[\"b\"])"
   ]
  },
  {
   "cell_type": "code",
   "execution_count": 12,
   "metadata": {},
   "outputs": [
    {
     "name": "stdout",
     "output_type": "stream",
     "text": [
      "Our original series is : \n",
      "b    1.0\n",
      "c    2.0\n",
      "d    3.0\n",
      "a    0.0\n",
      "e    NaN\n",
      "dtype: float64\n",
      "Use of numerical indices for slicing : \n",
      "b    1.0\n",
      "c    2.0\n",
      "d    3.0\n",
      "dtype: float64\n",
      "Use of custom indices for slicing : \n",
      "b    1.0\n",
      "c    2.0\n",
      "d    3.0\n",
      "a    0.0\n",
      "dtype: float64\n",
      "Observe the output : \n",
      "Series([], dtype: float64)\n"
     ]
    }
   ],
   "source": [
    "print(\"Our original series is : \")\n",
    "print(series_using_dict)\n",
    "# accessing series elements with slicing\n",
    "print(\"Use of numerical indices for slicing : \")\n",
    "print(series_using_dict[0:3])\n",
    "print(\"Use of custom indices for slicing : \")\n",
    "print(series_using_dict[\"b\":\"a\"])\n",
    "print(\"Observe the output : \")\n",
    "print(series_using_dict[\"e\":\"b\"])\n",
    "# reason of blank series is left side index should be less than that of right side index"
   ]
  },
  {
   "cell_type": "code",
   "execution_count": 13,
   "metadata": {
    "scrolled": true
   },
   "outputs": [
    {
     "name": "stdout",
     "output_type": "stream",
     "text": [
      "Our original series is : \n",
      "b    1.0\n",
      "c    2.0\n",
      "d    3.0\n",
      "a    0.0\n",
      "e    NaN\n",
      "dtype: float64\n",
      "Using numerical index -ve i.e [-3:] : \n",
      "d    3.0\n",
      "a    0.0\n",
      "e    NaN\n",
      "dtype: float64\n"
     ]
    }
   ],
   "source": [
    "print(\"Our original series is : \")\n",
    "print(series_using_dict)\n",
    "# use of negative slicing to access last elements from series\n",
    "print(\"Using numerical index -ve i.e [-3:] : \")\n",
    "print(series_using_dict[-3:])\n",
    "#print(\"Using custom index : \",series_using_dict[-\"c\"])#error"
   ]
  },
  {
   "cell_type": "code",
   "execution_count": 14,
   "metadata": {
    "scrolled": true
   },
   "outputs": [
    {
     "name": "stdout",
     "output_type": "stream",
     "text": [
      "Our original series is : \n",
      "b    1.0\n",
      "c    2.0\n",
      "d    3.0\n",
      "a    0.0\n",
      "e    NaN\n",
      "dtype: float64\n",
      "Use of head : \n",
      "b    1.0\n",
      "c    2.0\n",
      "d    3.0\n",
      "a    0.0\n",
      "e    NaN\n",
      "dtype: float64\n",
      "Use of head with number of elements given(3) : \n",
      "b    1.0\n",
      "c    2.0\n",
      "d    3.0\n",
      "dtype: float64\n"
     ]
    }
   ],
   "source": [
    "print(\"Our original series is : \")\n",
    "print(series_using_dict)\n",
    "# head gives startin 5 elements from series, we can provide number of elements also\n",
    "print(\"Use of head : \")\n",
    "print(series_using_dict.head())\n",
    "print(\"Use of head with number of elements given(3) : \")\n",
    "print(series_using_dict.head(3))"
   ]
  },
  {
   "cell_type": "code",
   "execution_count": 15,
   "metadata": {},
   "outputs": [
    {
     "name": "stdout",
     "output_type": "stream",
     "text": [
      "Our original series is : \n"
     ]
    },
    {
     "data": {
      "text/plain": [
       "b    1.0\n",
       "c    2.0\n",
       "d    3.0\n",
       "a    0.0\n",
       "e    NaN\n",
       "dtype: float64"
      ]
     },
     "execution_count": 15,
     "metadata": {},
     "output_type": "execute_result"
    }
   ],
   "source": [
    "print(\"Our original series is : \")\n",
    "series_using_dict"
   ]
  },
  {
   "cell_type": "code",
   "execution_count": 16,
   "metadata": {},
   "outputs": [
    {
     "name": "stdout",
     "output_type": "stream",
     "text": [
      "Accessing series element :  1.0\n"
     ]
    }
   ],
   "source": [
    "print(\"Accessing series element : \",series_using_dict[\"b\"])"
   ]
  },
  {
   "cell_type": "code",
   "execution_count": 17,
   "metadata": {},
   "outputs": [
    {
     "name": "stdout",
     "output_type": "stream",
     "text": [
      "Accessing series element :  nan\n"
     ]
    }
   ],
   "source": [
    "print(\"Accessing series element : \",series_using_dict[\"e\"])"
   ]
  },
  {
   "cell_type": "markdown",
   "metadata": {},
   "source": [
    "#### Pandas"
   ]
  },
  {
   "cell_type": "code",
   "execution_count": 18,
   "metadata": {},
   "outputs": [
    {
     "name": "stdout",
     "output_type": "stream",
     "text": [
      "Our created dataframe is : \n",
      "   0\n",
      "0  1\n",
      "1  2\n",
      "2  3\n",
      "3  4\n",
      "4  5\n"
     ]
    }
   ],
   "source": [
    "# pd.DataFrame(data,index,columns,dtype)\n",
    "# creating dataframe using pandas\n",
    "# we can take numpy array as data\n",
    "# we can pass series as data in dataframe\n",
    "data_frame=pd.DataFrame([1,2,3,4,5])\n",
    "print(\"Our created dataframe is : \")\n",
    "print(data_frame)"
   ]
  },
  {
   "cell_type": "code",
   "execution_count": 19,
   "metadata": {},
   "outputs": [
    {
     "name": "stdout",
     "output_type": "stream",
     "text": [
      "Using 2D array created data_dataframe : \n",
      "   Name  Age\n",
      "0   Tom   23\n",
      "1  John   25\n",
      "2  Kate   24\n"
     ]
    }
   ],
   "source": [
    "# use of list of list to create 2D array\n",
    "data=[[\"Tom\",23],[\"John\",25],[\"Kate\",24]]\n",
    "col=[\"Name\",\"Age\"]\n",
    "print(\"Using 2D array created data_dataframe : \")\n",
    "data_dataframe=pd.DataFrame(data,columns=col)\n",
    "print(data_dataframe)"
   ]
  },
  {
   "cell_type": "code",
   "execution_count": 20,
   "metadata": {
    "scrolled": true
   },
   "outputs": [
    {
     "name": "stdout",
     "output_type": "stream",
     "text": [
      "Our dictionary is : \n",
      "{'name': ['Tom', 'John', 'Kate'], 'age': [23, 24, 25]}\n",
      "Our dataframe created using above dictionary is : \n",
      "   Name  Age\n",
      "0   Tom   23\n",
      "1  John   25\n",
      "2  Kate   24\n"
     ]
    }
   ],
   "source": [
    "# use of dictionary to create rows and columns\n",
    "dict_one={\"name\":[\"Tom\",\"John\",\"Kate\"],\"age\":[23,24,25]}\n",
    "print(\"Our dictionary is : \")\n",
    "print(dict_one)\n",
    "dataframe_one=pd.DataFrame(dict_one)\n",
    "print(\"Our dataframe created using above dictionary is : \")\n",
    "print(data_dataframe)"
   ]
  },
  {
   "cell_type": "code",
   "execution_count": 21,
   "metadata": {},
   "outputs": [
    {
     "name": "stdout",
     "output_type": "stream",
     "text": [
      "Our original list of dictionaries is : \n",
      "[{'a': 1, 'b': 2}, {'a': 2, 'b': 3, 'c': 4}, {'a': 21, 'b': 31, 'c': 41}, {'a': 52, 'b': 53, 'c': 74}]\n",
      "Our dataframe created using above list of dictionaries is : \n",
      "    a   b     c\n",
      "0   1   2   NaN\n",
      "1   2   3   4.0\n",
      "2  21  31  41.0\n",
      "3  52  53  74.0\n"
     ]
    }
   ],
   "source": [
    "# use of list of dictionaries to create dataframe \n",
    "list_of_dicts=[{\"a\":1,\"b\":2},{\"a\":2,\"b\":3,\"c\":4},{\"a\":21,\"b\":31,\"c\":41},{\"a\":52,\"b\":53,\"c\":74}]\n",
    "print(\"Our original list of dictionaries is : \")\n",
    "print(list_of_dicts)\n",
    "new_df=pd.DataFrame(list_of_dicts)\n",
    "print(\"Our dataframe created using above list of dictionaries is : \")\n",
    "print(new_df)"
   ]
  },
  {
   "cell_type": "code",
   "execution_count": 22,
   "metadata": {},
   "outputs": [
    {
     "name": "stdout",
     "output_type": "stream",
     "text": [
      "Our original dataframe is : \n",
      "    a   b     c\n",
      "0   1   2   NaN\n",
      "1   2   3   4.0\n",
      "2  21  31  41.0\n",
      "3  52  53  74.0\n",
      "Getting particular column from the dataframe, here getting column \"a\" : \n",
      "0     1\n",
      "1     2\n",
      "2    21\n",
      "3    52\n",
      "Name: a, dtype: int64\n"
     ]
    }
   ],
   "source": [
    "# to get particular column value \n",
    "# new_df[\"a\"]\n",
    "print(\"Our original dataframe is : \")\n",
    "print(new_df)\n",
    "print(\"Getting particular column from the dataframe, here getting column \\\"a\\\" : \")\n",
    "print(new_df[\"a\"])"
   ]
  },
  {
   "cell_type": "code",
   "execution_count": 23,
   "metadata": {},
   "outputs": [
    {
     "name": "stdout",
     "output_type": "stream",
     "text": [
      "Our original dataframe is : \n",
      "    a   b     c\n",
      "0   1   2   NaN\n",
      "1   2   3   4.0\n",
      "2  21  31  41.0\n",
      "3  52  53  74.0\n",
      "After adding new column to the above dataframe : \n",
      "    a   b     c  salary\n",
      "0   1   2   NaN  100000\n",
      "1   2   3   4.0  200000\n",
      "2  21  31  41.0  300000\n",
      "3  52  53  74.0  400000\n"
     ]
    }
   ],
   "source": [
    "#adding new column\n",
    "print(\"Our original dataframe is : \")\n",
    "print(new_df)\n",
    "new_df[\"salary\"]=[100000,200000,300000,400000]\n",
    "print(\"After adding new column to the above dataframe : \")\n",
    "print(new_df)"
   ]
  },
  {
   "cell_type": "code",
   "execution_count": 24,
   "metadata": {},
   "outputs": [
    {
     "name": "stdout",
     "output_type": "stream",
     "text": [
      "Our original dataframe is : \n",
      "    a   b     c  salary\n",
      "0   1   2   NaN  100000\n",
      "1   2   3   4.0  200000\n",
      "2  21  31  41.0  300000\n",
      "3  52  53  74.0  400000\n",
      "After deleting salary column from above dataframe is : \n",
      "    a   b     c\n",
      "0   1   2   NaN\n",
      "1   2   3   4.0\n",
      "2  21  31  41.0\n",
      "3  52  53  74.0\n"
     ]
    }
   ],
   "source": [
    "print(\"Our original dataframe is : \")\n",
    "print(new_df)\n",
    "del new_df[\"salary\"]\n",
    "print(\"After deleting salary column from above dataframe is : \")\n",
    "print(new_df)"
   ]
  },
  {
   "cell_type": "code",
   "execution_count": 25,
   "metadata": {},
   "outputs": [
    {
     "name": "stdout",
     "output_type": "stream",
     "text": [
      "Our original dataframe is : \n",
      "    a   b     c\n",
      "0   1   2   NaN\n",
      "1   2   3   4.0\n",
      "2  21  31  41.0\n",
      "3  52  53  74.0\n",
      "Getting 0th row values : \n",
      "a    1.0\n",
      "b    2.0\n",
      "c    NaN\n",
      "Name: 0, dtype: float64\n"
     ]
    }
   ],
   "source": [
    "print(\"Our original dataframe is : \")\n",
    "print(new_df)\n",
    "#printing  particular row values\n",
    "print(\"Getting 0th row values : \")\n",
    "print(new_df.loc[0])"
   ]
  },
  {
   "cell_type": "code",
   "execution_count": 26,
   "metadata": {},
   "outputs": [
    {
     "name": "stdout",
     "output_type": "stream",
     "text": [
      "Our original dataframe is : \n",
      "    a   b     c\n",
      "0   1   2   NaN\n",
      "1   2   3   4.0\n",
      "2  21  31  41.0\n",
      "3  52  53  74.0\n",
      "Getting particular rows new_df.loc[1:2] : \n",
      "    a   b     c\n",
      "1   2   3   4.0\n",
      "2  21  31  41.0\n"
     ]
    }
   ],
   "source": [
    "print(\"Our original dataframe is : \")\n",
    "print(new_df)\n",
    "#printing  particular row values, using slicing\n",
    "print(\"Getting particular rows new_df.loc[1:2] : \")\n",
    "print(new_df.loc[1:2])"
   ]
  },
  {
   "cell_type": "code",
   "execution_count": 27,
   "metadata": {},
   "outputs": [
    {
     "name": "stdout",
     "output_type": "stream",
     "text": [
      "Our original dataframe is : \n",
      "    a   b     c\n",
      "0   1   2   NaN\n",
      "1   2   3   4.0\n",
      "2  21  31  41.0\n",
      "3  52  53  74.0\n",
      "\n",
      "After doing new_df[1:] : \n"
     ]
    },
    {
     "data": {
      "text/html": [
       "<div>\n",
       "<style scoped>\n",
       "    .dataframe tbody tr th:only-of-type {\n",
       "        vertical-align: middle;\n",
       "    }\n",
       "\n",
       "    .dataframe tbody tr th {\n",
       "        vertical-align: top;\n",
       "    }\n",
       "\n",
       "    .dataframe thead th {\n",
       "        text-align: right;\n",
       "    }\n",
       "</style>\n",
       "<table border=\"1\" class=\"dataframe\">\n",
       "  <thead>\n",
       "    <tr style=\"text-align: right;\">\n",
       "      <th></th>\n",
       "      <th>a</th>\n",
       "      <th>b</th>\n",
       "      <th>c</th>\n",
       "    </tr>\n",
       "  </thead>\n",
       "  <tbody>\n",
       "    <tr>\n",
       "      <th>1</th>\n",
       "      <td>2</td>\n",
       "      <td>3</td>\n",
       "      <td>4.0</td>\n",
       "    </tr>\n",
       "    <tr>\n",
       "      <th>2</th>\n",
       "      <td>21</td>\n",
       "      <td>31</td>\n",
       "      <td>41.0</td>\n",
       "    </tr>\n",
       "    <tr>\n",
       "      <th>3</th>\n",
       "      <td>52</td>\n",
       "      <td>53</td>\n",
       "      <td>74.0</td>\n",
       "    </tr>\n",
       "  </tbody>\n",
       "</table>\n",
       "</div>"
      ],
      "text/plain": [
       "    a   b     c\n",
       "1   2   3   4.0\n",
       "2  21  31  41.0\n",
       "3  52  53  74.0"
      ]
     },
     "execution_count": 27,
     "metadata": {},
     "output_type": "execute_result"
    }
   ],
   "source": [
    "print(\"Our original dataframe is : \")\n",
    "print(new_df)\n",
    "print()\n",
    "# getting rows from 1 onwards\n",
    "print(\"After doing new_df[1:] : \")\n",
    "new_df[1:]"
   ]
  },
  {
   "cell_type": "code",
   "execution_count": 28,
   "metadata": {},
   "outputs": [
    {
     "name": "stdout",
     "output_type": "stream",
     "text": [
      "Our original dataframe is : \n",
      "    a   b     c\n",
      "0   1   2   NaN\n",
      "1   2   3   4.0\n",
      "2  21  31  41.0\n",
      "3  52  53  74.0\n",
      "\n",
      "Our newly created dataframe is : \n",
      "  name  age  salary\n",
      "0  Son   28  500000\n",
      "\n",
      "After append we got new dataframe : \n",
      "      a     b     c name   age    salary\n",
      "0   1.0   2.0   NaN  NaN   NaN       NaN\n",
      "1   2.0   3.0   4.0  NaN   NaN       NaN\n",
      "2  21.0  31.0  41.0  NaN   NaN       NaN\n",
      "3  52.0  53.0  74.0  NaN   NaN       NaN\n",
      "0   NaN   NaN   NaN  Son  28.0  500000.0\n"
     ]
    }
   ],
   "source": [
    "print(\"Our original dataframe is : \")\n",
    "print(new_df)\n",
    "print()\n",
    "df_one=pd.DataFrame([[\"Son\",28,500000]],columns = ['name','age',\"salary\"])\n",
    "print(\"Our newly created dataframe is : \")\n",
    "print(df_one)\n",
    "new_df_one=new_df.append(df_one)\n",
    "print()\n",
    "#proper index\n",
    "print(\"After append we got new dataframe : \")\n",
    "print(new_df_one)\n",
    "#print(df_one)"
   ]
  },
  {
   "cell_type": "code",
   "execution_count": 29,
   "metadata": {
    "scrolled": true
   },
   "outputs": [
    {
     "name": "stdout",
     "output_type": "stream",
     "text": [
      "Our original dataframe is : \n",
      "      a     b     c name   age    salary\n",
      "0   1.0   2.0   NaN  NaN   NaN       NaN\n",
      "1   2.0   3.0   4.0  NaN   NaN       NaN\n",
      "2  21.0  31.0  41.0  NaN   NaN       NaN\n",
      "3  52.0  53.0  74.0  NaN   NaN       NaN\n",
      "0   NaN   NaN   NaN  Son  28.0  500000.0\n",
      "\n",
      "After deletion of row 2, we got : \n",
      "      a     b     c name   age    salary\n",
      "0   1.0   2.0   NaN  NaN   NaN       NaN\n",
      "1   2.0   3.0   4.0  NaN   NaN       NaN\n",
      "3  52.0  53.0  74.0  NaN   NaN       NaN\n",
      "0   NaN   NaN   NaN  Son  28.0  500000.0\n"
     ]
    }
   ],
   "source": [
    "print(\"Our original dataframe is : \")\n",
    "print(new_df_one)\n",
    "print()\n",
    "new_df_one=new_df_one.drop(2)\n",
    "print(\"After deletion of row 2, we got : \")\n",
    "print(new_df_one)"
   ]
  },
  {
   "cell_type": "code",
   "execution_count": 30,
   "metadata": {
    "scrolled": true
   },
   "outputs": [
    {
     "data": {
      "text/html": [
       "<div>\n",
       "<style scoped>\n",
       "    .dataframe tbody tr th:only-of-type {\n",
       "        vertical-align: middle;\n",
       "    }\n",
       "\n",
       "    .dataframe tbody tr th {\n",
       "        vertical-align: top;\n",
       "    }\n",
       "\n",
       "    .dataframe thead th {\n",
       "        text-align: right;\n",
       "    }\n",
       "</style>\n",
       "<table border=\"1\" class=\"dataframe\">\n",
       "  <thead>\n",
       "    <tr style=\"text-align: right;\">\n",
       "      <th></th>\n",
       "      <th>a</th>\n",
       "      <th>b</th>\n",
       "      <th>c</th>\n",
       "      <th>name</th>\n",
       "      <th>age</th>\n",
       "      <th>salary</th>\n",
       "    </tr>\n",
       "  </thead>\n",
       "  <tbody>\n",
       "    <tr>\n",
       "      <th>0</th>\n",
       "      <td>1.0</td>\n",
       "      <td>2.0</td>\n",
       "      <td>NaN</td>\n",
       "      <td>NaN</td>\n",
       "      <td>NaN</td>\n",
       "      <td>NaN</td>\n",
       "    </tr>\n",
       "    <tr>\n",
       "      <th>1</th>\n",
       "      <td>2.0</td>\n",
       "      <td>3.0</td>\n",
       "      <td>4.0</td>\n",
       "      <td>NaN</td>\n",
       "      <td>NaN</td>\n",
       "      <td>NaN</td>\n",
       "    </tr>\n",
       "    <tr>\n",
       "      <th>3</th>\n",
       "      <td>52.0</td>\n",
       "      <td>53.0</td>\n",
       "      <td>74.0</td>\n",
       "      <td>NaN</td>\n",
       "      <td>NaN</td>\n",
       "      <td>NaN</td>\n",
       "    </tr>\n",
       "    <tr>\n",
       "      <th>0</th>\n",
       "      <td>NaN</td>\n",
       "      <td>NaN</td>\n",
       "      <td>NaN</td>\n",
       "      <td>Son</td>\n",
       "      <td>28.0</td>\n",
       "      <td>500000.0</td>\n",
       "    </tr>\n",
       "  </tbody>\n",
       "</table>\n",
       "</div>"
      ],
      "text/plain": [
       "      a     b     c name   age    salary\n",
       "0   1.0   2.0   NaN  NaN   NaN       NaN\n",
       "1   2.0   3.0   4.0  NaN   NaN       NaN\n",
       "3  52.0  53.0  74.0  NaN   NaN       NaN\n",
       "0   NaN   NaN   NaN  Son  28.0  500000.0"
      ]
     },
     "execution_count": 30,
     "metadata": {},
     "output_type": "execute_result"
    }
   ],
   "source": [
    "new_df_one"
   ]
  },
  {
   "cell_type": "code",
   "execution_count": 31,
   "metadata": {},
   "outputs": [
    {
     "name": "stdout",
     "output_type": "stream",
     "text": [
      "Data for our dataframe is list : \n",
      "Using 2D array created data_dataframe :  [['Tom', 23], ['John', 25], ['Kate', 24]]\n",
      "Columns of our dataframe are :  ['name', 'age']\n",
      "\n",
      "Using above data structures we got new dataframe : \n",
      "   name  age\n",
      "0   Tom   23\n",
      "1  John   25\n",
      "2  Kate   24\n"
     ]
    }
   ],
   "source": [
    "# list of lists\n",
    "data=[[\"Tom\",23],[\"John\",25],[\"Kate\",24]]\n",
    "col=[\"name\",\"age\"]\n",
    "print(\"Data for our dataframe is list : \",)\n",
    "print(\"Using 2D array created data_dataframe : \",data)\n",
    "print(\"Columns of our dataframe are : \",col)\n",
    "print()\n",
    "print(\"Using above data structures we got new dataframe : \")\n",
    "df=pd.DataFrame(data,columns=col)\n",
    "print(df)"
   ]
  },
  {
   "cell_type": "code",
   "execution_count": 32,
   "metadata": {},
   "outputs": [
    {
     "name": "stdout",
     "output_type": "stream",
     "text": [
      "Our original dataframe is : \n",
      "   name  age\n",
      "0   Tom   23\n",
      "1  John   25\n",
      "2  Kate   24\n",
      "\n",
      "Using df.axes attribute on above dataframe : \n"
     ]
    },
    {
     "data": {
      "text/plain": [
       "[RangeIndex(start=0, stop=3, step=1), Index(['name', 'age'], dtype='object')]"
      ]
     },
     "execution_count": 32,
     "metadata": {},
     "output_type": "execute_result"
    }
   ],
   "source": [
    "# axes attribute access a group of rows and columns by label(s)\n",
    "print(\"Our original dataframe is : \")\n",
    "print(df)\n",
    "print()\n",
    "print(\"Using df.axes attribute on above dataframe : \")\n",
    "df.axes"
   ]
  },
  {
   "cell_type": "code",
   "execution_count": 33,
   "metadata": {},
   "outputs": [
    {
     "name": "stdout",
     "output_type": "stream",
     "text": [
      "Our original dataframe is : \n",
      "   name  age\n",
      "0   Tom   23\n",
      "1  John   25\n",
      "2  Kate   24\n",
      "\n",
      "Using df.shape attribute on above dataframe : \n"
     ]
    },
    {
     "data": {
      "text/plain": [
       "(3, 2)"
      ]
     },
     "execution_count": 33,
     "metadata": {},
     "output_type": "execute_result"
    }
   ],
   "source": [
    "# DataFrame stores the number of rows and columns as a tuple (number of rows, number of columns),\n",
    "# it is also possible to unpack and store them in separate variables\n",
    "print(\"Our original dataframe is : \")\n",
    "print(df)\n",
    "print()\n",
    "print(\"Using df.shape attribute on above dataframe : \")\n",
    "df.shape"
   ]
  },
  {
   "cell_type": "code",
   "execution_count": 34,
   "metadata": {},
   "outputs": [
    {
     "name": "stdout",
     "output_type": "stream",
     "text": [
      "Our original dataframe is : \n",
      "   name  age\n",
      "0   Tom   23\n",
      "1  John   25\n",
      "2  Kate   24\n",
      "\n",
      "Using df.head() method : \n"
     ]
    },
    {
     "data": {
      "text/html": [
       "<div>\n",
       "<style scoped>\n",
       "    .dataframe tbody tr th:only-of-type {\n",
       "        vertical-align: middle;\n",
       "    }\n",
       "\n",
       "    .dataframe tbody tr th {\n",
       "        vertical-align: top;\n",
       "    }\n",
       "\n",
       "    .dataframe thead th {\n",
       "        text-align: right;\n",
       "    }\n",
       "</style>\n",
       "<table border=\"1\" class=\"dataframe\">\n",
       "  <thead>\n",
       "    <tr style=\"text-align: right;\">\n",
       "      <th></th>\n",
       "      <th>name</th>\n",
       "      <th>age</th>\n",
       "    </tr>\n",
       "  </thead>\n",
       "  <tbody>\n",
       "    <tr>\n",
       "      <th>0</th>\n",
       "      <td>Tom</td>\n",
       "      <td>23</td>\n",
       "    </tr>\n",
       "    <tr>\n",
       "      <th>1</th>\n",
       "      <td>John</td>\n",
       "      <td>25</td>\n",
       "    </tr>\n",
       "  </tbody>\n",
       "</table>\n",
       "</div>"
      ],
      "text/plain": [
       "   name  age\n",
       "0   Tom   23\n",
       "1  John   25"
      ]
     },
     "execution_count": 34,
     "metadata": {},
     "output_type": "execute_result"
    }
   ],
   "source": [
    "# head() method is used to return top n (5 by default) rows of a data frame or series\n",
    "print(\"Our original dataframe is : \")\n",
    "print(df)\n",
    "print()\n",
    "print(\"Using df.head() method : \")\n",
    "df.head(2)"
   ]
  },
  {
   "cell_type": "code",
   "execution_count": 35,
   "metadata": {},
   "outputs": [
    {
     "name": "stdout",
     "output_type": "stream",
     "text": [
      "Our original dataframe is : \n",
      "   name  age\n",
      "0   Tom   23\n",
      "1  John   25\n",
      "2  Kate   24\n",
      "\n",
      "Using df.tail() method : \n"
     ]
    },
    {
     "data": {
      "text/html": [
       "<div>\n",
       "<style scoped>\n",
       "    .dataframe tbody tr th:only-of-type {\n",
       "        vertical-align: middle;\n",
       "    }\n",
       "\n",
       "    .dataframe tbody tr th {\n",
       "        vertical-align: top;\n",
       "    }\n",
       "\n",
       "    .dataframe thead th {\n",
       "        text-align: right;\n",
       "    }\n",
       "</style>\n",
       "<table border=\"1\" class=\"dataframe\">\n",
       "  <thead>\n",
       "    <tr style=\"text-align: right;\">\n",
       "      <th></th>\n",
       "      <th>name</th>\n",
       "      <th>age</th>\n",
       "    </tr>\n",
       "  </thead>\n",
       "  <tbody>\n",
       "    <tr>\n",
       "      <th>1</th>\n",
       "      <td>John</td>\n",
       "      <td>25</td>\n",
       "    </tr>\n",
       "    <tr>\n",
       "      <th>2</th>\n",
       "      <td>Kate</td>\n",
       "      <td>24</td>\n",
       "    </tr>\n",
       "  </tbody>\n",
       "</table>\n",
       "</div>"
      ],
      "text/plain": [
       "   name  age\n",
       "1  John   25\n",
       "2  Kate   24"
      ]
     },
     "execution_count": 35,
     "metadata": {},
     "output_type": "execute_result"
    }
   ],
   "source": [
    "# return the last n rows\n",
    "print(\"Our original dataframe is : \")\n",
    "print(df)\n",
    "print()\n",
    "print(\"Using df.tail() method : \")\n",
    "df.tail(2)"
   ]
  },
  {
   "cell_type": "code",
   "execution_count": 36,
   "metadata": {
    "scrolled": true
   },
   "outputs": [
    {
     "name": "stdout",
     "output_type": "stream",
     "text": [
      "Our original dataframe is : \n",
      "   name  age\n",
      "0   Tom   23\n",
      "1  John   25\n",
      "2  Kate   24\n",
      "\n",
      "Use of df.info() on above dataframe : \n",
      "\n",
      "<class 'pandas.core.frame.DataFrame'>\n",
      "RangeIndex: 3 entries, 0 to 2\n",
      "Data columns (total 2 columns):\n",
      " #   Column  Non-Null Count  Dtype \n",
      "---  ------  --------------  ----- \n",
      " 0   name    3 non-null      object\n",
      " 1   age     3 non-null      int64 \n",
      "dtypes: int64(1), object(1)\n",
      "memory usage: 176.0+ bytes\n"
     ]
    }
   ],
   "source": [
    "# info() function is used to get a concise summary of the dataframe\n",
    "print(\"Our original dataframe is : \")\n",
    "print(df)\n",
    "print()\n",
    "print(\"Use of df.info() on above dataframe : \")\n",
    "print()\n",
    "df.info()"
   ]
  },
  {
   "cell_type": "code",
   "execution_count": 37,
   "metadata": {
    "scrolled": true
   },
   "outputs": [
    {
     "name": "stdout",
     "output_type": "stream",
     "text": [
      "Our original dataframe is : \n",
      "   name  age\n",
      "0   Tom   23\n",
      "1  John   25\n",
      "2  Kate   24\n",
      "\n",
      "Use of df.describe() on above dataframe : \n",
      "        age\n",
      "count   3.0\n",
      "mean   24.0\n",
      "std     1.0\n",
      "min    23.0\n",
      "25%    23.5\n",
      "50%    24.0\n",
      "75%    24.5\n",
      "max    25.0\n"
     ]
    }
   ],
   "source": [
    "# describe() is used to view some basic statistical details like percentile, mean, std etc.\n",
    "# of a data frame or a series of numeric values\n",
    "print(\"Our original dataframe is : \")\n",
    "print(df)\n",
    "print()\n",
    "print(\"Use of df.describe() on above dataframe : \")\n",
    "print(df.describe())"
   ]
  },
  {
   "cell_type": "code",
   "execution_count": 38,
   "metadata": {},
   "outputs": [
    {
     "name": "stdout",
     "output_type": "stream",
     "text": [
      "Our original dataframe is : \n",
      "   name  age\n",
      "0   Tom   23\n",
      "1  John   25\n",
      "2  Kate   24\n",
      "\n"
     ]
    },
    {
     "data": {
      "text/plain": [
       "array([23, 25, 24], dtype=int64)"
      ]
     },
     "execution_count": 38,
     "metadata": {},
     "output_type": "execute_result"
    }
   ],
   "source": [
    "# values attribute return a Numpy representation of the given DataFrame\n",
    "print(\"Our original dataframe is : \")\n",
    "print(df)\n",
    "print()\n",
    "df[\"age\"].values"
   ]
  },
  {
   "cell_type": "code",
   "execution_count": 39,
   "metadata": {},
   "outputs": [
    {
     "data": {
      "text/html": [
       "<div>\n",
       "<style scoped>\n",
       "    .dataframe tbody tr th:only-of-type {\n",
       "        vertical-align: middle;\n",
       "    }\n",
       "\n",
       "    .dataframe tbody tr th {\n",
       "        vertical-align: top;\n",
       "    }\n",
       "\n",
       "    .dataframe thead th {\n",
       "        text-align: right;\n",
       "    }\n",
       "</style>\n",
       "<table border=\"1\" class=\"dataframe\">\n",
       "  <thead>\n",
       "    <tr style=\"text-align: right;\">\n",
       "      <th></th>\n",
       "      <th>0</th>\n",
       "      <th>1</th>\n",
       "      <th>2</th>\n",
       "    </tr>\n",
       "  </thead>\n",
       "  <tbody>\n",
       "    <tr>\n",
       "      <th>name</th>\n",
       "      <td>Tom</td>\n",
       "      <td>John</td>\n",
       "      <td>Kate</td>\n",
       "    </tr>\n",
       "    <tr>\n",
       "      <th>age</th>\n",
       "      <td>23</td>\n",
       "      <td>25</td>\n",
       "      <td>24</td>\n",
       "    </tr>\n",
       "  </tbody>\n",
       "</table>\n",
       "</div>"
      ],
      "text/plain": [
       "        0     1     2\n",
       "name  Tom  John  Kate\n",
       "age    23    25    24"
      ]
     },
     "execution_count": 39,
     "metadata": {},
     "output_type": "execute_result"
    }
   ],
   "source": [
    "# transpose of dataframe\n",
    "df.T"
   ]
  },
  {
   "cell_type": "code",
   "execution_count": 40,
   "metadata": {
    "scrolled": true
   },
   "outputs": [
    {
     "data": {
      "text/plain": [
       "name    TomJohnKate\n",
       "age              72\n",
       "dtype: object"
      ]
     },
     "execution_count": 40,
     "metadata": {},
     "output_type": "execute_result"
    }
   ],
   "source": [
    "df.sum()"
   ]
  },
  {
   "cell_type": "raw",
   "metadata": {},
   "source": [
    "Pandas DataFrame. sum() function is used to return the sum of the values for the requested axis by the user. If the input value is an index axis, then it will add all the values in a column and works same for all the columns. It returns a series that contains the sum of all the values in each column."
   ]
  },
  {
   "cell_type": "code",
   "execution_count": 41,
   "metadata": {},
   "outputs": [
    {
     "data": {
      "text/plain": [
       "name    TomJohnKate\n",
       "age              72\n",
       "dtype: object"
      ]
     },
     "execution_count": 41,
     "metadata": {},
     "output_type": "execute_result"
    }
   ],
   "source": [
    "df.sum(0)"
   ]
  },
  {
   "cell_type": "code",
   "execution_count": 42,
   "metadata": {},
   "outputs": [
    {
     "data": {
      "text/plain": [
       "0    23\n",
       "1    25\n",
       "2    24\n",
       "dtype: int64"
      ]
     },
     "execution_count": 42,
     "metadata": {},
     "output_type": "execute_result"
    }
   ],
   "source": [
    "df.sum(1)"
   ]
  },
  {
   "cell_type": "code",
   "execution_count": 43,
   "metadata": {},
   "outputs": [
    {
     "data": {
      "text/plain": [
       "age    24.0\n",
       "dtype: float64"
      ]
     },
     "execution_count": 43,
     "metadata": {},
     "output_type": "execute_result"
    }
   ],
   "source": [
    "df.mean()"
   ]
  },
  {
   "cell_type": "raw",
   "metadata": {},
   "source": [
    "The mean() function is used to return the mean of the values for the requested axis. If we apply this method on a Series object, then it returns a scalar value, which is the mean value of all the observations in the dataframe."
   ]
  },
  {
   "cell_type": "code",
   "execution_count": 44,
   "metadata": {},
   "outputs": [
    {
     "data": {
      "text/plain": [
       "age    1.0\n",
       "dtype: float64"
      ]
     },
     "execution_count": 44,
     "metadata": {},
     "output_type": "execute_result"
    }
   ],
   "source": [
    "# std() function return sample standard deviation over requested axis\n",
    "df.std()"
   ]
  },
  {
   "cell_type": "code",
   "execution_count": 45,
   "metadata": {},
   "outputs": [
    {
     "data": {
      "text/plain": [
       "24.0"
      ]
     },
     "execution_count": 45,
     "metadata": {},
     "output_type": "execute_result"
    }
   ],
   "source": [
    "# applying mean on particular column\n",
    "df[\"age\"].mean()"
   ]
  },
  {
   "cell_type": "code",
   "execution_count": 46,
   "metadata": {},
   "outputs": [
    {
     "data": {
      "text/html": [
       "<div>\n",
       "<style scoped>\n",
       "    .dataframe tbody tr th:only-of-type {\n",
       "        vertical-align: middle;\n",
       "    }\n",
       "\n",
       "    .dataframe tbody tr th {\n",
       "        vertical-align: top;\n",
       "    }\n",
       "\n",
       "    .dataframe thead th {\n",
       "        text-align: right;\n",
       "    }\n",
       "</style>\n",
       "<table border=\"1\" class=\"dataframe\">\n",
       "  <thead>\n",
       "    <tr style=\"text-align: right;\">\n",
       "      <th></th>\n",
       "      <th>name</th>\n",
       "      <th>age</th>\n",
       "    </tr>\n",
       "  </thead>\n",
       "  <tbody>\n",
       "    <tr>\n",
       "      <th>0</th>\n",
       "      <td>Tom</td>\n",
       "      <td>33</td>\n",
       "    </tr>\n",
       "    <tr>\n",
       "      <th>1</th>\n",
       "      <td>John</td>\n",
       "      <td>35</td>\n",
       "    </tr>\n",
       "    <tr>\n",
       "      <th>2</th>\n",
       "      <td>Kate</td>\n",
       "      <td>34</td>\n",
       "    </tr>\n",
       "  </tbody>\n",
       "</table>\n",
       "</div>"
      ],
      "text/plain": [
       "   name  age\n",
       "0   Tom   33\n",
       "1  John   35\n",
       "2  Kate   34"
      ]
     },
     "execution_count": 46,
     "metadata": {},
     "output_type": "execute_result"
    }
   ],
   "source": [
    "df[\"age\"]=df[\"age\"]+10\n",
    "df\n",
    "#use lamda function for this"
   ]
  },
  {
   "cell_type": "code",
   "execution_count": 47,
   "metadata": {},
   "outputs": [
    {
     "data": {
      "text/plain": [
       "3"
      ]
     },
     "execution_count": 47,
     "metadata": {},
     "output_type": "execute_result"
    }
   ],
   "source": [
    "# getting number of datapoints in particular axis\n",
    "len(df[\"name\"])"
   ]
  },
  {
   "cell_type": "code",
   "execution_count": 48,
   "metadata": {},
   "outputs": [
    {
     "name": "stdout",
     "output_type": "stream",
     "text": [
      "Our original dataframe is : \n",
      "   name  age\n",
      "0   Tom   33\n",
      "1  John   35\n",
      "2  Kate   34\n",
      "Our modified dataframe is : \n",
      "   name  age  len of name\n",
      "0   Tom   33            3\n",
      "1  John   35            4\n",
      "2  Kate   34            4\n"
     ]
    }
   ],
   "source": [
    "print(\"Our original dataframe is : \")\n",
    "print(df)\n",
    "# adding new column in our original dataframe\n",
    "df[\"len of name\"]=df[\"name\"].map(lambda x:len(x))\n",
    "print(\"Our modified dataframe is : \")\n",
    "print(df)"
   ]
  },
  {
   "cell_type": "code",
   "execution_count": 49,
   "metadata": {},
   "outputs": [
    {
     "data": {
      "text/html": [
       "<div>\n",
       "<style scoped>\n",
       "    .dataframe tbody tr th:only-of-type {\n",
       "        vertical-align: middle;\n",
       "    }\n",
       "\n",
       "    .dataframe tbody tr th {\n",
       "        vertical-align: top;\n",
       "    }\n",
       "\n",
       "    .dataframe thead th {\n",
       "        text-align: right;\n",
       "    }\n",
       "</style>\n",
       "<table border=\"1\" class=\"dataframe\">\n",
       "  <thead>\n",
       "    <tr style=\"text-align: right;\">\n",
       "      <th></th>\n",
       "      <th>name</th>\n",
       "      <th>age</th>\n",
       "      <th>len of name</th>\n",
       "    </tr>\n",
       "  </thead>\n",
       "  <tbody>\n",
       "    <tr>\n",
       "      <th>0</th>\n",
       "      <td>Tom</td>\n",
       "      <td>33</td>\n",
       "      <td>3</td>\n",
       "    </tr>\n",
       "    <tr>\n",
       "      <th>1</th>\n",
       "      <td>John</td>\n",
       "      <td>35</td>\n",
       "      <td>4</td>\n",
       "    </tr>\n",
       "    <tr>\n",
       "      <th>2</th>\n",
       "      <td>Kate</td>\n",
       "      <td>34</td>\n",
       "      <td>4</td>\n",
       "    </tr>\n",
       "  </tbody>\n",
       "</table>\n",
       "</div>"
      ],
      "text/plain": [
       "   name  age  len of name\n",
       "0   Tom   33            3\n",
       "1  John   35            4\n",
       "2  Kate   34            4"
      ]
     },
     "execution_count": 49,
     "metadata": {},
     "output_type": "execute_result"
    }
   ],
   "source": [
    "df"
   ]
  }
 ],
 "metadata": {
  "kernelspec": {
   "display_name": "Python 3",
   "language": "python",
   "name": "python3"
  },
  "language_info": {
   "codemirror_mode": {
    "name": "ipython",
    "version": 3
   },
   "file_extension": ".py",
   "mimetype": "text/x-python",
   "name": "python",
   "nbconvert_exporter": "python",
   "pygments_lexer": "ipython3",
   "version": "3.7.6"
  }
 },
 "nbformat": 4,
 "nbformat_minor": 4
}
