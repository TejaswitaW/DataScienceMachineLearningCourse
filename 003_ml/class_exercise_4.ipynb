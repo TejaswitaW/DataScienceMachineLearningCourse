{
 "cells": [
  {
   "cell_type": "raw",
   "metadata": {},
   "source": [
    "Q.4.Divide data according to year (in two fragments) and see revenue in scatter plot.Take rating on x-axis."
   ]
  },
  {
   "cell_type": "code",
   "execution_count": 1,
   "metadata": {},
   "outputs": [],
   "source": [
    "# import required library\n",
    "import pandas as pd\n",
    "import matplotlib.pyplot as plt\n",
    "import seaborn as sns\n",
    "%matplotlib inline"
   ]
  },
  {
   "cell_type": "code",
   "execution_count": 2,
   "metadata": {},
   "outputs": [],
   "source": [
    "# creating pandas dataframe\n",
    "original_dataframe=pd.read_csv(\"IMDB-Movie-Data.csv\")"
   ]
  },
  {
   "cell_type": "code",
   "execution_count": 3,
   "metadata": {},
   "outputs": [],
   "source": [
    "# converting all column names into lower case\n",
    "original_dataframe.columns=[col.lower() for col in original_dataframe]"
   ]
  },
  {
   "cell_type": "code",
   "execution_count": 4,
   "metadata": {},
   "outputs": [
    {
     "data": {
      "text/plain": [
       "Index(['rank', 'title', 'genre', 'description', 'director', 'actors', 'year',\n",
       "       'runtime (minutes)', 'rating', 'votes', 'revenue (millions)',\n",
       "       'metascore'],\n",
       "      dtype='object')"
      ]
     },
     "execution_count": 4,
     "metadata": {},
     "output_type": "execute_result"
    }
   ],
   "source": [
    "# getting names of columns\n",
    "original_dataframe.columns"
   ]
  },
  {
   "cell_type": "code",
   "execution_count": 5,
   "metadata": {
    "scrolled": true
   },
   "outputs": [
    {
     "name": "stdout",
     "output_type": "stream",
     "text": [
      "<class 'pandas.core.frame.DataFrame'>\n",
      "RangeIndex: 1000 entries, 0 to 999\n",
      "Data columns (total 12 columns):\n",
      " #   Column              Non-Null Count  Dtype  \n",
      "---  ------              --------------  -----  \n",
      " 0   rank                1000 non-null   int64  \n",
      " 1   title               1000 non-null   object \n",
      " 2   genre               1000 non-null   object \n",
      " 3   description         1000 non-null   object \n",
      " 4   director            1000 non-null   object \n",
      " 5   actors              1000 non-null   object \n",
      " 6   year                1000 non-null   int64  \n",
      " 7   runtime (minutes)   1000 non-null   int64  \n",
      " 8   rating              1000 non-null   float64\n",
      " 9   votes               1000 non-null   int64  \n",
      " 10  revenue (millions)  872 non-null    float64\n",
      " 11  metascore           936 non-null    float64\n",
      "dtypes: float64(3), int64(4), object(5)\n",
      "memory usage: 93.9+ KB\n"
     ]
    }
   ],
   "source": [
    "# observing null values and datatypes of data in dataframe\n",
    "original_dataframe.info()"
   ]
  },
  {
   "cell_type": "raw",
   "metadata": {},
   "source": [
    "Before proceeding to our actual problem , in above output we can see there are null values in revenue (millions) and metascore, first we need to fill those values.Refere assignment one.We will fill null values based on genre."
   ]
  },
  {
   "cell_type": "code",
   "execution_count": 6,
   "metadata": {},
   "outputs": [],
   "source": [
    "# grouping data according to genre and taking revenue (millions) mean\n",
    "genre_group_revenue=original_dataframe.groupby(\"genre\",as_index=False)[\"revenue (millions)\"].mean()"
   ]
  },
  {
   "cell_type": "code",
   "execution_count": 7,
   "metadata": {},
   "outputs": [
    {
     "data": {
      "text/plain": [
       "Index(['genre', 'revenue (millions)'], dtype='object')"
      ]
     },
     "execution_count": 7,
     "metadata": {},
     "output_type": "execute_result"
    }
   ],
   "source": [
    "# names of attributes in group \n",
    "# this group is dataframe\n",
    "genre_group_revenue.columns"
   ]
  },
  {
   "cell_type": "code",
   "execution_count": 8,
   "metadata": {},
   "outputs": [
    {
     "data": {
      "text/plain": [
       "0      131.560000\n",
       "1      223.740000\n",
       "2       16.500000\n",
       "3       95.733571\n",
       "4       90.620000\n",
       "          ...    \n",
       "202     62.450000\n",
       "203     20.760000\n",
       "204     64.510000\n",
       "205      0.320000\n",
       "206           NaN\n",
       "Name: revenue (millions), Length: 207, dtype: float64"
      ]
     },
     "execution_count": 8,
     "metadata": {},
     "output_type": "execute_result"
    }
   ],
   "source": [
    "# checking mean value i.e revenue (millions) column, we got from above code\n",
    "genre_group_revenue[\"revenue (millions)\"]"
   ]
  },
  {
   "cell_type": "code",
   "execution_count": 9,
   "metadata": {},
   "outputs": [
    {
     "data": {
      "text/html": [
       "<div>\n",
       "<style scoped>\n",
       "    .dataframe tbody tr th:only-of-type {\n",
       "        vertical-align: middle;\n",
       "    }\n",
       "\n",
       "    .dataframe tbody tr th {\n",
       "        vertical-align: top;\n",
       "    }\n",
       "\n",
       "    .dataframe thead th {\n",
       "        text-align: right;\n",
       "    }\n",
       "</style>\n",
       "<table border=\"1\" class=\"dataframe\">\n",
       "  <thead>\n",
       "    <tr style=\"text-align: right;\">\n",
       "      <th></th>\n",
       "      <th>genre</th>\n",
       "      <th>revenue (millions)</th>\n",
       "    </tr>\n",
       "  </thead>\n",
       "  <tbody>\n",
       "    <tr>\n",
       "      <th>0</th>\n",
       "      <td>Action</td>\n",
       "      <td>131.560000</td>\n",
       "    </tr>\n",
       "    <tr>\n",
       "      <th>1</th>\n",
       "      <td>Action,Adventure</td>\n",
       "      <td>223.740000</td>\n",
       "    </tr>\n",
       "    <tr>\n",
       "      <th>2</th>\n",
       "      <td>Action,Adventure,Biography</td>\n",
       "      <td>16.500000</td>\n",
       "    </tr>\n",
       "    <tr>\n",
       "      <th>3</th>\n",
       "      <td>Action,Adventure,Comedy</td>\n",
       "      <td>95.733571</td>\n",
       "    </tr>\n",
       "    <tr>\n",
       "      <th>4</th>\n",
       "      <td>Action,Adventure,Crime</td>\n",
       "      <td>90.620000</td>\n",
       "    </tr>\n",
       "    <tr>\n",
       "      <th>...</th>\n",
       "      <td>...</td>\n",
       "      <td>...</td>\n",
       "    </tr>\n",
       "    <tr>\n",
       "      <th>202</th>\n",
       "      <td>Romance,Sci-Fi,Thriller</td>\n",
       "      <td>62.450000</td>\n",
       "    </tr>\n",
       "    <tr>\n",
       "      <th>203</th>\n",
       "      <td>Sci-Fi</td>\n",
       "      <td>20.760000</td>\n",
       "    </tr>\n",
       "    <tr>\n",
       "      <th>204</th>\n",
       "      <td>Sci-Fi,Thriller</td>\n",
       "      <td>64.510000</td>\n",
       "    </tr>\n",
       "    <tr>\n",
       "      <th>205</th>\n",
       "      <td>Thriller</td>\n",
       "      <td>0.320000</td>\n",
       "    </tr>\n",
       "    <tr>\n",
       "      <th>206</th>\n",
       "      <td>Thriller,War</td>\n",
       "      <td>NaN</td>\n",
       "    </tr>\n",
       "  </tbody>\n",
       "</table>\n",
       "<p>207 rows × 2 columns</p>\n",
       "</div>"
      ],
      "text/plain": [
       "                          genre  revenue (millions)\n",
       "0                        Action          131.560000\n",
       "1              Action,Adventure          223.740000\n",
       "2    Action,Adventure,Biography           16.500000\n",
       "3       Action,Adventure,Comedy           95.733571\n",
       "4        Action,Adventure,Crime           90.620000\n",
       "..                          ...                 ...\n",
       "202     Romance,Sci-Fi,Thriller           62.450000\n",
       "203                      Sci-Fi           20.760000\n",
       "204             Sci-Fi,Thriller           64.510000\n",
       "205                    Thriller            0.320000\n",
       "206                Thriller,War                 NaN\n",
       "\n",
       "[207 rows x 2 columns]"
      ]
     },
     "execution_count": 9,
     "metadata": {},
     "output_type": "execute_result"
    }
   ],
   "source": [
    "# checking dataframe\n",
    "genre_group_revenue"
   ]
  },
  {
   "cell_type": "code",
   "execution_count": 10,
   "metadata": {},
   "outputs": [
    {
     "data": {
      "text/plain": [
       "genre                  0\n",
       "revenue (millions)    12\n",
       "dtype: int64"
      ]
     },
     "execution_count": 10,
     "metadata": {},
     "output_type": "execute_result"
    }
   ],
   "source": [
    "# it gives null value count in each column\n",
    "genre_group_revenue.isnull().sum()"
   ]
  },
  {
   "cell_type": "raw",
   "metadata": {},
   "source": [
    "First we need to replace those null values in revenue (millions) with the mean of values of revenue (millions)"
   ]
  },
  {
   "cell_type": "code",
   "execution_count": 11,
   "metadata": {},
   "outputs": [
    {
     "name": "stdout",
     "output_type": "stream",
     "text": [
      "Action 131.56\n",
      "Action,Adventure 223.73999999999998\n",
      "Action,Adventure,Biography 16.5\n",
      "Action,Adventure,Comedy 95.73357142857141\n",
      "Action,Adventure,Crime 90.62\n",
      "Action,Adventure,Drama 77.32166666666666\n",
      "Action,Adventure,Family 112.86666666666666\n",
      "Action,Adventure,Fantasy 201.85730769230776\n",
      "Action,Adventure,Horror 131.24\n",
      "Action,Adventure,Mystery 150.344\n",
      "Action,Adventure,Romance 23.47\n",
      "Action,Adventure,Sci-Fi 209.23020000000005\n",
      "Action,Adventure,Thriller 158.12363636363636\n",
      "Action,Adventure,Western 91.33500000000001\n",
      "Action,Biography,Crime 0.1\n",
      "Action,Biography,Drama 100.65285714285713\n",
      "Action,Comedy 58.79\n",
      "Action,Comedy,Crime 92.41083333333334\n",
      "Action,Comedy,Drama 2.87\n",
      "Action,Comedy,Family 78.75\n",
      "Action,Comedy,Fantasy 55.873333333333335\n",
      "Action,Comedy,Horror 3.64\n",
      "Action,Comedy,Mystery 23.62\n",
      "Action,Comedy,Romance 27.395\n",
      "Action,Comedy,Sci-Fi 26.0\n",
      "Action,Comedy,Sport 148.21\n",
      "Action,Crime,Drama 84.13125000000001\n",
      "Action,Crime,Fantasy 134.57\n",
      "Action,Crime,Mystery 67.37\n",
      "Action,Crime,Sci-Fi 58.61\n",
      "Action,Crime,Sport 28.77\n",
      "Action,Crime,Thriller 109.16272727272727\n",
      "Action,Drama,Family 131.025\n",
      "Action,Drama,Fantasy 81.93666666666667\n",
      "Action,Drama,History 34.473333333333336\n",
      "Action,Drama,Horror 2.13\n",
      "Action,Drama,Mystery 107.5\n",
      "Action,Drama,Romance 39.725\n",
      "Action,Drama,Sci-Fi 61.71666666666667\n",
      "Action,Drama,Sport 19.25\n",
      "Action,Drama,Thriller 42.73499999999999\n",
      "Action,Drama,War 85.71\n",
      "Action,Fantasy 36.38\n",
      "Action,Fantasy,Horror 44.55333333333334\n",
      "Action,Fantasy,Thriller 115.8\n",
      "Action,Fantasy,War 210.59\n",
      "Action,Horror nan\n",
      "Action,Horror,Mystery 10.33\n",
      "Action,Horror,Romance 10.91\n",
      "Action,Horror,Sci-Fi 54.004\n",
      "Action,Horror,Thriller 17.595\n",
      "Action,Mystery,Sci-Fi 57.345\n",
      "Action,Mystery,Thriller 129.78\n",
      "Action,Sci-Fi 232.77999999999997\n",
      "Action,Sci-Fi,Thriller 73.25\n",
      "Action,Thriller 137.13625\n",
      "Action,Thriller,War 42.72\n",
      "Adventure 0.15\n",
      "Adventure,Biography nan\n",
      "Adventure,Biography,Crime 10.14\n",
      "Adventure,Biography,Drama 20.01\n",
      "Adventure,Comedy 58.88\n",
      "Adventure,Comedy,Drama 37.973749999999995\n",
      "Adventure,Comedy,Family 96.875\n",
      "Adventure,Comedy,Fantasy 21.56\n",
      "Adventure,Comedy,Horror 75.59\n",
      "Adventure,Comedy,Romance 63.635000000000005\n",
      "Adventure,Comedy,Sci-Fi 18.904999999999998\n",
      "Adventure,Crime,Mystery 38.56\n",
      "Adventure,Drama 0.06\n",
      "Adventure,Drama,Family 151.8225\n",
      "Adventure,Drama,Fantasy 276.008\n",
      "Adventure,Drama,History 7.08\n",
      "Adventure,Drama,Horror 66.01\n",
      "Adventure,Drama,Romance 74.78\n",
      "Adventure,Drama,Sci-Fi 208.21\n",
      "Adventure,Drama,Thriller 82.74333333333333\n",
      "Adventure,Drama,War 120.52\n",
      "Adventure,Drama,Western 171.03\n",
      "Adventure,Family 42.65\n",
      "Adventure,Family,Fantasy 157.24785714285716\n",
      "Adventure,Fantasy 272.1566666666667\n",
      "Adventure,Fantasy,Mystery 7.69\n",
      "Adventure,Horror 7.19\n",
      "Adventure,Horror,Mystery 46.98\n",
      "Adventure,Mystery,Sci-Fi 138.645\n",
      "Adventure,Sci-Fi,Thriller 180.55999999999997\n",
      "Animation,Action,Adventure 195.47333333333333\n",
      "Animation,Action,Comedy 148.34\n",
      "Animation,Adventure,Comedy 221.33653846153845\n",
      "Animation,Adventure,Family 135.915\n",
      "Animation,Comedy,Drama 0.29\n",
      "Animation,Comedy,Family 194.43\n",
      "Animation,Drama,Fantasy 4.68\n",
      "Animation,Drama,Romance nan\n",
      "Animation,Family,Fantasy 75.28\n",
      "Animation,Fantasy 0.92\n",
      "Biography,Comedy,Crime 116.87\n",
      "Biography,Comedy,Drama 34.98666666666667\n",
      "Biography,Crime,Drama 48.042500000000004\n",
      "Biography,Drama 53.39785714285714\n",
      "Biography,Drama,Family 61.69\n",
      "Biography,Drama,History 71.37307692307692\n",
      "Biography,Drama,Mystery 35.71\n",
      "Biography,Drama,Romance 15.05\n",
      "Biography,Drama,Sport 73.80749999999999\n",
      "Biography,Drama,Thriller 73.23333333333333\n",
      "Biography,History,Thriller 2.96\n",
      "Comedy 74.68499999999999\n",
      "Comedy,Crime 85.53\n",
      "Comedy,Crime,Drama 25.72714285714286\n",
      "Comedy,Crime,Thriller 36.92\n",
      "Comedy,Drama 33.035000000000004\n",
      "Comedy,Drama,Family 89.62666666666667\n",
      "Comedy,Drama,Fantasy 15.29\n",
      "Comedy,Drama,Horror 2.0100000000000002\n",
      "Comedy,Drama,Music 52.192499999999995\n",
      "Comedy,Drama,Musical 38.51\n",
      "Comedy,Drama,Romance 40.32181818181818\n",
      "Comedy,Drama,Thriller 3.08\n",
      "Comedy,Family 76.592\n",
      "Comedy,Family,Fantasy 19.64\n",
      "Comedy,Family,Musical 143.7\n",
      "Comedy,Family,Romance 59.57\n",
      "Comedy,Fantasy 160.05\n",
      "Comedy,Fantasy,Horror 41.519999999999996\n",
      "Comedy,Fantasy,Romance 56.82\n",
      "Comedy,Horror 8.209999999999999\n",
      "Comedy,Horror,Romance 66.36\n",
      "Comedy,Horror,Sci-Fi 7.77\n",
      "Comedy,Horror,Thriller 45.035\n",
      "Comedy,Music 96.41499999999999\n",
      "Comedy,Music,Romance 65.0\n",
      "Comedy,Mystery 30.0\n",
      "Comedy,Romance 53.004782608695656\n",
      "Comedy,Romance,Sport 2.34\n",
      "Comedy,Romance,Western 42.62\n",
      "Comedy,Sci-Fi nan\n",
      "Comedy,Western nan\n",
      "Crime,Drama 35.84375\n",
      "Crime,Drama,Fantasy 2.21\n",
      "Crime,Drama,History 39.019999999999996\n",
      "Crime,Drama,Horror 1.29\n",
      "Crime,Drama,Music 65.27\n",
      "Crime,Drama,Mystery 38.92333333333334\n",
      "Crime,Drama,Thriller 41.93388888888889\n",
      "Crime,Horror,Thriller 30.84\n",
      "Crime,Mystery,Thriller 117.7\n",
      "Crime,Thriller 117.14\n",
      "Drama 27.546451612903223\n",
      "Drama,Family nan\n",
      "Drama,Family,Fantasy 201.15\n",
      "Drama,Family,Music 1.2\n",
      "Drama,Fantasy 8.515\n",
      "Drama,Fantasy,Horror 8.037999999999998\n",
      "Drama,Fantasy,Music 50.46\n",
      "Drama,Fantasy,Musical 24.34\n",
      "Drama,Fantasy,Mystery 42.27\n",
      "Drama,Fantasy,Romance 95.21749999999999\n",
      "Drama,Fantasy,Thriller 43.98\n",
      "Drama,Fantasy,War 37.62\n",
      "Drama,History 40.22\n",
      "Drama,History,Thriller 53.897499999999994\n",
      "Drama,History,War 0.86\n",
      "Drama,Horror 9.275\n",
      "Drama,Horror,Musical 52.88\n",
      "Drama,Horror,Mystery 38.52333333333333\n",
      "Drama,Horror,Sci-Fi 58.68599999999999\n",
      "Drama,Horror,Thriller 16.11\n",
      "Drama,Music 20.30666666666667\n",
      "Drama,Music,Romance 30.799999999999997\n",
      "Drama,Musical,Romance 148.78\n",
      "Drama,Mystery,Romance 27.98833333333333\n",
      "Drama,Mystery,Sci-Fi 37.547999999999995\n",
      "Drama,Mystery,Thriller 19.584999999999997\n",
      "Drama,Mystery,War 6.86\n",
      "Drama,Romance 30.683666666666657\n",
      "Drama,Romance,Sci-Fi 17.7525\n",
      "Drama,Romance,Thriller 118.75\n",
      "Drama,Romance,War nan\n",
      "Drama,Sci-Fi 18.62\n",
      "Drama,Sci-Fi,Thriller 103.12666666666667\n",
      "Drama,Sport 77.46666666666665\n",
      "Drama,Thriller 27.6375\n",
      "Drama,Thriller,War 18.7\n",
      "Drama,War 5.375\n",
      "Drama,Western 162.8\n",
      "Fantasy,Horror 63.11\n",
      "Fantasy,Horror,Thriller nan\n",
      "Fantasy,Mystery,Thriller nan\n",
      "Horror 37.05285714285714\n",
      "Horror,Mystery 25.635\n",
      "Horror,Mystery,Sci-Fi 0.15\n",
      "Horror,Mystery,Thriller 72.57\n",
      "Horror,Sci-Fi,Thriller 34.165\n",
      "Horror,Thriller 34.04083333333333\n",
      "Mystery,Romance,Sci-Fi 54.7\n",
      "Mystery,Romance,Thriller 5.98\n",
      "Mystery,Sci-Fi,Thriller 68.76333333333334\n",
      "Mystery,Thriller 73.53333333333333\n",
      "Mystery,Thriller,Western nan\n",
      "Romance,Sci-Fi nan\n",
      "Romance,Sci-Fi,Thriller 62.45\n",
      "Sci-Fi 20.76\n",
      "Sci-Fi,Thriller 64.51\n",
      "Thriller 0.32\n",
      "Thriller,War nan\n"
     ]
    }
   ],
   "source": [
    "# this gives genre name and its corresonding mean value\n",
    "# we can observe some mean have nan value\n",
    "for i in genre_group_revenue.index:\n",
    "    print(genre_group_revenue[\"genre\"][i],genre_group_revenue[\"revenue (millions)\"][i])"
   ]
  },
  {
   "cell_type": "code",
   "execution_count": 12,
   "metadata": {},
   "outputs": [],
   "source": [
    "# calculating mean value of revenue (millions)\n",
    "mean_revenue_value=genre_group_revenue[\"revenue (millions)\"].mean()"
   ]
  },
  {
   "cell_type": "code",
   "execution_count": 13,
   "metadata": {},
   "outputs": [
    {
     "data": {
      "text/plain": [
       "66.02433967963796"
      ]
     },
     "execution_count": 13,
     "metadata": {},
     "output_type": "execute_result"
    }
   ],
   "source": [
    "# mean value\n",
    "mean_revenue_value"
   ]
  },
  {
   "cell_type": "code",
   "execution_count": 14,
   "metadata": {},
   "outputs": [],
   "source": [
    "# replacing nan values with mean value of revenue (millions)\n",
    "genre_group_revenue[\"revenue (millions)\"].fillna(mean_revenue_value,inplace=True)"
   ]
  },
  {
   "cell_type": "code",
   "execution_count": 15,
   "metadata": {},
   "outputs": [
    {
     "name": "stdout",
     "output_type": "stream",
     "text": [
      "<class 'pandas.core.frame.DataFrame'>\n",
      "Int64Index: 207 entries, 0 to 206\n",
      "Data columns (total 2 columns):\n",
      " #   Column              Non-Null Count  Dtype  \n",
      "---  ------              --------------  -----  \n",
      " 0   genre               207 non-null    object \n",
      " 1   revenue (millions)  207 non-null    float64\n",
      "dtypes: float64(1), object(1)\n",
      "memory usage: 14.9+ KB\n"
     ]
    }
   ],
   "source": [
    "# now we can observe there are no nan values in revenue (millions)\n",
    "genre_group_revenue.info()"
   ]
  },
  {
   "cell_type": "code",
   "execution_count": 16,
   "metadata": {},
   "outputs": [],
   "source": [
    "# I have to create dictionary with genre and revenue value without any null value\n",
    "# created dictionary which has genre name as key and its corresponding mean revenue (millions) as \n",
    "# its value \n",
    "data_dict={}\n",
    "for i in genre_group_revenue.index:\n",
    "    data_dict[genre_group_revenue[\"genre\"][i]]=genre_group_revenue[\"revenue (millions)\"][i]\n",
    "#print(data_dict)"
   ]
  },
  {
   "cell_type": "raw",
   "metadata": {},
   "source": [
    "Next task is ,I want ot traverse on original dataframe and replace null values in revenue (millions) attribute with corresponding mean value of genre."
   ]
  },
  {
   "cell_type": "code",
   "execution_count": 17,
   "metadata": {},
   "outputs": [
    {
     "name": "stderr",
     "output_type": "stream",
     "text": [
      "c:\\users\\tejaswita\\appdata\\local\\programs\\python\\python37\\lib\\site-packages\\ipykernel_launcher.py:6: SettingWithCopyWarning: \n",
      "A value is trying to be set on a copy of a slice from a DataFrame\n",
      "\n",
      "See the caveats in the documentation: https://pandas.pydata.org/pandas-docs/stable/user_guide/indexing.html#returning-a-view-versus-a-copy\n",
      "  \n"
     ]
    }
   ],
   "source": [
    "# it traverse on every row\n",
    "# observe here we are doing changes in original dataframe \n",
    "for i in original_dataframe.index:\n",
    "    # if revenue value is null then replace it with mean value of its corresponding genre\n",
    "    if pd.isnull(original_dataframe[\"revenue (millions)\"][i]):\n",
    "        original_dataframe[\"revenue (millions)\"][i]=data_dict[original_dataframe[\"genre\"][i]] \n",
    "        #print(original_dataframe[\"genre\"][i],data_dict[original_dataframe[\"genre\"][i]])"
   ]
  },
  {
   "cell_type": "code",
   "execution_count": 18,
   "metadata": {},
   "outputs": [
    {
     "name": "stdout",
     "output_type": "stream",
     "text": [
      "<class 'pandas.core.frame.DataFrame'>\n",
      "RangeIndex: 1000 entries, 0 to 999\n",
      "Data columns (total 12 columns):\n",
      " #   Column              Non-Null Count  Dtype  \n",
      "---  ------              --------------  -----  \n",
      " 0   rank                1000 non-null   int64  \n",
      " 1   title               1000 non-null   object \n",
      " 2   genre               1000 non-null   object \n",
      " 3   description         1000 non-null   object \n",
      " 4   director            1000 non-null   object \n",
      " 5   actors              1000 non-null   object \n",
      " 6   year                1000 non-null   int64  \n",
      " 7   runtime (minutes)   1000 non-null   int64  \n",
      " 8   rating              1000 non-null   float64\n",
      " 9   votes               1000 non-null   int64  \n",
      " 10  revenue (millions)  1000 non-null   float64\n",
      " 11  metascore           936 non-null    float64\n",
      "dtypes: float64(3), int64(4), object(5)\n",
      "memory usage: 93.9+ KB\n"
     ]
    }
   ],
   "source": [
    "# now we can see that we dont have null values in revenue column\n",
    "# in original dataframe\n",
    "original_dataframe.info()"
   ]
  },
  {
   "cell_type": "markdown",
   "metadata": {},
   "source": [
    "##### Replacing nan value in metascore column"
   ]
  },
  {
   "cell_type": "code",
   "execution_count": 19,
   "metadata": {},
   "outputs": [
    {
     "name": "stdout",
     "output_type": "stream",
     "text": [
      "                          genre  metascore\n",
      "0                        Action  37.000000\n",
      "1              Action,Adventure  57.333333\n",
      "2    Action,Adventure,Biography  62.500000\n",
      "3       Action,Adventure,Comedy  47.214286\n",
      "4        Action,Adventure,Crime  48.333333\n",
      "..                          ...        ...\n",
      "202     Romance,Sci-Fi,Thriller        NaN\n",
      "203                      Sci-Fi  53.000000\n",
      "204             Sci-Fi,Thriller  34.000000\n",
      "205                    Thriller  59.714286\n",
      "206                Thriller,War  40.000000\n",
      "\n",
      "[207 rows x 2 columns]\n",
      "<class 'pandas.core.frame.DataFrame'>\n"
     ]
    }
   ],
   "source": [
    "# splitting dataset into groups\n",
    "genre_group_metascore=original_dataframe.groupby(\"genre\",as_index=False)[\"metascore\"].mean()\n",
    "print(genre_group_metascore)\n",
    "print(type(genre_group_metascore))\n",
    "# we got 207 rows ,as we have 207 genre\n",
    "# without as_index=False, it returns a Series instead"
   ]
  },
  {
   "cell_type": "code",
   "execution_count": 20,
   "metadata": {},
   "outputs": [
    {
     "name": "stdout",
     "output_type": "stream",
     "text": [
      "<class 'pandas.core.frame.DataFrame'>\n",
      "Int64Index: 207 entries, 0 to 206\n",
      "Data columns (total 2 columns):\n",
      " #   Column     Non-Null Count  Dtype  \n",
      "---  ------     --------------  -----  \n",
      " 0   genre      207 non-null    object \n",
      " 1   metascore  200 non-null    float64\n",
      "dtypes: float64(1), object(1)\n",
      "memory usage: 4.9+ KB\n"
     ]
    }
   ],
   "source": [
    "# observing dataframe after groupby , we got\n",
    "genre_group_metascore.info()"
   ]
  },
  {
   "cell_type": "raw",
   "metadata": {},
   "source": [
    "Above output shows that we got 200 mean of metascore,we have 7 null values for metascore, we will replace those nan values with mean of mean of corresponding metascore"
   ]
  },
  {
   "cell_type": "code",
   "execution_count": 21,
   "metadata": {},
   "outputs": [],
   "source": [
    "# calculating mean of metascore\n",
    "mean_value=genre_group_metascore[\"metascore\"].mean()"
   ]
  },
  {
   "cell_type": "code",
   "execution_count": 22,
   "metadata": {},
   "outputs": [
    {
     "data": {
      "text/plain": [
       "58.624719921182134"
      ]
     },
     "execution_count": 22,
     "metadata": {},
     "output_type": "execute_result"
    }
   ],
   "source": [
    "# mean value\n",
    "mean_value"
   ]
  },
  {
   "cell_type": "code",
   "execution_count": 23,
   "metadata": {},
   "outputs": [],
   "source": [
    "# filling nan values of metascore column with metascore mean value\n",
    "genre_group_metascore[\"metascore\"].fillna(mean_value,inplace=True)"
   ]
  },
  {
   "cell_type": "code",
   "execution_count": 24,
   "metadata": {},
   "outputs": [
    {
     "name": "stdout",
     "output_type": "stream",
     "text": [
      "<class 'pandas.core.frame.DataFrame'>\n",
      "Int64Index: 207 entries, 0 to 206\n",
      "Data columns (total 2 columns):\n",
      " #   Column     Non-Null Count  Dtype  \n",
      "---  ------     --------------  -----  \n",
      " 0   genre      207 non-null    object \n",
      " 1   metascore  207 non-null    float64\n",
      "dtypes: float64(1), object(1)\n",
      "memory usage: 4.9+ KB\n"
     ]
    }
   ],
   "source": [
    "# now we can see there is no nan value in metascore column\n",
    "genre_group_metascore.info()"
   ]
  },
  {
   "cell_type": "code",
   "execution_count": 25,
   "metadata": {},
   "outputs": [],
   "source": [
    "# I have dictionary with genre and metascore value without any null value\n",
    "metascore_data_dict={}\n",
    "for i in genre_group_metascore.index:\n",
    "    metascore_data_dict[genre_group_metascore[\"genre\"][i]]=genre_group_metascore[\"metascore\"][i]\n",
    "#print(metascore_data_dict)"
   ]
  },
  {
   "cell_type": "code",
   "execution_count": 26,
   "metadata": {},
   "outputs": [
    {
     "name": "stderr",
     "output_type": "stream",
     "text": [
      "c:\\users\\tejaswita\\appdata\\local\\programs\\python\\python37\\lib\\site-packages\\ipykernel_launcher.py:6: SettingWithCopyWarning: \n",
      "A value is trying to be set on a copy of a slice from a DataFrame\n",
      "\n",
      "See the caveats in the documentation: https://pandas.pydata.org/pandas-docs/stable/user_guide/indexing.html#returning-a-view-versus-a-copy\n",
      "  \n"
     ]
    }
   ],
   "source": [
    "# we need to replace nan values in original_dataframe\n",
    "# it traverse on every row\n",
    "# it replaces nan values in original dataframe with mean of metascore corresponding to its genre\n",
    "for i in original_dataframe.index:\n",
    "    if pd.isnull(original_dataframe[\"metascore\"][i]):\n",
    "        original_dataframe[\"metascore\"][i]=metascore_data_dict[original_dataframe[\"genre\"][i]] "
   ]
  },
  {
   "cell_type": "code",
   "execution_count": 27,
   "metadata": {
    "scrolled": true
   },
   "outputs": [
    {
     "name": "stdout",
     "output_type": "stream",
     "text": [
      "<class 'pandas.core.frame.DataFrame'>\n",
      "RangeIndex: 1000 entries, 0 to 999\n",
      "Data columns (total 12 columns):\n",
      " #   Column              Non-Null Count  Dtype  \n",
      "---  ------              --------------  -----  \n",
      " 0   rank                1000 non-null   int64  \n",
      " 1   title               1000 non-null   object \n",
      " 2   genre               1000 non-null   object \n",
      " 3   description         1000 non-null   object \n",
      " 4   director            1000 non-null   object \n",
      " 5   actors              1000 non-null   object \n",
      " 6   year                1000 non-null   int64  \n",
      " 7   runtime (minutes)   1000 non-null   int64  \n",
      " 8   rating              1000 non-null   float64\n",
      " 9   votes               1000 non-null   int64  \n",
      " 10  revenue (millions)  1000 non-null   float64\n",
      " 11  metascore           1000 non-null   float64\n",
      "dtypes: float64(3), int64(4), object(5)\n",
      "memory usage: 93.9+ KB\n"
     ]
    }
   ],
   "source": [
    "# if we observe original dataframe info\n",
    "# there are no null values in metascore column\n",
    "original_dataframe.info()"
   ]
  },
  {
   "cell_type": "code",
   "execution_count": 28,
   "metadata": {
    "scrolled": true
   },
   "outputs": [
    {
     "data": {
      "text/plain": [
       "2016    297\n",
       "2015    127\n",
       "2014     98\n",
       "2013     91\n",
       "2012     64\n",
       "2011     63\n",
       "2010     60\n",
       "2007     53\n",
       "2008     52\n",
       "2009     51\n",
       "2006     44\n",
       "Name: year, dtype: int64"
      ]
     },
     "execution_count": 28,
     "metadata": {},
     "output_type": "execute_result"
    }
   ],
   "source": [
    "# getting counts of movies each year\n",
    "original_dataframe[\"year\"].value_counts()"
   ]
  },
  {
   "cell_type": "raw",
   "metadata": {},
   "source": [
    "We have total 11 years, we will fragment data from 2006 to 2010 and 2011 to 2016"
   ]
  },
  {
   "cell_type": "code",
   "execution_count": 29,
   "metadata": {},
   "outputs": [],
   "source": [
    "# getting data for slot_one \n",
    "# from 2006 to 2010\n",
    "#year_slot_one=original_dataframe[(original_dataframe[\"year\"]) >= 2006 & (original_dataframe[\"year\"]) <=2010]\n",
    "year_slot_one=original_dataframe[(original_dataframe[\"year\"] >= 2006) & (original_dataframe[\"year\"] <=2010)]"
   ]
  },
  {
   "cell_type": "code",
   "execution_count": 30,
   "metadata": {
    "scrolled": true
   },
   "outputs": [
    {
     "data": {
      "text/html": [
       "<div>\n",
       "<style scoped>\n",
       "    .dataframe tbody tr th:only-of-type {\n",
       "        vertical-align: middle;\n",
       "    }\n",
       "\n",
       "    .dataframe tbody tr th {\n",
       "        vertical-align: top;\n",
       "    }\n",
       "\n",
       "    .dataframe thead th {\n",
       "        text-align: right;\n",
       "    }\n",
       "</style>\n",
       "<table border=\"1\" class=\"dataframe\">\n",
       "  <thead>\n",
       "    <tr style=\"text-align: right;\">\n",
       "      <th></th>\n",
       "      <th>rank</th>\n",
       "      <th>title</th>\n",
       "      <th>genre</th>\n",
       "      <th>description</th>\n",
       "      <th>director</th>\n",
       "      <th>actors</th>\n",
       "      <th>year</th>\n",
       "      <th>runtime (minutes)</th>\n",
       "      <th>rating</th>\n",
       "      <th>votes</th>\n",
       "      <th>revenue (millions)</th>\n",
       "      <th>metascore</th>\n",
       "    </tr>\n",
       "  </thead>\n",
       "  <tbody>\n",
       "    <tr>\n",
       "      <th>39</th>\n",
       "      <td>40</td>\n",
       "      <td>5- 25- 77</td>\n",
       "      <td>Comedy,Drama</td>\n",
       "      <td>Alienated, hopeful-filmmaker Pat Johnson's epi...</td>\n",
       "      <td>Patrick Read Johnson</td>\n",
       "      <td>John Francis Daley, Austin Pendleton, Colleen ...</td>\n",
       "      <td>2007</td>\n",
       "      <td>113</td>\n",
       "      <td>7.1</td>\n",
       "      <td>241</td>\n",
       "      <td>33.035</td>\n",
       "      <td>64.28</td>\n",
       "    </tr>\n",
       "    <tr>\n",
       "      <th>54</th>\n",
       "      <td>55</td>\n",
       "      <td>The Dark Knight</td>\n",
       "      <td>Action,Crime,Drama</td>\n",
       "      <td>When the menace known as the Joker wreaks havo...</td>\n",
       "      <td>Christopher Nolan</td>\n",
       "      <td>Christian Bale, Heath Ledger, Aaron Eckhart,Mi...</td>\n",
       "      <td>2008</td>\n",
       "      <td>152</td>\n",
       "      <td>9.0</td>\n",
       "      <td>1791916</td>\n",
       "      <td>533.320</td>\n",
       "      <td>82.00</td>\n",
       "    </tr>\n",
       "    <tr>\n",
       "      <th>64</th>\n",
       "      <td>65</td>\n",
       "      <td>The Prestige</td>\n",
       "      <td>Drama,Mystery,Sci-Fi</td>\n",
       "      <td>Two stage magicians engage in competitive one-...</td>\n",
       "      <td>Christopher Nolan</td>\n",
       "      <td>Christian Bale, Hugh Jackman, Scarlett Johanss...</td>\n",
       "      <td>2006</td>\n",
       "      <td>130</td>\n",
       "      <td>8.5</td>\n",
       "      <td>913152</td>\n",
       "      <td>53.080</td>\n",
       "      <td>66.00</td>\n",
       "    </tr>\n",
       "    <tr>\n",
       "      <th>75</th>\n",
       "      <td>76</td>\n",
       "      <td>Pirates of the Caribbean: At World's End</td>\n",
       "      <td>Action,Adventure,Fantasy</td>\n",
       "      <td>Captain Barbossa, Will Turner and Elizabeth Sw...</td>\n",
       "      <td>Gore Verbinski</td>\n",
       "      <td>Johnny Depp, Orlando Bloom, Keira Knightley,Ge...</td>\n",
       "      <td>2007</td>\n",
       "      <td>169</td>\n",
       "      <td>7.1</td>\n",
       "      <td>498821</td>\n",
       "      <td>309.400</td>\n",
       "      <td>50.00</td>\n",
       "    </tr>\n",
       "    <tr>\n",
       "      <th>77</th>\n",
       "      <td>78</td>\n",
       "      <td>Inglourious Basterds</td>\n",
       "      <td>Adventure,Drama,War</td>\n",
       "      <td>In Nazi-occupied France during World War II, a...</td>\n",
       "      <td>Quentin Tarantino</td>\n",
       "      <td>Brad Pitt, Diane Kruger, Eli Roth,Mélanie Laurent</td>\n",
       "      <td>2009</td>\n",
       "      <td>153</td>\n",
       "      <td>8.3</td>\n",
       "      <td>959065</td>\n",
       "      <td>120.520</td>\n",
       "      <td>69.00</td>\n",
       "    </tr>\n",
       "    <tr>\n",
       "      <th>...</th>\n",
       "      <td>...</td>\n",
       "      <td>...</td>\n",
       "      <td>...</td>\n",
       "      <td>...</td>\n",
       "      <td>...</td>\n",
       "      <td>...</td>\n",
       "      <td>...</td>\n",
       "      <td>...</td>\n",
       "      <td>...</td>\n",
       "      <td>...</td>\n",
       "      <td>...</td>\n",
       "      <td>...</td>\n",
       "    </tr>\n",
       "    <tr>\n",
       "      <th>990</th>\n",
       "      <td>991</td>\n",
       "      <td>Underworld: Rise of the Lycans</td>\n",
       "      <td>Action,Adventure,Fantasy</td>\n",
       "      <td>An origins story centered on the centuries-old...</td>\n",
       "      <td>Patrick Tatopoulos</td>\n",
       "      <td>Rhona Mitra, Michael Sheen, Bill Nighy, Steven...</td>\n",
       "      <td>2009</td>\n",
       "      <td>92</td>\n",
       "      <td>6.6</td>\n",
       "      <td>129708</td>\n",
       "      <td>45.800</td>\n",
       "      <td>44.00</td>\n",
       "    </tr>\n",
       "    <tr>\n",
       "      <th>991</th>\n",
       "      <td>992</td>\n",
       "      <td>Taare Zameen Par</td>\n",
       "      <td>Drama,Family,Music</td>\n",
       "      <td>An eight-year-old boy is thought to be a lazy ...</td>\n",
       "      <td>Aamir Khan</td>\n",
       "      <td>Darsheel Safary, Aamir Khan, Tanay Chheda, Sac...</td>\n",
       "      <td>2007</td>\n",
       "      <td>165</td>\n",
       "      <td>8.5</td>\n",
       "      <td>102697</td>\n",
       "      <td>1.200</td>\n",
       "      <td>42.00</td>\n",
       "    </tr>\n",
       "    <tr>\n",
       "      <th>993</th>\n",
       "      <td>994</td>\n",
       "      <td>Resident Evil: Afterlife</td>\n",
       "      <td>Action,Adventure,Horror</td>\n",
       "      <td>While still out to destroy the evil Umbrella C...</td>\n",
       "      <td>Paul W.S. Anderson</td>\n",
       "      <td>Milla Jovovich, Ali Larter, Wentworth Miller,K...</td>\n",
       "      <td>2010</td>\n",
       "      <td>97</td>\n",
       "      <td>5.9</td>\n",
       "      <td>140900</td>\n",
       "      <td>60.130</td>\n",
       "      <td>37.00</td>\n",
       "    </tr>\n",
       "    <tr>\n",
       "      <th>996</th>\n",
       "      <td>997</td>\n",
       "      <td>Hostel: Part II</td>\n",
       "      <td>Horror</td>\n",
       "      <td>Three American college students studying abroa...</td>\n",
       "      <td>Eli Roth</td>\n",
       "      <td>Lauren German, Heather Matarazzo, Bijou Philli...</td>\n",
       "      <td>2007</td>\n",
       "      <td>94</td>\n",
       "      <td>5.5</td>\n",
       "      <td>73152</td>\n",
       "      <td>17.540</td>\n",
       "      <td>46.00</td>\n",
       "    </tr>\n",
       "    <tr>\n",
       "      <th>997</th>\n",
       "      <td>998</td>\n",
       "      <td>Step Up 2: The Streets</td>\n",
       "      <td>Drama,Music,Romance</td>\n",
       "      <td>Romantic sparks occur between two dance studen...</td>\n",
       "      <td>Jon M. Chu</td>\n",
       "      <td>Robert Hoffman, Briana Evigan, Cassie Ventura,...</td>\n",
       "      <td>2008</td>\n",
       "      <td>98</td>\n",
       "      <td>6.2</td>\n",
       "      <td>70699</td>\n",
       "      <td>58.010</td>\n",
       "      <td>50.00</td>\n",
       "    </tr>\n",
       "  </tbody>\n",
       "</table>\n",
       "<p>260 rows × 12 columns</p>\n",
       "</div>"
      ],
      "text/plain": [
       "     rank                                     title                     genre  \\\n",
       "39     40                                 5- 25- 77              Comedy,Drama   \n",
       "54     55                           The Dark Knight        Action,Crime,Drama   \n",
       "64     65                              The Prestige      Drama,Mystery,Sci-Fi   \n",
       "75     76  Pirates of the Caribbean: At World's End  Action,Adventure,Fantasy   \n",
       "77     78                      Inglourious Basterds       Adventure,Drama,War   \n",
       "..    ...                                       ...                       ...   \n",
       "990   991            Underworld: Rise of the Lycans  Action,Adventure,Fantasy   \n",
       "991   992                          Taare Zameen Par        Drama,Family,Music   \n",
       "993   994                  Resident Evil: Afterlife   Action,Adventure,Horror   \n",
       "996   997                           Hostel: Part II                    Horror   \n",
       "997   998                    Step Up 2: The Streets       Drama,Music,Romance   \n",
       "\n",
       "                                           description              director  \\\n",
       "39   Alienated, hopeful-filmmaker Pat Johnson's epi...  Patrick Read Johnson   \n",
       "54   When the menace known as the Joker wreaks havo...     Christopher Nolan   \n",
       "64   Two stage magicians engage in competitive one-...     Christopher Nolan   \n",
       "75   Captain Barbossa, Will Turner and Elizabeth Sw...        Gore Verbinski   \n",
       "77   In Nazi-occupied France during World War II, a...     Quentin Tarantino   \n",
       "..                                                 ...                   ...   \n",
       "990  An origins story centered on the centuries-old...    Patrick Tatopoulos   \n",
       "991  An eight-year-old boy is thought to be a lazy ...            Aamir Khan   \n",
       "993  While still out to destroy the evil Umbrella C...    Paul W.S. Anderson   \n",
       "996  Three American college students studying abroa...              Eli Roth   \n",
       "997  Romantic sparks occur between two dance studen...            Jon M. Chu   \n",
       "\n",
       "                                                actors  year  \\\n",
       "39   John Francis Daley, Austin Pendleton, Colleen ...  2007   \n",
       "54   Christian Bale, Heath Ledger, Aaron Eckhart,Mi...  2008   \n",
       "64   Christian Bale, Hugh Jackman, Scarlett Johanss...  2006   \n",
       "75   Johnny Depp, Orlando Bloom, Keira Knightley,Ge...  2007   \n",
       "77   Brad Pitt, Diane Kruger, Eli Roth,Mélanie Laurent  2009   \n",
       "..                                                 ...   ...   \n",
       "990  Rhona Mitra, Michael Sheen, Bill Nighy, Steven...  2009   \n",
       "991  Darsheel Safary, Aamir Khan, Tanay Chheda, Sac...  2007   \n",
       "993  Milla Jovovich, Ali Larter, Wentworth Miller,K...  2010   \n",
       "996  Lauren German, Heather Matarazzo, Bijou Philli...  2007   \n",
       "997  Robert Hoffman, Briana Evigan, Cassie Ventura,...  2008   \n",
       "\n",
       "     runtime (minutes)  rating    votes  revenue (millions)  metascore  \n",
       "39                 113     7.1      241              33.035      64.28  \n",
       "54                 152     9.0  1791916             533.320      82.00  \n",
       "64                 130     8.5   913152              53.080      66.00  \n",
       "75                 169     7.1   498821             309.400      50.00  \n",
       "77                 153     8.3   959065             120.520      69.00  \n",
       "..                 ...     ...      ...                 ...        ...  \n",
       "990                 92     6.6   129708              45.800      44.00  \n",
       "991                165     8.5   102697               1.200      42.00  \n",
       "993                 97     5.9   140900              60.130      37.00  \n",
       "996                 94     5.5    73152              17.540      46.00  \n",
       "997                 98     6.2    70699              58.010      50.00  \n",
       "\n",
       "[260 rows x 12 columns]"
      ]
     },
     "execution_count": 30,
     "metadata": {},
     "output_type": "execute_result"
    }
   ],
   "source": [
    "# observe the dataframe we got\n",
    "year_slot_one"
   ]
  },
  {
   "cell_type": "code",
   "execution_count": 31,
   "metadata": {},
   "outputs": [
    {
     "data": {
      "text/plain": [
       "pandas.core.frame.DataFrame"
      ]
     },
     "execution_count": 31,
     "metadata": {},
     "output_type": "execute_result"
    }
   ],
   "source": [
    "# it is dataframe\n",
    "type(year_slot_one)"
   ]
  },
  {
   "cell_type": "code",
   "execution_count": 32,
   "metadata": {},
   "outputs": [
    {
     "data": {
      "text/plain": [
       "260"
      ]
     },
     "execution_count": 32,
     "metadata": {},
     "output_type": "execute_result"
    }
   ],
   "source": [
    "# getting total count of movies in above slot one dataframe\n",
    "year_slot_one[\"year\"].count()"
   ]
  },
  {
   "cell_type": "code",
   "execution_count": 33,
   "metadata": {},
   "outputs": [],
   "source": [
    "# gettint rating value\n",
    "rating_array=year_slot_one[\"rating\"].unique()\n",
    "# sorting rating in ascending order\n",
    "rating_array_sorted=sorted(rating_array)\n",
    "#rating_array_sorted"
   ]
  },
  {
   "cell_type": "code",
   "execution_count": 34,
   "metadata": {
    "scrolled": true
   },
   "outputs": [
    {
     "data": {
      "text/plain": [
       "2010    60\n",
       "2007    53\n",
       "2008    52\n",
       "2009    51\n",
       "2006    44\n",
       "Name: year, dtype: int64"
      ]
     },
     "execution_count": 34,
     "metadata": {},
     "output_type": "execute_result"
    }
   ],
   "source": [
    "# getting each year number of movies count\n",
    "year_slot_one[\"year\"].value_counts()"
   ]
  },
  {
   "cell_type": "code",
   "execution_count": 35,
   "metadata": {},
   "outputs": [],
   "source": [
    "# getting year slot from 2011 to 2016\n",
    "year_slot_two=original_dataframe[(original_dataframe[\"year\"] >= 2011) & (original_dataframe[\"year\"] <=2016)]"
   ]
  },
  {
   "cell_type": "code",
   "execution_count": 36,
   "metadata": {},
   "outputs": [
    {
     "data": {
      "text/plain": [
       "740"
      ]
     },
     "execution_count": 36,
     "metadata": {},
     "output_type": "execute_result"
    }
   ],
   "source": [
    "# total number of movies we got in 2011 to 2016\n",
    "year_slot_two[\"year\"].count()"
   ]
  },
  {
   "cell_type": "code",
   "execution_count": 37,
   "metadata": {
    "scrolled": true
   },
   "outputs": [
    {
     "data": {
      "text/plain": [
       "2016    297\n",
       "2015    127\n",
       "2014     98\n",
       "2013     91\n",
       "2012     64\n",
       "2011     63\n",
       "Name: year, dtype: int64"
      ]
     },
     "execution_count": 37,
     "metadata": {},
     "output_type": "execute_result"
    }
   ],
   "source": [
    "# getting each year movie count\n",
    "year_slot_two[\"year\"].value_counts()"
   ]
  },
  {
   "cell_type": "code",
   "execution_count": 38,
   "metadata": {
    "scrolled": true
   },
   "outputs": [
    {
     "data": {
      "image/png": "[encoded data removed]",
      "text/plain": [
       "<Figure size 432x288 with 1 Axes>"
      ]
     },
     "metadata": {
      "needs_background": "light"
     },
     "output_type": "display_data"
    }
   ],
   "source": [
    "year_slot_one_scatter=year_slot_one.plot.scatter(x=\"rating\",y=\"revenue (millions)\",c=\"DarkBlue\")\n",
    "#plt.scatter(x=\"rating\",y=year_slot_one[\"revenue (millions)\"],c=\"DarkBlue\")"
   ]
  },
  {
   "cell_type": "code",
   "execution_count": 39,
   "metadata": {},
   "outputs": [
    {
     "data": {
      "image/png": "[encoded data removed]",
      "text/plain": [
       "<Figure size 432x288 with 1 Axes>"
      ]
     },
     "metadata": {
      "needs_background": "light"
     },
     "output_type": "display_data"
    }
   ],
   "source": [
    "year_slot_two_scatter=year_slot_two.plot.scatter(x=\"rating\",y=\"revenue (millions)\",c=\"DarkGreen\")"
   ]
  }
 ],
 "metadata": {
  "kernelspec": {
   "display_name": "Python 3",
   "language": "python",
   "name": "python3"
  },
  "language_info": {
   "codemirror_mode": {
    "name": "ipython",
    "version": 3
   },
   "file_extension": ".py",
   "mimetype": "text/x-python",
   "name": "python",
   "nbconvert_exporter": "python",
   "pygments_lexer": "ipython3",
   "version": "3.7.6"
  }
 },
 "nbformat": 4,
 "nbformat_minor": 4
}
