{
 "cells": [
  {
   "cell_type": "code",
   "execution_count": 1,
   "metadata": {},
   "outputs": [],
   "source": [
    "# importing all required libraries\n",
    "import pandas as pd\n",
    "import matplotlib.pyplot as plt\n",
    "import seaborn as sns\n",
    "%matplotlib inline"
   ]
  },
  {
   "cell_type": "markdown",
   "metadata": {},
   "source": [
    "#### Q.1.Try fillna with \"genre\" and \"rating\"."
   ]
  },
  {
   "cell_type": "markdown",
   "metadata": {},
   "source": [
    "##### Using Genre"
   ]
  },
  {
   "cell_type": "raw",
   "metadata": {},
   "source": [
    "First we will implement with genre, as we know we have null values in revenue (millions) and metascore columns,so we will replace those null values with mean of their corresoponding genre."
   ]
  },
  {
   "cell_type": "markdown",
   "metadata": {},
   "source": [
    "##### Replacing nan value in revenue (millions)"
   ]
  },
  {
   "cell_type": "code",
   "execution_count": 2,
   "metadata": {},
   "outputs": [],
   "source": [
    "# creating pandas dataframe\n",
    "original_dataframe=pd.read_csv(\"IMDB-Movie-Data.csv\")"
   ]
  },
  {
   "cell_type": "code",
   "execution_count": 3,
   "metadata": {},
   "outputs": [],
   "source": [
    "# converting all column names into lower case\n",
    "original_dataframe.columns=[col.lower() for col in original_dataframe]"
   ]
  },
  {
   "cell_type": "code",
   "execution_count": 4,
   "metadata": {},
   "outputs": [
    {
     "data": {
      "text/plain": [
       "Index(['rank', 'title', 'genre', 'description', 'director', 'actors', 'year',\n",
       "       'runtime (minutes)', 'rating', 'votes', 'revenue (millions)',\n",
       "       'metascore'],\n",
       "      dtype='object')"
      ]
     },
     "execution_count": 4,
     "metadata": {},
     "output_type": "execute_result"
    }
   ],
   "source": [
    "# getting columns name in our dataframe\n",
    "original_dataframe.columns"
   ]
  },
  {
   "cell_type": "code",
   "execution_count": 5,
   "metadata": {},
   "outputs": [
    {
     "data": {
      "text/html": [
       "<div>\n",
       "<style scoped>\n",
       "    .dataframe tbody tr th:only-of-type {\n",
       "        vertical-align: middle;\n",
       "    }\n",
       "\n",
       "    .dataframe tbody tr th {\n",
       "        vertical-align: top;\n",
       "    }\n",
       "\n",
       "    .dataframe thead th {\n",
       "        text-align: right;\n",
       "    }\n",
       "</style>\n",
       "<table border=\"1\" class=\"dataframe\">\n",
       "  <thead>\n",
       "    <tr style=\"text-align: right;\">\n",
       "      <th></th>\n",
       "      <th>rank</th>\n",
       "      <th>title</th>\n",
       "      <th>genre</th>\n",
       "      <th>description</th>\n",
       "      <th>director</th>\n",
       "      <th>actors</th>\n",
       "      <th>year</th>\n",
       "      <th>runtime (minutes)</th>\n",
       "      <th>rating</th>\n",
       "      <th>votes</th>\n",
       "      <th>revenue (millions)</th>\n",
       "      <th>metascore</th>\n",
       "    </tr>\n",
       "  </thead>\n",
       "  <tbody>\n",
       "    <tr>\n",
       "      <th>0</th>\n",
       "      <td>1</td>\n",
       "      <td>Guardians of the Galaxy</td>\n",
       "      <td>Action,Adventure,Sci-Fi</td>\n",
       "      <td>A group of intergalactic criminals are forced ...</td>\n",
       "      <td>James Gunn</td>\n",
       "      <td>Chris Pratt, Vin Diesel, Bradley Cooper, Zoe S...</td>\n",
       "      <td>2014</td>\n",
       "      <td>121</td>\n",
       "      <td>8.1</td>\n",
       "      <td>757074</td>\n",
       "      <td>333.13</td>\n",
       "      <td>76.0</td>\n",
       "    </tr>\n",
       "    <tr>\n",
       "      <th>1</th>\n",
       "      <td>2</td>\n",
       "      <td>Prometheus</td>\n",
       "      <td>Adventure,Mystery,Sci-Fi</td>\n",
       "      <td>Following clues to the origin of mankind, a te...</td>\n",
       "      <td>Ridley Scott</td>\n",
       "      <td>Noomi Rapace, Logan Marshall-Green, Michael Fa...</td>\n",
       "      <td>2012</td>\n",
       "      <td>124</td>\n",
       "      <td>7.0</td>\n",
       "      <td>485820</td>\n",
       "      <td>126.46</td>\n",
       "      <td>65.0</td>\n",
       "    </tr>\n",
       "    <tr>\n",
       "      <th>2</th>\n",
       "      <td>3</td>\n",
       "      <td>Split</td>\n",
       "      <td>Horror,Thriller</td>\n",
       "      <td>Three girls are kidnapped by a man with a diag...</td>\n",
       "      <td>M. Night Shyamalan</td>\n",
       "      <td>James McAvoy, Anya Taylor-Joy, Haley Lu Richar...</td>\n",
       "      <td>2016</td>\n",
       "      <td>117</td>\n",
       "      <td>7.3</td>\n",
       "      <td>157606</td>\n",
       "      <td>138.12</td>\n",
       "      <td>62.0</td>\n",
       "    </tr>\n",
       "    <tr>\n",
       "      <th>3</th>\n",
       "      <td>4</td>\n",
       "      <td>Sing</td>\n",
       "      <td>Animation,Comedy,Family</td>\n",
       "      <td>In a city of humanoid animals, a hustling thea...</td>\n",
       "      <td>Christophe Lourdelet</td>\n",
       "      <td>Matthew McConaughey,Reese Witherspoon, Seth Ma...</td>\n",
       "      <td>2016</td>\n",
       "      <td>108</td>\n",
       "      <td>7.2</td>\n",
       "      <td>60545</td>\n",
       "      <td>270.32</td>\n",
       "      <td>59.0</td>\n",
       "    </tr>\n",
       "    <tr>\n",
       "      <th>4</th>\n",
       "      <td>5</td>\n",
       "      <td>Suicide Squad</td>\n",
       "      <td>Action,Adventure,Fantasy</td>\n",
       "      <td>A secret government agency recruits some of th...</td>\n",
       "      <td>David Ayer</td>\n",
       "      <td>Will Smith, Jared Leto, Margot Robbie, Viola D...</td>\n",
       "      <td>2016</td>\n",
       "      <td>123</td>\n",
       "      <td>6.2</td>\n",
       "      <td>393727</td>\n",
       "      <td>325.02</td>\n",
       "      <td>40.0</td>\n",
       "    </tr>\n",
       "  </tbody>\n",
       "</table>\n",
       "</div>"
      ],
      "text/plain": [
       "   rank                    title                     genre  \\\n",
       "0     1  Guardians of the Galaxy   Action,Adventure,Sci-Fi   \n",
       "1     2               Prometheus  Adventure,Mystery,Sci-Fi   \n",
       "2     3                    Split           Horror,Thriller   \n",
       "3     4                     Sing   Animation,Comedy,Family   \n",
       "4     5            Suicide Squad  Action,Adventure,Fantasy   \n",
       "\n",
       "                                         description              director  \\\n",
       "0  A group of intergalactic criminals are forced ...            James Gunn   \n",
       "1  Following clues to the origin of mankind, a te...          Ridley Scott   \n",
       "2  Three girls are kidnapped by a man with a diag...    M. Night Shyamalan   \n",
       "3  In a city of humanoid animals, a hustling thea...  Christophe Lourdelet   \n",
       "4  A secret government agency recruits some of th...            David Ayer   \n",
       "\n",
       "                                              actors  year  runtime (minutes)  \\\n",
       "0  Chris Pratt, Vin Diesel, Bradley Cooper, Zoe S...  2014                121   \n",
       "1  Noomi Rapace, Logan Marshall-Green, Michael Fa...  2012                124   \n",
       "2  James McAvoy, Anya Taylor-Joy, Haley Lu Richar...  2016                117   \n",
       "3  Matthew McConaughey,Reese Witherspoon, Seth Ma...  2016                108   \n",
       "4  Will Smith, Jared Leto, Margot Robbie, Viola D...  2016                123   \n",
       "\n",
       "   rating   votes  revenue (millions)  metascore  \n",
       "0     8.1  757074              333.13       76.0  \n",
       "1     7.0  485820              126.46       65.0  \n",
       "2     7.3  157606              138.12       62.0  \n",
       "3     7.2   60545              270.32       59.0  \n",
       "4     6.2  393727              325.02       40.0  "
      ]
     },
     "execution_count": 5,
     "metadata": {},
     "output_type": "execute_result"
    }
   ],
   "source": [
    "original_dataframe.head()"
   ]
  },
  {
   "cell_type": "code",
   "execution_count": 6,
   "metadata": {},
   "outputs": [
    {
     "name": "stdout",
     "output_type": "stream",
     "text": [
      "<class 'pandas.core.frame.DataFrame'>\n",
      "RangeIndex: 1000 entries, 0 to 999\n",
      "Data columns (total 12 columns):\n",
      " #   Column              Non-Null Count  Dtype  \n",
      "---  ------              --------------  -----  \n",
      " 0   rank                1000 non-null   int64  \n",
      " 1   title               1000 non-null   object \n",
      " 2   genre               1000 non-null   object \n",
      " 3   description         1000 non-null   object \n",
      " 4   director            1000 non-null   object \n",
      " 5   actors              1000 non-null   object \n",
      " 6   year                1000 non-null   int64  \n",
      " 7   runtime (minutes)   1000 non-null   int64  \n",
      " 8   rating              1000 non-null   float64\n",
      " 9   votes               1000 non-null   int64  \n",
      " 10  revenue (millions)  872 non-null    float64\n",
      " 11  metascore           936 non-null    float64\n",
      "dtypes: float64(3), int64(4), object(5)\n",
      "memory usage: 93.9+ KB\n"
     ]
    }
   ],
   "source": [
    "# getting information of data values in dataframe\n",
    "original_dataframe.info()"
   ]
  },
  {
   "cell_type": "raw",
   "metadata": {},
   "source": [
    "If we observe above output, we can see that there are null values in revenue (millions) and metascore,our task is to replace these null values on the basis of genre and rating.First we will go for using genre."
   ]
  },
  {
   "cell_type": "code",
   "execution_count": 7,
   "metadata": {},
   "outputs": [
    {
     "data": {
      "text/plain": [
       "0       Action,Adventure,Sci-Fi\n",
       "1      Adventure,Mystery,Sci-Fi\n",
       "2               Horror,Thriller\n",
       "3       Animation,Comedy,Family\n",
       "4      Action,Adventure,Fantasy\n",
       "                 ...           \n",
       "995         Crime,Drama,Mystery\n",
       "996                      Horror\n",
       "997         Drama,Music,Romance\n",
       "998            Adventure,Comedy\n",
       "999       Comedy,Family,Fantasy\n",
       "Name: genre, Length: 1000, dtype: object"
      ]
     },
     "execution_count": 7,
     "metadata": {},
     "output_type": "execute_result"
    }
   ],
   "source": [
    "# the genre column contains following data points\n",
    "# it shows that we dont have null values in genre\n",
    "# if present first we have to replace those with some \n",
    "# appropriate value\n",
    "original_dataframe[\"genre\"]"
   ]
  },
  {
   "cell_type": "code",
   "execution_count": 8,
   "metadata": {},
   "outputs": [
    {
     "data": {
      "text/plain": [
       "1000"
      ]
     },
     "execution_count": 8,
     "metadata": {},
     "output_type": "execute_result"
    }
   ],
   "source": [
    "# we get length of genre column\n",
    "# it is one series\n",
    "original_dataframe[\"genre\"].count()"
   ]
  },
  {
   "cell_type": "code",
   "execution_count": 9,
   "metadata": {},
   "outputs": [
    {
     "data": {
      "text/plain": [
       "Action,Adventure,Sci-Fi     50\n",
       "Drama                       48\n",
       "Comedy,Drama,Romance        35\n",
       "Comedy                      32\n",
       "Drama,Romance               31\n",
       "                            ..\n",
       "Drama,Fantasy,Mystery        1\n",
       "Adventure,Drama              1\n",
       "Comedy,Family,Romance        1\n",
       "Adventure,Biography          1\n",
       "Fantasy,Mystery,Thriller     1\n",
       "Name: genre, Length: 207, dtype: int64"
      ]
     },
     "execution_count": 9,
     "metadata": {},
     "output_type": "execute_result"
    }
   ],
   "source": [
    "# getting unique values count of genre column\n",
    "# there are total 207 genre\n",
    "original_dataframe[\"genre\"].value_counts()"
   ]
  },
  {
   "cell_type": "raw",
   "metadata": {},
   "source": [
    "groupby() function is used to split the data into groups based on some criteria. Pandas objects can be split on any of their axes. The abstract definition of grouping is to provide a mapping of labels to group names."
   ]
  },
  {
   "cell_type": "code",
   "execution_count": 10,
   "metadata": {},
   "outputs": [],
   "source": [
    "# grouping by \"genre\" and taking mean of \"revenue (millions)\"\n",
    "genre_group_revenue=original_dataframe.groupby(\"genre\",as_index=False)[\"revenue (millions)\"].mean()\n",
    "# print(genre_group)\n",
    "# print(type(genre_group))\n",
    "# we got 207 rows ,as we have 207 genre\n",
    "# without as_index=False, it returns a Series instead"
   ]
  },
  {
   "cell_type": "code",
   "execution_count": 11,
   "metadata": {},
   "outputs": [
    {
     "data": {
      "text/html": [
       "<div>\n",
       "<style scoped>\n",
       "    .dataframe tbody tr th:only-of-type {\n",
       "        vertical-align: middle;\n",
       "    }\n",
       "\n",
       "    .dataframe tbody tr th {\n",
       "        vertical-align: top;\n",
       "    }\n",
       "\n",
       "    .dataframe thead th {\n",
       "        text-align: right;\n",
       "    }\n",
       "</style>\n",
       "<table border=\"1\" class=\"dataframe\">\n",
       "  <thead>\n",
       "    <tr style=\"text-align: right;\">\n",
       "      <th></th>\n",
       "      <th>genre</th>\n",
       "      <th>revenue (millions)</th>\n",
       "    </tr>\n",
       "  </thead>\n",
       "  <tbody>\n",
       "    <tr>\n",
       "      <th>0</th>\n",
       "      <td>Action</td>\n",
       "      <td>131.560000</td>\n",
       "    </tr>\n",
       "    <tr>\n",
       "      <th>1</th>\n",
       "      <td>Action,Adventure</td>\n",
       "      <td>223.740000</td>\n",
       "    </tr>\n",
       "    <tr>\n",
       "      <th>2</th>\n",
       "      <td>Action,Adventure,Biography</td>\n",
       "      <td>16.500000</td>\n",
       "    </tr>\n",
       "    <tr>\n",
       "      <th>3</th>\n",
       "      <td>Action,Adventure,Comedy</td>\n",
       "      <td>95.733571</td>\n",
       "    </tr>\n",
       "    <tr>\n",
       "      <th>4</th>\n",
       "      <td>Action,Adventure,Crime</td>\n",
       "      <td>90.620000</td>\n",
       "    </tr>\n",
       "  </tbody>\n",
       "</table>\n",
       "</div>"
      ],
      "text/plain": [
       "                        genre  revenue (millions)\n",
       "0                      Action          131.560000\n",
       "1            Action,Adventure          223.740000\n",
       "2  Action,Adventure,Biography           16.500000\n",
       "3     Action,Adventure,Comedy           95.733571\n",
       "4      Action,Adventure,Crime           90.620000"
      ]
     },
     "execution_count": 11,
     "metadata": {},
     "output_type": "execute_result"
    }
   ],
   "source": [
    "# we can observe genre and its corresponding mean\n",
    "genre_group_revenue.head()"
   ]
  },
  {
   "cell_type": "code",
   "execution_count": 12,
   "metadata": {},
   "outputs": [
    {
     "data": {
      "text/plain": [
       "Index(['genre', 'revenue (millions)'], dtype='object')"
      ]
     },
     "execution_count": 12,
     "metadata": {},
     "output_type": "execute_result"
    }
   ],
   "source": [
    "# we got genre and mean revenue (millions)\n",
    "genre_group_revenue.columns"
   ]
  },
  {
   "cell_type": "code",
   "execution_count": 13,
   "metadata": {},
   "outputs": [
    {
     "data": {
      "text/plain": [
       "0      131.560000\n",
       "1      223.740000\n",
       "2       16.500000\n",
       "3       95.733571\n",
       "4       90.620000\n",
       "          ...    \n",
       "202     62.450000\n",
       "203     20.760000\n",
       "204     64.510000\n",
       "205      0.320000\n",
       "206           NaN\n",
       "Name: revenue (millions), Length: 207, dtype: float64"
      ]
     },
     "execution_count": 13,
     "metadata": {},
     "output_type": "execute_result"
    }
   ],
   "source": [
    "# mean revenue (millions) values\n",
    "genre_group_revenue[\"revenue (millions)\"]"
   ]
  },
  {
   "cell_type": "code",
   "execution_count": 14,
   "metadata": {},
   "outputs": [],
   "source": [
    "#genre_group_revenue"
   ]
  },
  {
   "cell_type": "code",
   "execution_count": 15,
   "metadata": {},
   "outputs": [
    {
     "data": {
      "text/plain": [
       "genre                  0\n",
       "revenue (millions)    12\n",
       "dtype: int64"
      ]
     },
     "execution_count": 15,
     "metadata": {},
     "output_type": "execute_result"
    }
   ],
   "source": [
    "# it gives null value count in each column\n",
    "genre_group_revenue.isnull().sum()"
   ]
  },
  {
   "cell_type": "raw",
   "metadata": {},
   "source": [
    "First we need to replace those null values in revenue (millions) with the mean of values of revenue (millions)"
   ]
  },
  {
   "cell_type": "code",
   "execution_count": 16,
   "metadata": {},
   "outputs": [
    {
     "name": "stdout",
     "output_type": "stream",
     "text": [
      "Action 131.56\n",
      "Action,Adventure 223.73999999999998\n",
      "Action,Adventure,Biography 16.5\n",
      "Action,Adventure,Comedy 95.73357142857141\n",
      "Action,Adventure,Crime 90.62\n",
      "Action,Adventure,Drama 77.32166666666666\n",
      "Action,Adventure,Family 112.86666666666666\n",
      "Action,Adventure,Fantasy 201.85730769230776\n",
      "Action,Adventure,Horror 131.24\n",
      "Action,Adventure,Mystery 150.344\n",
      "Action,Adventure,Romance 23.47\n",
      "Action,Adventure,Sci-Fi 209.23020000000005\n",
      "Action,Adventure,Thriller 158.12363636363636\n",
      "Action,Adventure,Western 91.33500000000001\n",
      "Action,Biography,Crime 0.1\n",
      "Action,Biography,Drama 100.65285714285713\n",
      "Action,Comedy 58.79\n",
      "Action,Comedy,Crime 92.41083333333334\n",
      "Action,Comedy,Drama 2.87\n",
      "Action,Comedy,Family 78.75\n",
      "Action,Comedy,Fantasy 55.873333333333335\n",
      "Action,Comedy,Horror 3.64\n",
      "Action,Comedy,Mystery 23.62\n",
      "Action,Comedy,Romance 27.395\n",
      "Action,Comedy,Sci-Fi 26.0\n",
      "Action,Comedy,Sport 148.21\n",
      "Action,Crime,Drama 84.13125000000001\n",
      "Action,Crime,Fantasy 134.57\n",
      "Action,Crime,Mystery 67.37\n",
      "Action,Crime,Sci-Fi 58.61\n",
      "Action,Crime,Sport 28.77\n",
      "Action,Crime,Thriller 109.16272727272727\n",
      "Action,Drama,Family 131.025\n",
      "Action,Drama,Fantasy 81.93666666666667\n",
      "Action,Drama,History 34.473333333333336\n",
      "Action,Drama,Horror 2.13\n",
      "Action,Drama,Mystery 107.5\n",
      "Action,Drama,Romance 39.725\n",
      "Action,Drama,Sci-Fi 61.71666666666667\n",
      "Action,Drama,Sport 19.25\n",
      "Action,Drama,Thriller 42.73499999999999\n",
      "Action,Drama,War 85.71\n",
      "Action,Fantasy 36.38\n",
      "Action,Fantasy,Horror 44.55333333333334\n",
      "Action,Fantasy,Thriller 115.8\n",
      "Action,Fantasy,War 210.59\n",
      "Action,Horror nan\n",
      "Action,Horror,Mystery 10.33\n",
      "Action,Horror,Romance 10.91\n",
      "Action,Horror,Sci-Fi 54.004\n",
      "Action,Horror,Thriller 17.595\n",
      "Action,Mystery,Sci-Fi 57.345\n",
      "Action,Mystery,Thriller 129.78\n",
      "Action,Sci-Fi 232.77999999999997\n",
      "Action,Sci-Fi,Thriller 73.25\n",
      "Action,Thriller 137.13625\n",
      "Action,Thriller,War 42.72\n",
      "Adventure 0.15\n",
      "Adventure,Biography nan\n",
      "Adventure,Biography,Crime 10.14\n",
      "Adventure,Biography,Drama 20.01\n",
      "Adventure,Comedy 58.88\n",
      "Adventure,Comedy,Drama 37.973749999999995\n",
      "Adventure,Comedy,Family 96.875\n",
      "Adventure,Comedy,Fantasy 21.56\n",
      "Adventure,Comedy,Horror 75.59\n",
      "Adventure,Comedy,Romance 63.635000000000005\n",
      "Adventure,Comedy,Sci-Fi 18.904999999999998\n",
      "Adventure,Crime,Mystery 38.56\n",
      "Adventure,Drama 0.06\n",
      "Adventure,Drama,Family 151.8225\n",
      "Adventure,Drama,Fantasy 276.008\n",
      "Adventure,Drama,History 7.08\n",
      "Adventure,Drama,Horror 66.01\n",
      "Adventure,Drama,Romance 74.78\n",
      "Adventure,Drama,Sci-Fi 208.21\n",
      "Adventure,Drama,Thriller 82.74333333333333\n",
      "Adventure,Drama,War 120.52\n",
      "Adventure,Drama,Western 171.03\n",
      "Adventure,Family 42.65\n",
      "Adventure,Family,Fantasy 157.24785714285716\n",
      "Adventure,Fantasy 272.1566666666667\n",
      "Adventure,Fantasy,Mystery 7.69\n",
      "Adventure,Horror 7.19\n",
      "Adventure,Horror,Mystery 46.98\n",
      "Adventure,Mystery,Sci-Fi 138.645\n",
      "Adventure,Sci-Fi,Thriller 180.55999999999997\n",
      "Animation,Action,Adventure 195.47333333333333\n",
      "Animation,Action,Comedy 148.34\n",
      "Animation,Adventure,Comedy 221.33653846153845\n",
      "Animation,Adventure,Family 135.915\n",
      "Animation,Comedy,Drama 0.29\n",
      "Animation,Comedy,Family 194.43\n",
      "Animation,Drama,Fantasy 4.68\n",
      "Animation,Drama,Romance nan\n",
      "Animation,Family,Fantasy 75.28\n",
      "Animation,Fantasy 0.92\n",
      "Biography,Comedy,Crime 116.87\n",
      "Biography,Comedy,Drama 34.98666666666667\n",
      "Biography,Crime,Drama 48.042500000000004\n",
      "Biography,Drama 53.39785714285714\n",
      "Biography,Drama,Family 61.69\n",
      "Biography,Drama,History 71.37307692307692\n",
      "Biography,Drama,Mystery 35.71\n",
      "Biography,Drama,Romance 15.05\n",
      "Biography,Drama,Sport 73.80749999999999\n",
      "Biography,Drama,Thriller 73.23333333333333\n",
      "Biography,History,Thriller 2.96\n",
      "Comedy 74.68499999999999\n",
      "Comedy,Crime 85.53\n",
      "Comedy,Crime,Drama 25.72714285714286\n",
      "Comedy,Crime,Thriller 36.92\n",
      "Comedy,Drama 33.035000000000004\n",
      "Comedy,Drama,Family 89.62666666666667\n",
      "Comedy,Drama,Fantasy 15.29\n",
      "Comedy,Drama,Horror 2.0100000000000002\n",
      "Comedy,Drama,Music 52.192499999999995\n",
      "Comedy,Drama,Musical 38.51\n",
      "Comedy,Drama,Romance 40.32181818181818\n",
      "Comedy,Drama,Thriller 3.08\n",
      "Comedy,Family 76.592\n",
      "Comedy,Family,Fantasy 19.64\n",
      "Comedy,Family,Musical 143.7\n",
      "Comedy,Family,Romance 59.57\n",
      "Comedy,Fantasy 160.05\n",
      "Comedy,Fantasy,Horror 41.519999999999996\n",
      "Comedy,Fantasy,Romance 56.82\n",
      "Comedy,Horror 8.209999999999999\n",
      "Comedy,Horror,Romance 66.36\n",
      "Comedy,Horror,Sci-Fi 7.77\n",
      "Comedy,Horror,Thriller 45.035\n",
      "Comedy,Music 96.41499999999999\n",
      "Comedy,Music,Romance 65.0\n",
      "Comedy,Mystery 30.0\n",
      "Comedy,Romance 53.004782608695656\n",
      "Comedy,Romance,Sport 2.34\n",
      "Comedy,Romance,Western 42.62\n",
      "Comedy,Sci-Fi nan\n",
      "Comedy,Western nan\n",
      "Crime,Drama 35.84375\n",
      "Crime,Drama,Fantasy 2.21\n",
      "Crime,Drama,History 39.019999999999996\n",
      "Crime,Drama,Horror 1.29\n",
      "Crime,Drama,Music 65.27\n",
      "Crime,Drama,Mystery 38.92333333333334\n",
      "Crime,Drama,Thriller 41.93388888888889\n",
      "Crime,Horror,Thriller 30.84\n",
      "Crime,Mystery,Thriller 117.7\n",
      "Crime,Thriller 117.14\n",
      "Drama 27.546451612903223\n",
      "Drama,Family nan\n",
      "Drama,Family,Fantasy 201.15\n",
      "Drama,Family,Music 1.2\n",
      "Drama,Fantasy 8.515\n",
      "Drama,Fantasy,Horror 8.037999999999998\n",
      "Drama,Fantasy,Music 50.46\n",
      "Drama,Fantasy,Musical 24.34\n",
      "Drama,Fantasy,Mystery 42.27\n",
      "Drama,Fantasy,Romance 95.21749999999999\n",
      "Drama,Fantasy,Thriller 43.98\n",
      "Drama,Fantasy,War 37.62\n",
      "Drama,History 40.22\n",
      "Drama,History,Thriller 53.897499999999994\n",
      "Drama,History,War 0.86\n",
      "Drama,Horror 9.275\n",
      "Drama,Horror,Musical 52.88\n",
      "Drama,Horror,Mystery 38.52333333333333\n",
      "Drama,Horror,Sci-Fi 58.68599999999999\n",
      "Drama,Horror,Thriller 16.11\n",
      "Drama,Music 20.30666666666667\n",
      "Drama,Music,Romance 30.799999999999997\n",
      "Drama,Musical,Romance 148.78\n",
      "Drama,Mystery,Romance 27.98833333333333\n",
      "Drama,Mystery,Sci-Fi 37.547999999999995\n",
      "Drama,Mystery,Thriller 19.584999999999997\n",
      "Drama,Mystery,War 6.86\n",
      "Drama,Romance 30.683666666666657\n",
      "Drama,Romance,Sci-Fi 17.7525\n",
      "Drama,Romance,Thriller 118.75\n",
      "Drama,Romance,War nan\n",
      "Drama,Sci-Fi 18.62\n",
      "Drama,Sci-Fi,Thriller 103.12666666666667\n",
      "Drama,Sport 77.46666666666665\n",
      "Drama,Thriller 27.6375\n",
      "Drama,Thriller,War 18.7\n",
      "Drama,War 5.375\n",
      "Drama,Western 162.8\n",
      "Fantasy,Horror 63.11\n",
      "Fantasy,Horror,Thriller nan\n",
      "Fantasy,Mystery,Thriller nan\n",
      "Horror 37.05285714285714\n",
      "Horror,Mystery 25.635\n",
      "Horror,Mystery,Sci-Fi 0.15\n",
      "Horror,Mystery,Thriller 72.57\n",
      "Horror,Sci-Fi,Thriller 34.165\n",
      "Horror,Thriller 34.04083333333333\n",
      "Mystery,Romance,Sci-Fi 54.7\n",
      "Mystery,Romance,Thriller 5.98\n",
      "Mystery,Sci-Fi,Thriller 68.76333333333334\n",
      "Mystery,Thriller 73.53333333333333\n",
      "Mystery,Thriller,Western nan\n",
      "Romance,Sci-Fi nan\n",
      "Romance,Sci-Fi,Thriller 62.45\n",
      "Sci-Fi 20.76\n",
      "Sci-Fi,Thriller 64.51\n",
      "Thriller 0.32\n",
      "Thriller,War nan\n"
     ]
    }
   ],
   "source": [
    "# this gives genre name and its corresonding mean value\n",
    "# we can observe some mean have nan value\n",
    "for i in genre_group_revenue.index:\n",
    "    print(genre_group_revenue[\"genre\"][i],genre_group_revenue[\"revenue (millions)\"][i])"
   ]
  },
  {
   "cell_type": "code",
   "execution_count": 17,
   "metadata": {},
   "outputs": [],
   "source": [
    "# calculating mean value of revenue (millions)\n",
    "mean_revenue_value=genre_group_revenue[\"revenue (millions)\"].mean()"
   ]
  },
  {
   "cell_type": "code",
   "execution_count": 18,
   "metadata": {},
   "outputs": [
    {
     "data": {
      "text/plain": [
       "66.02433967963796"
      ]
     },
     "execution_count": 18,
     "metadata": {},
     "output_type": "execute_result"
    }
   ],
   "source": [
    "# mean value of revenue\n",
    "mean_revenue_value"
   ]
  },
  {
   "cell_type": "code",
   "execution_count": 19,
   "metadata": {},
   "outputs": [],
   "source": [
    "# replacing nan values with mean value of revenue (millions)\n",
    "genre_group_revenue[\"revenue (millions)\"].fillna(mean_revenue_value,inplace=True)"
   ]
  },
  {
   "cell_type": "code",
   "execution_count": 20,
   "metadata": {},
   "outputs": [
    {
     "name": "stdout",
     "output_type": "stream",
     "text": [
      "<class 'pandas.core.frame.DataFrame'>\n",
      "Int64Index: 207 entries, 0 to 206\n",
      "Data columns (total 2 columns):\n",
      " #   Column              Non-Null Count  Dtype  \n",
      "---  ------              --------------  -----  \n",
      " 0   genre               207 non-null    object \n",
      " 1   revenue (millions)  207 non-null    float64\n",
      "dtypes: float64(1), object(1)\n",
      "memory usage: 14.9+ KB\n"
     ]
    }
   ],
   "source": [
    "# now we can observe there are no nan values in revenue (millions)\n",
    "genre_group_revenue.info()"
   ]
  },
  {
   "cell_type": "code",
   "execution_count": 21,
   "metadata": {},
   "outputs": [],
   "source": [
    "# I have to create dictionary with genre and revenue value without any null value\n",
    "# created dictionary which has genre name as key and its corresponding mean revenue (millions) value \n",
    "# is its value\n",
    "data_dict={}\n",
    "for i in genre_group_revenue.index:\n",
    "    data_dict[genre_group_revenue[\"genre\"][i]]=genre_group_revenue[\"revenue (millions)\"][i]\n",
    "#print(data_dict)"
   ]
  },
  {
   "cell_type": "raw",
   "metadata": {},
   "source": [
    "Next task is ,I want ot traverse on original dataframe and replace null values in revenue (millions) attribute with corresponding mean value of genre."
   ]
  },
  {
   "cell_type": "code",
   "execution_count": 22,
   "metadata": {},
   "outputs": [
    {
     "name": "stderr",
     "output_type": "stream",
     "text": [
      "c:\\users\\tejaswita\\appdata\\local\\programs\\python\\python37\\lib\\site-packages\\ipykernel_launcher.py:7: SettingWithCopyWarning: \n",
      "A value is trying to be set on a copy of a slice from a DataFrame\n",
      "\n",
      "See the caveats in the documentation: https://pandas.pydata.org/pandas-docs/stable/user_guide/indexing.html#returning-a-view-versus-a-copy\n",
      "  import sys\n"
     ]
    }
   ],
   "source": [
    "# it traverse on every row\n",
    "# observe here we are doing changes in original dataframe \n",
    "for i in original_dataframe.index:\n",
    "    # if revenue value is null then replace it with mean value of its corresponding genre\n",
    "    # for this we are using our database that is data_dict\n",
    "    if pd.isnull(original_dataframe[\"revenue (millions)\"][i]):\n",
    "        original_dataframe[\"revenue (millions)\"][i]=data_dict[original_dataframe[\"genre\"][i]] \n",
    "        #print(original_dataframe[\"genre\"][i],data_dict[original_dataframe[\"genre\"][i]])"
   ]
  },
  {
   "cell_type": "code",
   "execution_count": 23,
   "metadata": {},
   "outputs": [
    {
     "name": "stdout",
     "output_type": "stream",
     "text": [
      "<class 'pandas.core.frame.DataFrame'>\n",
      "RangeIndex: 1000 entries, 0 to 999\n",
      "Data columns (total 12 columns):\n",
      " #   Column              Non-Null Count  Dtype  \n",
      "---  ------              --------------  -----  \n",
      " 0   rank                1000 non-null   int64  \n",
      " 1   title               1000 non-null   object \n",
      " 2   genre               1000 non-null   object \n",
      " 3   description         1000 non-null   object \n",
      " 4   director            1000 non-null   object \n",
      " 5   actors              1000 non-null   object \n",
      " 6   year                1000 non-null   int64  \n",
      " 7   runtime (minutes)   1000 non-null   int64  \n",
      " 8   rating              1000 non-null   float64\n",
      " 9   votes               1000 non-null   int64  \n",
      " 10  revenue (millions)  1000 non-null   float64\n",
      " 11  metascore           936 non-null    float64\n",
      "dtypes: float64(3), int64(4), object(5)\n",
      "memory usage: 93.9+ KB\n"
     ]
    }
   ],
   "source": [
    "# now we can see that we dont have null values in revenue column\n",
    "# in original dataframe\n",
    "original_dataframe.info()"
   ]
  },
  {
   "cell_type": "markdown",
   "metadata": {},
   "source": [
    "##### Replacing nan value in metascore column"
   ]
  },
  {
   "cell_type": "code",
   "execution_count": 24,
   "metadata": {},
   "outputs": [
    {
     "name": "stdout",
     "output_type": "stream",
     "text": [
      "                          genre  metascore\n",
      "0                        Action  37.000000\n",
      "1              Action,Adventure  57.333333\n",
      "2    Action,Adventure,Biography  62.500000\n",
      "3       Action,Adventure,Comedy  47.214286\n",
      "4        Action,Adventure,Crime  48.333333\n",
      "..                          ...        ...\n",
      "202     Romance,Sci-Fi,Thriller        NaN\n",
      "203                      Sci-Fi  53.000000\n",
      "204             Sci-Fi,Thriller  34.000000\n",
      "205                    Thriller  59.714286\n",
      "206                Thriller,War  40.000000\n",
      "\n",
      "[207 rows x 2 columns]\n",
      "<class 'pandas.core.frame.DataFrame'>\n"
     ]
    }
   ],
   "source": [
    "# splitting dataset into groups\n",
    "# and taking mean of metascore\n",
    "genre_group_metascore=original_dataframe.groupby(\"genre\",as_index=False)[\"metascore\"].mean()\n",
    "print(genre_group_metascore)\n",
    "print(type(genre_group_metascore))\n",
    "# we got 207 rows ,as we have 207 genre\n",
    "# without as_index=False, it returns a Series instead"
   ]
  },
  {
   "cell_type": "code",
   "execution_count": 25,
   "metadata": {},
   "outputs": [
    {
     "name": "stdout",
     "output_type": "stream",
     "text": [
      "<class 'pandas.core.frame.DataFrame'>\n",
      "Int64Index: 207 entries, 0 to 206\n",
      "Data columns (total 2 columns):\n",
      " #   Column     Non-Null Count  Dtype  \n",
      "---  ------     --------------  -----  \n",
      " 0   genre      207 non-null    object \n",
      " 1   metascore  200 non-null    float64\n",
      "dtypes: float64(1), object(1)\n",
      "memory usage: 4.9+ KB\n"
     ]
    }
   ],
   "source": [
    "genre_group_metascore.info()"
   ]
  },
  {
   "cell_type": "raw",
   "metadata": {},
   "source": [
    "above output shows that we got 200 mean of metascore,we have 7 null value for metascore, we will replace those nan values with mean of mean of corresponding metascore"
   ]
  },
  {
   "cell_type": "code",
   "execution_count": 26,
   "metadata": {},
   "outputs": [],
   "source": [
    "# calculating mean of metascore\n",
    "mean_value_metascore=genre_group_metascore[\"metascore\"].mean()"
   ]
  },
  {
   "cell_type": "code",
   "execution_count": 27,
   "metadata": {},
   "outputs": [
    {
     "data": {
      "text/plain": [
       "58.624719921182134"
      ]
     },
     "execution_count": 27,
     "metadata": {},
     "output_type": "execute_result"
    }
   ],
   "source": [
    "# mean value\n",
    "mean_value_metascore"
   ]
  },
  {
   "cell_type": "code",
   "execution_count": 28,
   "metadata": {},
   "outputs": [],
   "source": [
    "# filling nan values of metascore column with metascore mean value\n",
    "genre_group_metascore[\"metascore\"].fillna(mean_value_metascore,inplace=True)"
   ]
  },
  {
   "cell_type": "code",
   "execution_count": 29,
   "metadata": {},
   "outputs": [
    {
     "name": "stdout",
     "output_type": "stream",
     "text": [
      "<class 'pandas.core.frame.DataFrame'>\n",
      "Int64Index: 207 entries, 0 to 206\n",
      "Data columns (total 2 columns):\n",
      " #   Column     Non-Null Count  Dtype  \n",
      "---  ------     --------------  -----  \n",
      " 0   genre      207 non-null    object \n",
      " 1   metascore  207 non-null    float64\n",
      "dtypes: float64(1), object(1)\n",
      "memory usage: 4.9+ KB\n"
     ]
    }
   ],
   "source": [
    "# now we can see there is no nan value in metascore column\n",
    "genre_group_metascore.info()"
   ]
  },
  {
   "cell_type": "code",
   "execution_count": 30,
   "metadata": {},
   "outputs": [],
   "source": [
    "# I have to create dictionary with genre and metascore value without any null value\n",
    "metascore_data_dict={}\n",
    "for i in genre_group_metascore.index:\n",
    "    metascore_data_dict[genre_group_metascore[\"genre\"][i]]=genre_group_metascore[\"metascore\"][i]\n",
    "#print(metascore_data_dict)"
   ]
  },
  {
   "cell_type": "code",
   "execution_count": 31,
   "metadata": {},
   "outputs": [
    {
     "name": "stderr",
     "output_type": "stream",
     "text": [
      "c:\\users\\tejaswita\\appdata\\local\\programs\\python\\python37\\lib\\site-packages\\ipykernel_launcher.py:5: SettingWithCopyWarning: \n",
      "A value is trying to be set on a copy of a slice from a DataFrame\n",
      "\n",
      "See the caveats in the documentation: https://pandas.pydata.org/pandas-docs/stable/user_guide/indexing.html#returning-a-view-versus-a-copy\n",
      "  \"\"\"\n"
     ]
    }
   ],
   "source": [
    "# it traverse on every row\n",
    "# it replaces nan values in original dataframe with mean of metascore corresponding to its genre\n",
    "for i in original_dataframe.index:\n",
    "    if pd.isnull(original_dataframe[\"metascore\"][i]):\n",
    "        original_dataframe[\"metascore\"][i]=metascore_data_dict[original_dataframe[\"genre\"][i]] "
   ]
  },
  {
   "cell_type": "code",
   "execution_count": 32,
   "metadata": {
    "scrolled": true
   },
   "outputs": [
    {
     "name": "stdout",
     "output_type": "stream",
     "text": [
      "<class 'pandas.core.frame.DataFrame'>\n",
      "RangeIndex: 1000 entries, 0 to 999\n",
      "Data columns (total 12 columns):\n",
      " #   Column              Non-Null Count  Dtype  \n",
      "---  ------              --------------  -----  \n",
      " 0   rank                1000 non-null   int64  \n",
      " 1   title               1000 non-null   object \n",
      " 2   genre               1000 non-null   object \n",
      " 3   description         1000 non-null   object \n",
      " 4   director            1000 non-null   object \n",
      " 5   actors              1000 non-null   object \n",
      " 6   year                1000 non-null   int64  \n",
      " 7   runtime (minutes)   1000 non-null   int64  \n",
      " 8   rating              1000 non-null   float64\n",
      " 9   votes               1000 non-null   int64  \n",
      " 10  revenue (millions)  1000 non-null   float64\n",
      " 11  metascore           1000 non-null   float64\n",
      "dtypes: float64(3), int64(4), object(5)\n",
      "memory usage: 93.9+ KB\n"
     ]
    }
   ],
   "source": [
    "# if we observe original dataframe info\n",
    "# there are no null values in metascore column\n",
    "original_dataframe.info()"
   ]
  },
  {
   "cell_type": "markdown",
   "metadata": {},
   "source": [
    "##### Using Rating"
   ]
  },
  {
   "cell_type": "raw",
   "metadata": {},
   "source": [
    "Now we will implement with rating, as we know we have null values in revenue (millions) and metascore columns,so we will replace those null values with mean of their corresoponding rating."
   ]
  },
  {
   "cell_type": "markdown",
   "metadata": {},
   "source": [
    "##### Replacing nan values in revenue (millions) column"
   ]
  },
  {
   "cell_type": "code",
   "execution_count": 33,
   "metadata": {},
   "outputs": [],
   "source": [
    "# creating pandas dataframe\n",
    "original_dataframe_rating=pd.read_csv(\"IMDB-Movie-Data.csv\")"
   ]
  },
  {
   "cell_type": "code",
   "execution_count": 34,
   "metadata": {},
   "outputs": [],
   "source": [
    "# converting all column names into lower case\n",
    "original_dataframe_rating.columns=[col.lower() for col in original_dataframe_rating]"
   ]
  },
  {
   "cell_type": "code",
   "execution_count": 35,
   "metadata": {},
   "outputs": [
    {
     "data": {
      "text/plain": [
       "Index(['rank', 'title', 'genre', 'description', 'director', 'actors', 'year',\n",
       "       'runtime (minutes)', 'rating', 'votes', 'revenue (millions)',\n",
       "       'metascore'],\n",
       "      dtype='object')"
      ]
     },
     "execution_count": 35,
     "metadata": {},
     "output_type": "execute_result"
    }
   ],
   "source": [
    "# getting names of columns\n",
    "original_dataframe_rating.columns"
   ]
  },
  {
   "cell_type": "code",
   "execution_count": 36,
   "metadata": {
    "scrolled": true
   },
   "outputs": [
    {
     "name": "stdout",
     "output_type": "stream",
     "text": [
      "<class 'pandas.core.frame.DataFrame'>\n",
      "RangeIndex: 1000 entries, 0 to 999\n",
      "Data columns (total 12 columns):\n",
      " #   Column              Non-Null Count  Dtype  \n",
      "---  ------              --------------  -----  \n",
      " 0   rank                1000 non-null   int64  \n",
      " 1   title               1000 non-null   object \n",
      " 2   genre               1000 non-null   object \n",
      " 3   description         1000 non-null   object \n",
      " 4   director            1000 non-null   object \n",
      " 5   actors              1000 non-null   object \n",
      " 6   year                1000 non-null   int64  \n",
      " 7   runtime (minutes)   1000 non-null   int64  \n",
      " 8   rating              1000 non-null   float64\n",
      " 9   votes               1000 non-null   int64  \n",
      " 10  revenue (millions)  872 non-null    float64\n",
      " 11  metascore           936 non-null    float64\n",
      "dtypes: float64(3), int64(4), object(5)\n",
      "memory usage: 93.9+ KB\n"
     ]
    }
   ],
   "source": [
    "# observe nan values, these are present in revenue (millions) and metascore column\n",
    "original_dataframe_rating.info()"
   ]
  },
  {
   "cell_type": "code",
   "execution_count": 37,
   "metadata": {},
   "outputs": [],
   "source": [
    "rating_group_revenue=original_dataframe_rating.groupby(\"rating\",as_index=False)[\"revenue (millions)\"].mean()\n",
    "# print(rating_group_revenue)\n",
    "# print(type(rating_group_revenue))\n",
    "# without as_index=False, it returns a Series instead"
   ]
  },
  {
   "cell_type": "code",
   "execution_count": 38,
   "metadata": {},
   "outputs": [
    {
     "data": {
      "text/html": [
       "<div>\n",
       "<style scoped>\n",
       "    .dataframe tbody tr th:only-of-type {\n",
       "        vertical-align: middle;\n",
       "    }\n",
       "\n",
       "    .dataframe tbody tr th {\n",
       "        vertical-align: top;\n",
       "    }\n",
       "\n",
       "    .dataframe thead th {\n",
       "        text-align: right;\n",
       "    }\n",
       "</style>\n",
       "<table border=\"1\" class=\"dataframe\">\n",
       "  <thead>\n",
       "    <tr style=\"text-align: right;\">\n",
       "      <th></th>\n",
       "      <th>rating</th>\n",
       "      <th>revenue (millions)</th>\n",
       "    </tr>\n",
       "  </thead>\n",
       "  <tbody>\n",
       "    <tr>\n",
       "      <th>0</th>\n",
       "      <td>1.9</td>\n",
       "      <td>14.17</td>\n",
       "    </tr>\n",
       "    <tr>\n",
       "      <th>1</th>\n",
       "      <td>2.7</td>\n",
       "      <td>9.35</td>\n",
       "    </tr>\n",
       "    <tr>\n",
       "      <th>2</th>\n",
       "      <td>3.2</td>\n",
       "      <td>NaN</td>\n",
       "    </tr>\n",
       "    <tr>\n",
       "      <th>3</th>\n",
       "      <td>3.5</td>\n",
       "      <td>NaN</td>\n",
       "    </tr>\n",
       "    <tr>\n",
       "      <th>4</th>\n",
       "      <td>3.7</td>\n",
       "      <td>NaN</td>\n",
       "    </tr>\n",
       "  </tbody>\n",
       "</table>\n",
       "</div>"
      ],
      "text/plain": [
       "   rating  revenue (millions)\n",
       "0     1.9               14.17\n",
       "1     2.7                9.35\n",
       "2     3.2                 NaN\n",
       "3     3.5                 NaN\n",
       "4     3.7                 NaN"
      ]
     },
     "execution_count": 38,
     "metadata": {},
     "output_type": "execute_result"
    }
   ],
   "source": [
    "rating_group_revenue.head()"
   ]
  },
  {
   "cell_type": "code",
   "execution_count": 39,
   "metadata": {},
   "outputs": [
    {
     "name": "stdout",
     "output_type": "stream",
     "text": [
      "<class 'pandas.core.frame.DataFrame'>\n",
      "Int64Index: 55 entries, 0 to 54\n",
      "Data columns (total 2 columns):\n",
      " #   Column              Non-Null Count  Dtype  \n",
      "---  ------              --------------  -----  \n",
      " 0   rating              55 non-null     float64\n",
      " 1   revenue (millions)  50 non-null     float64\n",
      "dtypes: float64(2)\n",
      "memory usage: 1.3 KB\n"
     ]
    }
   ],
   "source": [
    "rating_group_revenue.info()"
   ]
  },
  {
   "cell_type": "raw",
   "metadata": {},
   "source": [
    "Above output shows that we have 5 nan values in revenue (millions) column.We need to replace those with mean value of revenue (millions)"
   ]
  },
  {
   "cell_type": "code",
   "execution_count": 40,
   "metadata": {},
   "outputs": [],
   "source": [
    "# taking mean of revenue (millions)\n",
    "mean_revenue_value=rating_group_revenue[\"revenue (millions)\"].mean()"
   ]
  },
  {
   "cell_type": "code",
   "execution_count": 41,
   "metadata": {},
   "outputs": [],
   "source": [
    "# filling nan value with mean value\n",
    "rating_group_revenue[\"revenue (millions)\"].fillna(mean_revenue_value,inplace=True)"
   ]
  },
  {
   "cell_type": "code",
   "execution_count": 42,
   "metadata": {
    "scrolled": true
   },
   "outputs": [
    {
     "name": "stdout",
     "output_type": "stream",
     "text": [
      "<class 'pandas.core.frame.DataFrame'>\n",
      "Int64Index: 55 entries, 0 to 54\n",
      "Data columns (total 2 columns):\n",
      " #   Column              Non-Null Count  Dtype  \n",
      "---  ------              --------------  -----  \n",
      " 0   rating              55 non-null     float64\n",
      " 1   revenue (millions)  55 non-null     float64\n",
      "dtypes: float64(2)\n",
      "memory usage: 1.3 KB\n"
     ]
    }
   ],
   "source": [
    "# now is shows that revenue (millions) has no nan value\n",
    "rating_group_revenue.info()"
   ]
  },
  {
   "cell_type": "code",
   "execution_count": 43,
   "metadata": {},
   "outputs": [],
   "source": [
    "# I have to create dictionary with rating and revenue (millions) mean value without any null value\n",
    "revenue_data_dict={}\n",
    "for i in rating_group_revenue.index:\n",
    "    revenue_data_dict[rating_group_revenue[\"rating\"][i]]=rating_group_revenue[\"revenue (millions)\"][i]\n",
    "# print(revenue_data_dict)"
   ]
  },
  {
   "cell_type": "code",
   "execution_count": 44,
   "metadata": {},
   "outputs": [
    {
     "name": "stderr",
     "output_type": "stream",
     "text": [
      "c:\\users\\tejaswita\\appdata\\local\\programs\\python\\python37\\lib\\site-packages\\ipykernel_launcher.py:5: SettingWithCopyWarning: \n",
      "A value is trying to be set on a copy of a slice from a DataFrame\n",
      "\n",
      "See the caveats in the documentation: https://pandas.pydata.org/pandas-docs/stable/user_guide/indexing.html#returning-a-view-versus-a-copy\n",
      "  \"\"\"\n"
     ]
    }
   ],
   "source": [
    "# it traverse on every row\n",
    "# it replaces nan values in original dataframe with mean of revenue (millions) corresponding to its rating\n",
    "for i in original_dataframe_rating.index:\n",
    "    if pd.isnull(original_dataframe_rating[\"revenue (millions)\"][i]):\n",
    "        original_dataframe_rating[\"revenue (millions)\"][i]=revenue_data_dict[original_dataframe_rating[\"rating\"][i]] "
   ]
  },
  {
   "cell_type": "code",
   "execution_count": 45,
   "metadata": {
    "scrolled": true
   },
   "outputs": [
    {
     "name": "stdout",
     "output_type": "stream",
     "text": [
      "<class 'pandas.core.frame.DataFrame'>\n",
      "RangeIndex: 1000 entries, 0 to 999\n",
      "Data columns (total 12 columns):\n",
      " #   Column              Non-Null Count  Dtype  \n",
      "---  ------              --------------  -----  \n",
      " 0   rank                1000 non-null   int64  \n",
      " 1   title               1000 non-null   object \n",
      " 2   genre               1000 non-null   object \n",
      " 3   description         1000 non-null   object \n",
      " 4   director            1000 non-null   object \n",
      " 5   actors              1000 non-null   object \n",
      " 6   year                1000 non-null   int64  \n",
      " 7   runtime (minutes)   1000 non-null   int64  \n",
      " 8   rating              1000 non-null   float64\n",
      " 9   votes               1000 non-null   int64  \n",
      " 10  revenue (millions)  1000 non-null   float64\n",
      " 11  metascore           936 non-null    float64\n",
      "dtypes: float64(3), int64(4), object(5)\n",
      "memory usage: 93.9+ KB\n"
     ]
    }
   ],
   "source": [
    "original_dataframe_rating.info()"
   ]
  },
  {
   "cell_type": "markdown",
   "metadata": {},
   "source": [
    "##### Replacing nan value in metascore column"
   ]
  },
  {
   "cell_type": "code",
   "execution_count": 46,
   "metadata": {},
   "outputs": [],
   "source": [
    "rating_group_metascore=original_dataframe_rating.groupby(\"rating\",as_index=False)[\"metascore\"].mean()\n",
    "# print(rating_group_metascore)\n",
    "# print(type(rating_group_metascore))\n",
    "# without as_index=False, it returns a Series instead"
   ]
  },
  {
   "cell_type": "code",
   "execution_count": 47,
   "metadata": {},
   "outputs": [
    {
     "name": "stdout",
     "output_type": "stream",
     "text": [
      "<class 'pandas.core.frame.DataFrame'>\n",
      "Int64Index: 55 entries, 0 to 54\n",
      "Data columns (total 2 columns):\n",
      " #   Column     Non-Null Count  Dtype  \n",
      "---  ------     --------------  -----  \n",
      " 0   rating     55 non-null     float64\n",
      " 1   metascore  55 non-null     float64\n",
      "dtypes: float64(2)\n",
      "memory usage: 1.3 KB\n"
     ]
    }
   ],
   "source": [
    "rating_group_metascore.info()"
   ]
  },
  {
   "cell_type": "code",
   "execution_count": 48,
   "metadata": {},
   "outputs": [],
   "source": [
    "#rating_group_metascore[\"metascore\"]"
   ]
  },
  {
   "cell_type": "code",
   "execution_count": 49,
   "metadata": {
    "scrolled": true
   },
   "outputs": [],
   "source": [
    "# I have to create dictionary with rating and metascore mean value without any null value\n",
    "metascore_data_dict={}\n",
    "for i in rating_group_metascore.index:\n",
    "    metascore_data_dict[rating_group_metascore[\"rating\"][i]]=rating_group_metascore[\"metascore\"][i]\n",
    "#print(metascore_data_dict)"
   ]
  },
  {
   "cell_type": "code",
   "execution_count": 50,
   "metadata": {},
   "outputs": [
    {
     "name": "stderr",
     "output_type": "stream",
     "text": [
      "c:\\users\\tejaswita\\appdata\\local\\programs\\python\\python37\\lib\\site-packages\\ipykernel_launcher.py:5: SettingWithCopyWarning: \n",
      "A value is trying to be set on a copy of a slice from a DataFrame\n",
      "\n",
      "See the caveats in the documentation: https://pandas.pydata.org/pandas-docs/stable/user_guide/indexing.html#returning-a-view-versus-a-copy\n",
      "  \"\"\"\n"
     ]
    }
   ],
   "source": [
    "# it traverse on every row\n",
    "# it replaces nan values in original dataframe with mean of metascore corresponding to its rating\n",
    "for i in original_dataframe_rating.index:\n",
    "    if pd.isnull(original_dataframe_rating[\"metascore\"][i]):\n",
    "        original_dataframe_rating[\"metascore\"][i]=metascore_data_dict[original_dataframe_rating[\"rating\"][i]] "
   ]
  },
  {
   "cell_type": "code",
   "execution_count": 51,
   "metadata": {},
   "outputs": [
    {
     "name": "stdout",
     "output_type": "stream",
     "text": [
      "<class 'pandas.core.frame.DataFrame'>\n",
      "RangeIndex: 1000 entries, 0 to 999\n",
      "Data columns (total 12 columns):\n",
      " #   Column              Non-Null Count  Dtype  \n",
      "---  ------              --------------  -----  \n",
      " 0   rank                1000 non-null   int64  \n",
      " 1   title               1000 non-null   object \n",
      " 2   genre               1000 non-null   object \n",
      " 3   description         1000 non-null   object \n",
      " 4   director            1000 non-null   object \n",
      " 5   actors              1000 non-null   object \n",
      " 6   year                1000 non-null   int64  \n",
      " 7   runtime (minutes)   1000 non-null   int64  \n",
      " 8   rating              1000 non-null   float64\n",
      " 9   votes               1000 non-null   int64  \n",
      " 10  revenue (millions)  1000 non-null   float64\n",
      " 11  metascore           1000 non-null   float64\n",
      "dtypes: float64(3), int64(4), object(5)\n",
      "memory usage: 93.9+ KB\n"
     ]
    }
   ],
   "source": [
    "# now there are no null values in dataframe \n",
    "original_dataframe_rating.info()"
   ]
  }
 ],
 "metadata": {
  "kernelspec": {
   "display_name": "Python 3",
   "language": "python",
   "name": "python3"
  },
  "language_info": {
   "codemirror_mode": {
    "name": "ipython",
    "version": 3
   },
   "file_extension": ".py",
   "mimetype": "text/x-python",
   "name": "python",
   "nbconvert_exporter": "python",
   "pygments_lexer": "ipython3",
   "version": "3.7.6"
  }
 },
 "nbformat": 4,
 "nbformat_minor": 4
}
