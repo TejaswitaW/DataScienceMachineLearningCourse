{
 "cells": [
  {
   "cell_type": "raw",
   "metadata": {},
   "source": [
    "Q.1.Try fillna with \"genre\" and \"rating\"."
   ]
  },
  {
   "cell_type": "raw",
   "metadata": {},
   "source": [
    "Q.2.Try replacing categorical data with manully created dictionary key-values."
   ]
  },
  {
   "cell_type": "raw",
   "metadata": {},
   "source": [
    "Q.3.Take individual rating and plot its sum using bar plot."
   ]
  },
  {
   "cell_type": "raw",
   "metadata": {},
   "source": [
    "Q.4.Divide data according to year (in two fragments) and see revenue in scatter plot.Take mean rating on x-axis."
   ]
  },
  {
   "cell_type": "code",
   "execution_count": 1,
   "metadata": {},
   "outputs": [],
   "source": [
    "# importing all required libraries\n",
    "import pandas as pd\n",
    "import matplotlib.pyplot as plt\n",
    "import seaborn as sns\n",
    "%matplotlib inline"
   ]
  },
  {
   "cell_type": "markdown",
   "metadata": {},
   "source": [
    "#### Q.1.Try fillna with \"genre\" and \"rating\" "
   ]
  },
  {
   "cell_type": "code",
   "execution_count": 2,
   "metadata": {},
   "outputs": [],
   "source": [
    "# creating pandas dataframe\n",
    "original_dataframe=pd.read_csv(\"IMDB-Movie-Data.csv\")"
   ]
  },
  {
   "cell_type": "code",
   "execution_count": 3,
   "metadata": {},
   "outputs": [],
   "source": [
    "# converting all column names into lower case\n",
    "original_dataframe.columns=[col.lower() for col in original_dataframe]"
   ]
  },
  {
   "cell_type": "code",
   "execution_count": 4,
   "metadata": {
    "scrolled": false
   },
   "outputs": [
    {
     "data": {
      "text/plain": [
       "Index(['rank', 'title', 'genre', 'description', 'director', 'actors', 'year',\n",
       "       'runtime (minutes)', 'rating', 'votes', 'revenue (millions)',\n",
       "       'metascore'],\n",
       "      dtype='object')"
      ]
     },
     "execution_count": 4,
     "metadata": {},
     "output_type": "execute_result"
    }
   ],
   "source": [
    "# getting columns name in our dataframe\n",
    "original_dataframe.columns"
   ]
  },
  {
   "cell_type": "code",
   "execution_count": 5,
   "metadata": {
    "scrolled": true
   },
   "outputs": [
    {
     "data": {
      "text/html": [
       "<div>\n",
       "<style scoped>\n",
       "    .dataframe tbody tr th:only-of-type {\n",
       "        vertical-align: middle;\n",
       "    }\n",
       "\n",
       "    .dataframe tbody tr th {\n",
       "        vertical-align: top;\n",
       "    }\n",
       "\n",
       "    .dataframe thead th {\n",
       "        text-align: right;\n",
       "    }\n",
       "</style>\n",
       "<table border=\"1\" class=\"dataframe\">\n",
       "  <thead>\n",
       "    <tr style=\"text-align: right;\">\n",
       "      <th></th>\n",
       "      <th>rank</th>\n",
       "      <th>title</th>\n",
       "      <th>genre</th>\n",
       "      <th>description</th>\n",
       "      <th>director</th>\n",
       "      <th>actors</th>\n",
       "      <th>year</th>\n",
       "      <th>runtime (minutes)</th>\n",
       "      <th>rating</th>\n",
       "      <th>votes</th>\n",
       "      <th>revenue (millions)</th>\n",
       "      <th>metascore</th>\n",
       "    </tr>\n",
       "  </thead>\n",
       "  <tbody>\n",
       "    <tr>\n",
       "      <th>0</th>\n",
       "      <td>1</td>\n",
       "      <td>Guardians of the Galaxy</td>\n",
       "      <td>Action,Adventure,Sci-Fi</td>\n",
       "      <td>A group of intergalactic criminals are forced ...</td>\n",
       "      <td>James Gunn</td>\n",
       "      <td>Chris Pratt, Vin Diesel, Bradley Cooper, Zoe S...</td>\n",
       "      <td>2014</td>\n",
       "      <td>121</td>\n",
       "      <td>8.1</td>\n",
       "      <td>757074</td>\n",
       "      <td>333.13</td>\n",
       "      <td>76.0</td>\n",
       "    </tr>\n",
       "    <tr>\n",
       "      <th>1</th>\n",
       "      <td>2</td>\n",
       "      <td>Prometheus</td>\n",
       "      <td>Adventure,Mystery,Sci-Fi</td>\n",
       "      <td>Following clues to the origin of mankind, a te...</td>\n",
       "      <td>Ridley Scott</td>\n",
       "      <td>Noomi Rapace, Logan Marshall-Green, Michael Fa...</td>\n",
       "      <td>2012</td>\n",
       "      <td>124</td>\n",
       "      <td>7.0</td>\n",
       "      <td>485820</td>\n",
       "      <td>126.46</td>\n",
       "      <td>65.0</td>\n",
       "    </tr>\n",
       "    <tr>\n",
       "      <th>2</th>\n",
       "      <td>3</td>\n",
       "      <td>Split</td>\n",
       "      <td>Horror,Thriller</td>\n",
       "      <td>Three girls are kidnapped by a man with a diag...</td>\n",
       "      <td>M. Night Shyamalan</td>\n",
       "      <td>James McAvoy, Anya Taylor-Joy, Haley Lu Richar...</td>\n",
       "      <td>2016</td>\n",
       "      <td>117</td>\n",
       "      <td>7.3</td>\n",
       "      <td>157606</td>\n",
       "      <td>138.12</td>\n",
       "      <td>62.0</td>\n",
       "    </tr>\n",
       "    <tr>\n",
       "      <th>3</th>\n",
       "      <td>4</td>\n",
       "      <td>Sing</td>\n",
       "      <td>Animation,Comedy,Family</td>\n",
       "      <td>In a city of humanoid animals, a hustling thea...</td>\n",
       "      <td>Christophe Lourdelet</td>\n",
       "      <td>Matthew McConaughey,Reese Witherspoon, Seth Ma...</td>\n",
       "      <td>2016</td>\n",
       "      <td>108</td>\n",
       "      <td>7.2</td>\n",
       "      <td>60545</td>\n",
       "      <td>270.32</td>\n",
       "      <td>59.0</td>\n",
       "    </tr>\n",
       "    <tr>\n",
       "      <th>4</th>\n",
       "      <td>5</td>\n",
       "      <td>Suicide Squad</td>\n",
       "      <td>Action,Adventure,Fantasy</td>\n",
       "      <td>A secret government agency recruits some of th...</td>\n",
       "      <td>David Ayer</td>\n",
       "      <td>Will Smith, Jared Leto, Margot Robbie, Viola D...</td>\n",
       "      <td>2016</td>\n",
       "      <td>123</td>\n",
       "      <td>6.2</td>\n",
       "      <td>393727</td>\n",
       "      <td>325.02</td>\n",
       "      <td>40.0</td>\n",
       "    </tr>\n",
       "  </tbody>\n",
       "</table>\n",
       "</div>"
      ],
      "text/plain": [
       "   rank                    title                     genre  \\\n",
       "0     1  Guardians of the Galaxy   Action,Adventure,Sci-Fi   \n",
       "1     2               Prometheus  Adventure,Mystery,Sci-Fi   \n",
       "2     3                    Split           Horror,Thriller   \n",
       "3     4                     Sing   Animation,Comedy,Family   \n",
       "4     5            Suicide Squad  Action,Adventure,Fantasy   \n",
       "\n",
       "                                         description              director  \\\n",
       "0  A group of intergalactic criminals are forced ...            James Gunn   \n",
       "1  Following clues to the origin of mankind, a te...          Ridley Scott   \n",
       "2  Three girls are kidnapped by a man with a diag...    M. Night Shyamalan   \n",
       "3  In a city of humanoid animals, a hustling thea...  Christophe Lourdelet   \n",
       "4  A secret government agency recruits some of th...            David Ayer   \n",
       "\n",
       "                                              actors  year  runtime (minutes)  \\\n",
       "0  Chris Pratt, Vin Diesel, Bradley Cooper, Zoe S...  2014                121   \n",
       "1  Noomi Rapace, Logan Marshall-Green, Michael Fa...  2012                124   \n",
       "2  James McAvoy, Anya Taylor-Joy, Haley Lu Richar...  2016                117   \n",
       "3  Matthew McConaughey,Reese Witherspoon, Seth Ma...  2016                108   \n",
       "4  Will Smith, Jared Leto, Margot Robbie, Viola D...  2016                123   \n",
       "\n",
       "   rating   votes  revenue (millions)  metascore  \n",
       "0     8.1  757074              333.13       76.0  \n",
       "1     7.0  485820              126.46       65.0  \n",
       "2     7.3  157606              138.12       62.0  \n",
       "3     7.2   60545              270.32       59.0  \n",
       "4     6.2  393727              325.02       40.0  "
      ]
     },
     "execution_count": 5,
     "metadata": {},
     "output_type": "execute_result"
    }
   ],
   "source": [
    "original_dataframe.head()"
   ]
  },
  {
   "cell_type": "code",
   "execution_count": 6,
   "metadata": {},
   "outputs": [
    {
     "data": {
      "text/html": [
       "<div>\n",
       "<style scoped>\n",
       "    .dataframe tbody tr th:only-of-type {\n",
       "        vertical-align: middle;\n",
       "    }\n",
       "\n",
       "    .dataframe tbody tr th {\n",
       "        vertical-align: top;\n",
       "    }\n",
       "\n",
       "    .dataframe thead th {\n",
       "        text-align: right;\n",
       "    }\n",
       "</style>\n",
       "<table border=\"1\" class=\"dataframe\">\n",
       "  <thead>\n",
       "    <tr style=\"text-align: right;\">\n",
       "      <th></th>\n",
       "      <th>genre</th>\n",
       "      <th>rating</th>\n",
       "    </tr>\n",
       "  </thead>\n",
       "  <tbody>\n",
       "    <tr>\n",
       "      <th>0</th>\n",
       "      <td>Action,Adventure,Sci-Fi</td>\n",
       "      <td>8.1</td>\n",
       "    </tr>\n",
       "    <tr>\n",
       "      <th>1</th>\n",
       "      <td>Adventure,Mystery,Sci-Fi</td>\n",
       "      <td>7.0</td>\n",
       "    </tr>\n",
       "    <tr>\n",
       "      <th>2</th>\n",
       "      <td>Horror,Thriller</td>\n",
       "      <td>7.3</td>\n",
       "    </tr>\n",
       "    <tr>\n",
       "      <th>3</th>\n",
       "      <td>Animation,Comedy,Family</td>\n",
       "      <td>7.2</td>\n",
       "    </tr>\n",
       "    <tr>\n",
       "      <th>4</th>\n",
       "      <td>Action,Adventure,Fantasy</td>\n",
       "      <td>6.2</td>\n",
       "    </tr>\n",
       "    <tr>\n",
       "      <th>...</th>\n",
       "      <td>...</td>\n",
       "      <td>...</td>\n",
       "    </tr>\n",
       "    <tr>\n",
       "      <th>995</th>\n",
       "      <td>Crime,Drama,Mystery</td>\n",
       "      <td>6.2</td>\n",
       "    </tr>\n",
       "    <tr>\n",
       "      <th>996</th>\n",
       "      <td>Horror</td>\n",
       "      <td>5.5</td>\n",
       "    </tr>\n",
       "    <tr>\n",
       "      <th>997</th>\n",
       "      <td>Drama,Music,Romance</td>\n",
       "      <td>6.2</td>\n",
       "    </tr>\n",
       "    <tr>\n",
       "      <th>998</th>\n",
       "      <td>Adventure,Comedy</td>\n",
       "      <td>5.6</td>\n",
       "    </tr>\n",
       "    <tr>\n",
       "      <th>999</th>\n",
       "      <td>Comedy,Family,Fantasy</td>\n",
       "      <td>5.3</td>\n",
       "    </tr>\n",
       "  </tbody>\n",
       "</table>\n",
       "<p>1000 rows × 2 columns</p>\n",
       "</div>"
      ],
      "text/plain": [
       "                        genre  rating\n",
       "0     Action,Adventure,Sci-Fi     8.1\n",
       "1    Adventure,Mystery,Sci-Fi     7.0\n",
       "2             Horror,Thriller     7.3\n",
       "3     Animation,Comedy,Family     7.2\n",
       "4    Action,Adventure,Fantasy     6.2\n",
       "..                        ...     ...\n",
       "995       Crime,Drama,Mystery     6.2\n",
       "996                    Horror     5.5\n",
       "997       Drama,Music,Romance     6.2\n",
       "998          Adventure,Comedy     5.6\n",
       "999     Comedy,Family,Fantasy     5.3\n",
       "\n",
       "[1000 rows x 2 columns]"
      ]
     },
     "execution_count": 6,
     "metadata": {},
     "output_type": "execute_result"
    }
   ],
   "source": [
    "original_dataframe[[\"genre\",\"rating\"]]"
   ]
  },
  {
   "cell_type": "code",
   "execution_count": 7,
   "metadata": {
    "scrolled": true
   },
   "outputs": [
    {
     "name": "stdout",
     "output_type": "stream",
     "text": [
      "<class 'pandas.core.frame.DataFrame'>\n",
      "RangeIndex: 1000 entries, 0 to 999\n",
      "Data columns (total 12 columns):\n",
      " #   Column              Non-Null Count  Dtype  \n",
      "---  ------              --------------  -----  \n",
      " 0   rank                1000 non-null   int64  \n",
      " 1   title               1000 non-null   object \n",
      " 2   genre               1000 non-null   object \n",
      " 3   description         1000 non-null   object \n",
      " 4   director            1000 non-null   object \n",
      " 5   actors              1000 non-null   object \n",
      " 6   year                1000 non-null   int64  \n",
      " 7   runtime (minutes)   1000 non-null   int64  \n",
      " 8   rating              1000 non-null   float64\n",
      " 9   votes               1000 non-null   int64  \n",
      " 10  revenue (millions)  872 non-null    float64\n",
      " 11  metascore           936 non-null    float64\n",
      "dtypes: float64(3), int64(4), object(5)\n",
      "memory usage: 93.9+ KB\n"
     ]
    }
   ],
   "source": [
    "original_dataframe.info()"
   ]
  },
  {
   "cell_type": "raw",
   "metadata": {},
   "source": [
    "If we observe above output, we can see that there are null values in revenue (millions) and metascore,our task is to replace these null values on the basis of genre,rating and director.First we will go for using genre."
   ]
  },
  {
   "cell_type": "code",
   "execution_count": 8,
   "metadata": {
    "scrolled": true
   },
   "outputs": [
    {
     "data": {
      "text/plain": [
       "0       Action,Adventure,Sci-Fi\n",
       "1      Adventure,Mystery,Sci-Fi\n",
       "2               Horror,Thriller\n",
       "3       Animation,Comedy,Family\n",
       "4      Action,Adventure,Fantasy\n",
       "                 ...           \n",
       "995         Crime,Drama,Mystery\n",
       "996                      Horror\n",
       "997         Drama,Music,Romance\n",
       "998            Adventure,Comedy\n",
       "999       Comedy,Family,Fantasy\n",
       "Name: genre, Length: 1000, dtype: object"
      ]
     },
     "execution_count": 8,
     "metadata": {},
     "output_type": "execute_result"
    }
   ],
   "source": [
    "# the genre column contains following data points\n",
    "original_dataframe[\"genre\"]"
   ]
  },
  {
   "cell_type": "code",
   "execution_count": 9,
   "metadata": {},
   "outputs": [
    {
     "data": {
      "text/plain": [
       "1000"
      ]
     },
     "execution_count": 9,
     "metadata": {},
     "output_type": "execute_result"
    }
   ],
   "source": [
    "# we get length of genre column\n",
    "# it is one series\n",
    "original_dataframe[\"genre\"].count()"
   ]
  },
  {
   "cell_type": "code",
   "execution_count": 10,
   "metadata": {},
   "outputs": [
    {
     "data": {
      "text/plain": [
       "Action,Adventure,Sci-Fi      50\n",
       "Drama                        48\n",
       "Comedy,Drama,Romance         35\n",
       "Comedy                       32\n",
       "Drama,Romance                31\n",
       "                             ..\n",
       "Crime,Thriller                1\n",
       "Adventure,Biography,Crime     1\n",
       "Mystery,Thriller,Western      1\n",
       "Horror,Mystery,Sci-Fi         1\n",
       "Comedy,Horror,Romance         1\n",
       "Name: genre, Length: 207, dtype: int64"
      ]
     },
     "execution_count": 10,
     "metadata": {},
     "output_type": "execute_result"
    }
   ],
   "source": [
    "# getting unique values count of genre column\n",
    "# there are total 207 genre\n",
    "original_dataframe[\"genre\"].value_counts()"
   ]
  },
  {
   "cell_type": "code",
   "execution_count": 11,
   "metadata": {},
   "outputs": [
    {
     "name": "stdout",
     "output_type": "stream",
     "text": [
      "207\n"
     ]
    }
   ],
   "source": [
    "genre_list=[]\n",
    "for genre_name in original_dataframe[\"genre\"]:\n",
    "    if genre_name not in genre_list:\n",
    "        genre_list.append(genre_name)\n",
    "print(len(genre_list))"
   ]
  },
  {
   "cell_type": "code",
   "execution_count": 12,
   "metadata": {},
   "outputs": [
    {
     "name": "stdout",
     "output_type": "stream",
     "text": [
      "['Action,Adventure,Sci-Fi', 'Adventure,Mystery,Sci-Fi', 'Horror,Thriller']\n"
     ]
    }
   ],
   "source": [
    "print(genre_list[0:3])"
   ]
  },
  {
   "cell_type": "code",
   "execution_count": 13,
   "metadata": {
    "scrolled": false
   },
   "outputs": [
    {
     "name": "stdout",
     "output_type": "stream",
     "text": [
      "                          genre  revenue (millions)\n",
      "0                        Action          131.560000\n",
      "1              Action,Adventure          223.740000\n",
      "2    Action,Adventure,Biography           16.500000\n",
      "3       Action,Adventure,Comedy           95.733571\n",
      "4        Action,Adventure,Crime           90.620000\n",
      "..                          ...                 ...\n",
      "202     Romance,Sci-Fi,Thriller           62.450000\n",
      "203                      Sci-Fi           20.760000\n",
      "204             Sci-Fi,Thriller           64.510000\n",
      "205                    Thriller            0.320000\n",
      "206                Thriller,War                 NaN\n",
      "\n",
      "[207 rows x 2 columns]\n",
      "<class 'pandas.core.frame.DataFrame'>\n"
     ]
    }
   ],
   "source": [
    "genre_group=original_dataframe.groupby(\"genre\",as_index=False)[\"revenue (millions)\"].mean()\n",
    "print(genre_group)\n",
    "print(type(genre_group))\n",
    "# we got 207 rows ,as we have 207 genre\n",
    "# without as_index=False, it returns a Series instead"
   ]
  },
  {
   "cell_type": "code",
   "execution_count": 14,
   "metadata": {},
   "outputs": [],
   "source": [
    "#genre_group[\"metascore\"].isnull().value_counts()"
   ]
  },
  {
   "cell_type": "code",
   "execution_count": 15,
   "metadata": {},
   "outputs": [
    {
     "data": {
      "text/plain": [
       "Index(['genre', 'revenue (millions)'], dtype='object')"
      ]
     },
     "execution_count": 15,
     "metadata": {},
     "output_type": "execute_result"
    }
   ],
   "source": [
    "genre_group.columns"
   ]
  },
  {
   "cell_type": "code",
   "execution_count": 16,
   "metadata": {
    "scrolled": true
   },
   "outputs": [
    {
     "data": {
      "text/plain": [
       "0                          Action\n",
       "1                Action,Adventure\n",
       "2      Action,Adventure,Biography\n",
       "3         Action,Adventure,Comedy\n",
       "4          Action,Adventure,Crime\n",
       "                  ...            \n",
       "202       Romance,Sci-Fi,Thriller\n",
       "203                        Sci-Fi\n",
       "204               Sci-Fi,Thriller\n",
       "205                      Thriller\n",
       "206                  Thriller,War\n",
       "Name: genre, Length: 207, dtype: object"
      ]
     },
     "execution_count": 16,
     "metadata": {},
     "output_type": "execute_result"
    }
   ],
   "source": [
    "genre_group.head()\n",
    "# for column_name in genre_group:\n",
    "#     for val in column_name:\n",
    "#         print(val)\n",
    "genre_group[\"genre\"]"
   ]
  },
  {
   "cell_type": "code",
   "execution_count": 17,
   "metadata": {
    "scrolled": true
   },
   "outputs": [
    {
     "data": {
      "text/plain": [
       "0      131.560000\n",
       "1      223.740000\n",
       "2       16.500000\n",
       "3       95.733571\n",
       "4       90.620000\n",
       "          ...    \n",
       "202     62.450000\n",
       "203     20.760000\n",
       "204     64.510000\n",
       "205      0.320000\n",
       "206           NaN\n",
       "Name: revenue (millions), Length: 207, dtype: float64"
      ]
     },
     "execution_count": 17,
     "metadata": {},
     "output_type": "execute_result"
    }
   ],
   "source": [
    "genre_group[\"revenue (millions)\"]"
   ]
  },
  {
   "cell_type": "code",
   "execution_count": 18,
   "metadata": {},
   "outputs": [],
   "source": [
    "# mean_dict={}\n",
    "# mean_dict=dict.fromkeys(genre_group[\"genre\"])\n",
    "# print(mean_dict)"
   ]
  },
  {
   "cell_type": "code",
   "execution_count": 19,
   "metadata": {},
   "outputs": [],
   "source": [
    "# transformed = grouped.transform(lambda x: x.fillna(x.mean()))\n",
    "# transformed = genre_group.transform(lambda revenue(millions): revenue(millions).fillna(revenue(millions).mean()))"
   ]
  },
  {
   "cell_type": "code",
   "execution_count": 20,
   "metadata": {},
   "outputs": [],
   "source": [
    "#genre_group.set_index(\"genre\",inplace=True)"
   ]
  },
  {
   "cell_type": "code",
   "execution_count": 21,
   "metadata": {},
   "outputs": [
    {
     "data": {
      "text/html": [
       "<div>\n",
       "<style scoped>\n",
       "    .dataframe tbody tr th:only-of-type {\n",
       "        vertical-align: middle;\n",
       "    }\n",
       "\n",
       "    .dataframe tbody tr th {\n",
       "        vertical-align: top;\n",
       "    }\n",
       "\n",
       "    .dataframe thead th {\n",
       "        text-align: right;\n",
       "    }\n",
       "</style>\n",
       "<table border=\"1\" class=\"dataframe\">\n",
       "  <thead>\n",
       "    <tr style=\"text-align: right;\">\n",
       "      <th></th>\n",
       "      <th>genre</th>\n",
       "      <th>revenue (millions)</th>\n",
       "    </tr>\n",
       "  </thead>\n",
       "  <tbody>\n",
       "    <tr>\n",
       "      <th>0</th>\n",
       "      <td>Action</td>\n",
       "      <td>131.560000</td>\n",
       "    </tr>\n",
       "    <tr>\n",
       "      <th>1</th>\n",
       "      <td>Action,Adventure</td>\n",
       "      <td>223.740000</td>\n",
       "    </tr>\n",
       "    <tr>\n",
       "      <th>2</th>\n",
       "      <td>Action,Adventure,Biography</td>\n",
       "      <td>16.500000</td>\n",
       "    </tr>\n",
       "    <tr>\n",
       "      <th>3</th>\n",
       "      <td>Action,Adventure,Comedy</td>\n",
       "      <td>95.733571</td>\n",
       "    </tr>\n",
       "    <tr>\n",
       "      <th>4</th>\n",
       "      <td>Action,Adventure,Crime</td>\n",
       "      <td>90.620000</td>\n",
       "    </tr>\n",
       "    <tr>\n",
       "      <th>...</th>\n",
       "      <td>...</td>\n",
       "      <td>...</td>\n",
       "    </tr>\n",
       "    <tr>\n",
       "      <th>202</th>\n",
       "      <td>Romance,Sci-Fi,Thriller</td>\n",
       "      <td>62.450000</td>\n",
       "    </tr>\n",
       "    <tr>\n",
       "      <th>203</th>\n",
       "      <td>Sci-Fi</td>\n",
       "      <td>20.760000</td>\n",
       "    </tr>\n",
       "    <tr>\n",
       "      <th>204</th>\n",
       "      <td>Sci-Fi,Thriller</td>\n",
       "      <td>64.510000</td>\n",
       "    </tr>\n",
       "    <tr>\n",
       "      <th>205</th>\n",
       "      <td>Thriller</td>\n",
       "      <td>0.320000</td>\n",
       "    </tr>\n",
       "    <tr>\n",
       "      <th>206</th>\n",
       "      <td>Thriller,War</td>\n",
       "      <td>NaN</td>\n",
       "    </tr>\n",
       "  </tbody>\n",
       "</table>\n",
       "<p>207 rows × 2 columns</p>\n",
       "</div>"
      ],
      "text/plain": [
       "                          genre  revenue (millions)\n",
       "0                        Action          131.560000\n",
       "1              Action,Adventure          223.740000\n",
       "2    Action,Adventure,Biography           16.500000\n",
       "3       Action,Adventure,Comedy           95.733571\n",
       "4        Action,Adventure,Crime           90.620000\n",
       "..                          ...                 ...\n",
       "202     Romance,Sci-Fi,Thriller           62.450000\n",
       "203                      Sci-Fi           20.760000\n",
       "204             Sci-Fi,Thriller           64.510000\n",
       "205                    Thriller            0.320000\n",
       "206                Thriller,War                 NaN\n",
       "\n",
       "[207 rows x 2 columns]"
      ]
     },
     "execution_count": 21,
     "metadata": {},
     "output_type": "execute_result"
    }
   ],
   "source": [
    "genre_group"
   ]
  },
  {
   "cell_type": "code",
   "execution_count": 22,
   "metadata": {},
   "outputs": [],
   "source": [
    "#genre_group.loc[\"Action\"]"
   ]
  },
  {
   "cell_type": "code",
   "execution_count": 23,
   "metadata": {},
   "outputs": [
    {
     "name": "stdout",
     "output_type": "stream",
     "text": [
      "Action 131.56\n",
      "Action,Adventure 223.73999999999998\n",
      "Action,Adventure,Biography 16.5\n",
      "Action,Adventure,Comedy 95.73357142857141\n",
      "Action,Adventure,Crime 90.62\n",
      "Action,Adventure,Drama 77.32166666666666\n",
      "Action,Adventure,Family 112.86666666666666\n",
      "Action,Adventure,Fantasy 201.85730769230776\n",
      "Action,Adventure,Horror 131.24\n",
      "Action,Adventure,Mystery 150.344\n",
      "Action,Adventure,Romance 23.47\n",
      "Action,Adventure,Sci-Fi 209.23020000000005\n",
      "Action,Adventure,Thriller 158.12363636363636\n",
      "Action,Adventure,Western 91.33500000000001\n",
      "Action,Biography,Crime 0.1\n",
      "Action,Biography,Drama 100.65285714285713\n",
      "Action,Comedy 58.79\n",
      "Action,Comedy,Crime 92.41083333333334\n",
      "Action,Comedy,Drama 2.87\n",
      "Action,Comedy,Family 78.75\n",
      "Action,Comedy,Fantasy 55.873333333333335\n",
      "Action,Comedy,Horror 3.64\n",
      "Action,Comedy,Mystery 23.62\n",
      "Action,Comedy,Romance 27.395\n",
      "Action,Comedy,Sci-Fi 26.0\n",
      "Action,Comedy,Sport 148.21\n",
      "Action,Crime,Drama 84.13125000000001\n",
      "Action,Crime,Fantasy 134.57\n",
      "Action,Crime,Mystery 67.37\n",
      "Action,Crime,Sci-Fi 58.61\n",
      "Action,Crime,Sport 28.77\n",
      "Action,Crime,Thriller 109.16272727272727\n",
      "Action,Drama,Family 131.025\n",
      "Action,Drama,Fantasy 81.93666666666667\n",
      "Action,Drama,History 34.473333333333336\n",
      "Action,Drama,Horror 2.13\n",
      "Action,Drama,Mystery 107.5\n",
      "Action,Drama,Romance 39.725\n",
      "Action,Drama,Sci-Fi 61.71666666666667\n",
      "Action,Drama,Sport 19.25\n",
      "Action,Drama,Thriller 42.73499999999999\n",
      "Action,Drama,War 85.71\n",
      "Action,Fantasy 36.38\n",
      "Action,Fantasy,Horror 44.55333333333334\n",
      "Action,Fantasy,Thriller 115.8\n",
      "Action,Fantasy,War 210.59\n",
      "Action,Horror nan\n",
      "Action,Horror,Mystery 10.33\n",
      "Action,Horror,Romance 10.91\n",
      "Action,Horror,Sci-Fi 54.004\n",
      "Action,Horror,Thriller 17.595\n",
      "Action,Mystery,Sci-Fi 57.345\n",
      "Action,Mystery,Thriller 129.78\n",
      "Action,Sci-Fi 232.77999999999997\n",
      "Action,Sci-Fi,Thriller 73.25\n",
      "Action,Thriller 137.13625\n",
      "Action,Thriller,War 42.72\n",
      "Adventure 0.15\n",
      "Adventure,Biography nan\n",
      "Adventure,Biography,Crime 10.14\n",
      "Adventure,Biography,Drama 20.01\n",
      "Adventure,Comedy 58.88\n",
      "Adventure,Comedy,Drama 37.973749999999995\n",
      "Adventure,Comedy,Family 96.875\n",
      "Adventure,Comedy,Fantasy 21.56\n",
      "Adventure,Comedy,Horror 75.59\n",
      "Adventure,Comedy,Romance 63.635000000000005\n",
      "Adventure,Comedy,Sci-Fi 18.904999999999998\n",
      "Adventure,Crime,Mystery 38.56\n",
      "Adventure,Drama 0.06\n",
      "Adventure,Drama,Family 151.8225\n",
      "Adventure,Drama,Fantasy 276.008\n",
      "Adventure,Drama,History 7.08\n",
      "Adventure,Drama,Horror 66.01\n",
      "Adventure,Drama,Romance 74.78\n",
      "Adventure,Drama,Sci-Fi 208.21\n",
      "Adventure,Drama,Thriller 82.74333333333333\n",
      "Adventure,Drama,War 120.52\n",
      "Adventure,Drama,Western 171.03\n",
      "Adventure,Family 42.65\n",
      "Adventure,Family,Fantasy 157.24785714285716\n",
      "Adventure,Fantasy 272.1566666666667\n",
      "Adventure,Fantasy,Mystery 7.69\n",
      "Adventure,Horror 7.19\n",
      "Adventure,Horror,Mystery 46.98\n",
      "Adventure,Mystery,Sci-Fi 138.645\n",
      "Adventure,Sci-Fi,Thriller 180.55999999999997\n",
      "Animation,Action,Adventure 195.47333333333333\n",
      "Animation,Action,Comedy 148.34\n",
      "Animation,Adventure,Comedy 221.33653846153845\n",
      "Animation,Adventure,Family 135.915\n",
      "Animation,Comedy,Drama 0.29\n",
      "Animation,Comedy,Family 194.43\n",
      "Animation,Drama,Fantasy 4.68\n",
      "Animation,Drama,Romance nan\n",
      "Animation,Family,Fantasy 75.28\n",
      "Animation,Fantasy 0.92\n",
      "Biography,Comedy,Crime 116.87\n",
      "Biography,Comedy,Drama 34.98666666666667\n",
      "Biography,Crime,Drama 48.042500000000004\n",
      "Biography,Drama 53.39785714285714\n",
      "Biography,Drama,Family 61.69\n",
      "Biography,Drama,History 71.37307692307692\n",
      "Biography,Drama,Mystery 35.71\n",
      "Biography,Drama,Romance 15.05\n",
      "Biography,Drama,Sport 73.80749999999999\n",
      "Biography,Drama,Thriller 73.23333333333333\n",
      "Biography,History,Thriller 2.96\n",
      "Comedy 74.68499999999999\n",
      "Comedy,Crime 85.53\n",
      "Comedy,Crime,Drama 25.72714285714286\n",
      "Comedy,Crime,Thriller 36.92\n",
      "Comedy,Drama 33.035000000000004\n",
      "Comedy,Drama,Family 89.62666666666667\n",
      "Comedy,Drama,Fantasy 15.29\n",
      "Comedy,Drama,Horror 2.0100000000000002\n",
      "Comedy,Drama,Music 52.192499999999995\n",
      "Comedy,Drama,Musical 38.51\n",
      "Comedy,Drama,Romance 40.32181818181818\n",
      "Comedy,Drama,Thriller 3.08\n",
      "Comedy,Family 76.592\n",
      "Comedy,Family,Fantasy 19.64\n",
      "Comedy,Family,Musical 143.7\n",
      "Comedy,Family,Romance 59.57\n",
      "Comedy,Fantasy 160.05\n",
      "Comedy,Fantasy,Horror 41.519999999999996\n",
      "Comedy,Fantasy,Romance 56.82\n",
      "Comedy,Horror 8.209999999999999\n",
      "Comedy,Horror,Romance 66.36\n",
      "Comedy,Horror,Sci-Fi 7.77\n",
      "Comedy,Horror,Thriller 45.035\n",
      "Comedy,Music 96.41499999999999\n",
      "Comedy,Music,Romance 65.0\n",
      "Comedy,Mystery 30.0\n",
      "Comedy,Romance 53.004782608695656\n",
      "Comedy,Romance,Sport 2.34\n",
      "Comedy,Romance,Western 42.62\n",
      "Comedy,Sci-Fi nan\n",
      "Comedy,Western nan\n",
      "Crime,Drama 35.84375\n",
      "Crime,Drama,Fantasy 2.21\n",
      "Crime,Drama,History 39.019999999999996\n",
      "Crime,Drama,Horror 1.29\n",
      "Crime,Drama,Music 65.27\n",
      "Crime,Drama,Mystery 38.92333333333334\n",
      "Crime,Drama,Thriller 41.93388888888889\n",
      "Crime,Horror,Thriller 30.84\n",
      "Crime,Mystery,Thriller 117.7\n",
      "Crime,Thriller 117.14\n",
      "Drama 27.546451612903223\n",
      "Drama,Family nan\n",
      "Drama,Family,Fantasy 201.15\n",
      "Drama,Family,Music 1.2\n",
      "Drama,Fantasy 8.515\n",
      "Drama,Fantasy,Horror 8.037999999999998\n",
      "Drama,Fantasy,Music 50.46\n",
      "Drama,Fantasy,Musical 24.34\n",
      "Drama,Fantasy,Mystery 42.27\n",
      "Drama,Fantasy,Romance 95.21749999999999\n",
      "Drama,Fantasy,Thriller 43.98\n",
      "Drama,Fantasy,War 37.62\n",
      "Drama,History 40.22\n",
      "Drama,History,Thriller 53.897499999999994\n",
      "Drama,History,War 0.86\n",
      "Drama,Horror 9.275\n",
      "Drama,Horror,Musical 52.88\n",
      "Drama,Horror,Mystery 38.52333333333333\n",
      "Drama,Horror,Sci-Fi 58.68599999999999\n",
      "Drama,Horror,Thriller 16.11\n",
      "Drama,Music 20.30666666666667\n",
      "Drama,Music,Romance 30.799999999999997\n",
      "Drama,Musical,Romance 148.78\n",
      "Drama,Mystery,Romance 27.98833333333333\n",
      "Drama,Mystery,Sci-Fi 37.547999999999995\n",
      "Drama,Mystery,Thriller 19.584999999999997\n",
      "Drama,Mystery,War 6.86\n",
      "Drama,Romance 30.683666666666657\n",
      "Drama,Romance,Sci-Fi 17.7525\n",
      "Drama,Romance,Thriller 118.75\n",
      "Drama,Romance,War nan\n",
      "Drama,Sci-Fi 18.62\n",
      "Drama,Sci-Fi,Thriller 103.12666666666667\n",
      "Drama,Sport 77.46666666666665\n",
      "Drama,Thriller 27.6375\n",
      "Drama,Thriller,War 18.7\n",
      "Drama,War 5.375\n",
      "Drama,Western 162.8\n",
      "Fantasy,Horror 63.11\n",
      "Fantasy,Horror,Thriller nan\n",
      "Fantasy,Mystery,Thriller nan\n",
      "Horror 37.05285714285714\n",
      "Horror,Mystery 25.635\n",
      "Horror,Mystery,Sci-Fi 0.15\n",
      "Horror,Mystery,Thriller 72.57\n",
      "Horror,Sci-Fi,Thriller 34.165\n",
      "Horror,Thriller 34.04083333333333\n",
      "Mystery,Romance,Sci-Fi 54.7\n",
      "Mystery,Romance,Thriller 5.98\n",
      "Mystery,Sci-Fi,Thriller 68.76333333333334\n",
      "Mystery,Thriller 73.53333333333333\n",
      "Mystery,Thriller,Western nan\n",
      "Romance,Sci-Fi nan\n",
      "Romance,Sci-Fi,Thriller 62.45\n",
      "Sci-Fi 20.76\n",
      "Sci-Fi,Thriller 64.51\n",
      "Thriller 0.32\n",
      "Thriller,War nan\n"
     ]
    }
   ],
   "source": [
    "for i in genre_group.index:\n",
    "    print(genre_group[\"genre\"][i],genre_group[\"revenue (millions)\"][i])"
   ]
  },
  {
   "cell_type": "code",
   "execution_count": 24,
   "metadata": {},
   "outputs": [],
   "source": [
    "mean_revenue_value=genre_group[\"revenue (millions)\"].mean()"
   ]
  },
  {
   "cell_type": "code",
   "execution_count": 25,
   "metadata": {},
   "outputs": [
    {
     "data": {
      "text/plain": [
       "66.02433967963796"
      ]
     },
     "execution_count": 25,
     "metadata": {},
     "output_type": "execute_result"
    }
   ],
   "source": [
    "mean_revenue_value"
   ]
  },
  {
   "cell_type": "code",
   "execution_count": 26,
   "metadata": {
    "scrolled": true
   },
   "outputs": [],
   "source": [
    "genre_group[\"revenue (millions)\"].fillna(mean_revenue_value,inplace=True)"
   ]
  },
  {
   "cell_type": "code",
   "execution_count": 27,
   "metadata": {
    "scrolled": true
   },
   "outputs": [],
   "source": [
    "#sns.heatmap(genre_group)"
   ]
  },
  {
   "cell_type": "code",
   "execution_count": 28,
   "metadata": {
    "scrolled": false
   },
   "outputs": [
    {
     "name": "stdout",
     "output_type": "stream",
     "text": [
      "<class 'pandas.core.frame.DataFrame'>\n",
      "Int64Index: 207 entries, 0 to 206\n",
      "Data columns (total 2 columns):\n",
      " #   Column              Non-Null Count  Dtype  \n",
      "---  ------              --------------  -----  \n",
      " 0   genre               207 non-null    object \n",
      " 1   revenue (millions)  207 non-null    float64\n",
      "dtypes: float64(1), object(1)\n",
      "memory usage: 14.9+ KB\n"
     ]
    }
   ],
   "source": [
    "genre_group.info()"
   ]
  },
  {
   "cell_type": "code",
   "execution_count": 29,
   "metadata": {},
   "outputs": [],
   "source": [
    "# i have dict with genre and revenue value without any null value\n",
    "data_dict={}\n",
    "for i in genre_group.index:\n",
    "    data_dict[genre_group[\"genre\"][i]]=genre_group[\"revenue (millions)\"][i]\n",
    "#print(data_dict)"
   ]
  },
  {
   "cell_type": "raw",
   "metadata": {},
   "source": [
    "Next task is ,I want ot traverse on original dataframe and replace null values in revenue (millions) attribute with corresponding mean value of genre."
   ]
  },
  {
   "cell_type": "code",
   "execution_count": 30,
   "metadata": {},
   "outputs": [
    {
     "name": "stderr",
     "output_type": "stream",
     "text": [
      "c:\\users\\tejaswita\\appdata\\local\\programs\\python\\python37\\lib\\site-packages\\ipykernel_launcher.py:9: SettingWithCopyWarning: \n",
      "A value is trying to be set on a copy of a slice from a DataFrame\n",
      "\n",
      "See the caveats in the documentation: https://pandas.pydata.org/pandas-docs/stable/user_guide/indexing.html#returning-a-view-versus-a-copy\n",
      "  if __name__ == '__main__':\n"
     ]
    },
    {
     "name": "stdout",
     "output_type": "stream",
     "text": [
      "Comedy 74.68499999999999\n",
      "Crime,Drama,Horror 1.29\n",
      "Comedy 74.68499999999999\n",
      "Comedy,Drama 33.035000000000004\n",
      "Horror 37.05285714285714\n",
      "Adventure,Drama,Fantasy 276.008\n",
      "Drama 27.546451612903223\n",
      "Horror,Mystery,Thriller 72.57\n",
      "Drama,History 40.22\n",
      "Crime,Mystery,Thriller 117.7\n",
      "Drama 27.546451612903223\n",
      "Romance,Sci-Fi 66.02433967963796\n",
      "Action 131.56\n",
      "Mystery,Thriller,Western 66.02433967963796\n",
      "Drama,Horror,Mystery 38.52333333333333\n",
      "Thriller,War 66.02433967963796\n",
      "Adventure,Horror 7.19\n",
      "Sci-Fi 20.76\n",
      "Drama,Romance 30.683666666666657\n",
      "Drama 27.546451612903223\n",
      "Crime,Drama,Thriller 41.93388888888889\n",
      "Drama,Horror,Thriller 16.11\n",
      "Action,Drama,Mystery 107.5\n",
      "Drama,Horror 9.275\n",
      "Horror,Sci-Fi,Thriller 34.165\n",
      "Horror 37.05285714285714\n",
      "Animation,Adventure,Comedy 221.33653846153845\n",
      "Thriller 0.32\n",
      "Thriller 0.32\n",
      "Drama 27.546451612903223\n",
      "Crime,Drama,Thriller 41.93388888888889\n",
      "Action,Horror 66.02433967963796\n",
      "Drama,Fantasy,Horror 8.037999999999998\n",
      "Drama,Sport 77.46666666666665\n",
      "Drama 27.546451612903223\n",
      "Comedy,Drama 33.035000000000004\n",
      "Drama,Sport 77.46666666666665\n",
      "Horror,Thriller 34.04083333333333\n",
      "Comedy,Romance 53.004782608695656\n",
      "Comedy,Sci-Fi 66.02433967963796\n",
      "Horror 37.05285714285714\n",
      "Crime,Drama,Thriller 41.93388888888889\n",
      "Drama 27.546451612903223\n",
      "Horror,Mystery,Thriller 72.57\n",
      "Action,Crime,Drama 84.13125000000001\n",
      "Comedy 74.68499999999999\n",
      "Thriller 0.32\n",
      "Drama,Mystery,Sci-Fi 37.547999999999995\n",
      "Horror,Thriller 34.04083333333333\n",
      "Drama 27.546451612903223\n",
      "Drama,War 5.375\n",
      "Comedy,Drama 33.035000000000004\n",
      "Crime,Drama,Thriller 41.93388888888889\n",
      "Drama,Fantasy,Romance 95.21749999999999\n",
      "Crime,Drama,Thriller 41.93388888888889\n",
      "Comedy,Drama,Music 52.192499999999995\n",
      "Biography,Comedy,Drama 34.98666666666667\n",
      "Action,Drama,Sci-Fi 61.71666666666667\n",
      "Action,Sci-Fi,Thriller 73.25\n",
      "Crime,Drama,Thriller 41.93388888888889\n",
      "Crime,Drama 35.84375\n",
      "Action,Mystery,Sci-Fi 57.345\n",
      "Drama,Thriller 27.6375\n",
      "Drama 27.546451612903223\n",
      "Drama,Sci-Fi,Thriller 103.12666666666667\n",
      "Drama,Romance,Thriller 118.75\n",
      "Action,Adventure,Family 112.86666666666666\n",
      "Comedy,Drama,Romance 40.32181818181818\n",
      "Drama 27.546451612903223\n",
      "Drama 27.546451612903223\n",
      "Action,Biography,Drama 100.65285714285713\n",
      "Comedy,Drama,Romance 40.32181818181818\n",
      "Crime,Drama,Mystery 38.92333333333334\n",
      "Drama,Horror,Thriller 16.11\n",
      "Comedy,Western 66.02433967963796\n",
      "Drama,Horror,Sci-Fi 58.68599999999999\n",
      "Fantasy,Horror,Thriller 66.02433967963796\n",
      "Crime,Drama,Mystery 38.92333333333334\n",
      "Drama 27.546451612903223\n",
      "Biography,Crime,Drama 48.042500000000004\n",
      "Action,Comedy 58.79\n",
      "Drama,Family 66.02433967963796\n",
      "Comedy,Romance 53.004782608695656\n",
      "Crime,Horror,Thriller 30.84\n",
      "Comedy,Drama,Fantasy 15.29\n",
      "Thriller 0.32\n",
      "Biography,Drama,History 71.37307692307692\n",
      "Drama,Thriller 27.6375\n",
      "Drama 27.546451612903223\n",
      "Action,Crime,Thriller 109.16272727272727\n",
      "Action,Thriller 137.13625\n",
      "Comedy 74.68499999999999\n",
      "Comedy,Romance 53.004782608695656\n",
      "Drama 27.546451612903223\n",
      "Comedy,Fantasy,Horror 41.519999999999996\n",
      "Action,Drama,History 34.473333333333336\n",
      "Crime,Drama,Mystery 38.92333333333334\n",
      "Horror,Thriller 34.04083333333333\n",
      "Drama,Romance,War 66.02433967963796\n",
      "Drama,Thriller 27.6375\n",
      "Horror,Thriller 34.04083333333333\n",
      "Action,Adventure,Fantasy 201.85730769230776\n",
      "Crime,Drama,Mystery 38.92333333333334\n",
      "Biography,Drama,Romance 15.05\n",
      "Thriller 0.32\n",
      "Animation,Drama,Romance 66.02433967963796\n",
      "Mystery,Thriller 73.53333333333333\n",
      "Crime,Drama 35.84375\n",
      "Action,Comedy,Horror 3.64\n",
      "Drama 27.546451612903223\n",
      "Thriller 0.32\n",
      "Crime,Drama,Horror 1.29\n",
      "Comedy 74.68499999999999\n",
      "Drama 27.546451612903223\n",
      "Thriller 0.32\n",
      "Action,Drama,Thriller 42.73499999999999\n",
      "Thriller 0.32\n",
      "Fantasy,Mystery,Thriller 66.02433967963796\n",
      "Drama 27.546451612903223\n",
      "Drama,Mystery,Thriller 19.584999999999997\n",
      "Adventure,Biography 66.02433967963796\n",
      "Action,Horror,Thriller 17.595\n",
      "Drama,Mystery,Thriller 19.584999999999997\n",
      "Comedy 74.68499999999999\n",
      "Drama 27.546451612903223\n",
      "Horror 37.05285714285714\n",
      "Crime,Drama,Mystery 38.92333333333334\n",
      "Adventure,Comedy 58.88\n"
     ]
    }
   ],
   "source": [
    "# it traverse on every row\n",
    "count=0\n",
    "for i in original_dataframe.index:\n",
    "    #print(\"Here\",end=\" \")\n",
    "    #print(i)\n",
    "    if pd.isnull(original_dataframe[\"revenue (millions)\"][i]):\n",
    "        #print(original_dataframe[\"revenue (millions)\"][i])\n",
    "        #count+=1\n",
    "        original_dataframe[\"revenue (millions)\"][i]=data_dict[original_dataframe[\"genre\"][i]] \n",
    "        print(original_dataframe[\"genre\"][i],data_dict[original_dataframe[\"genre\"][i]])\n",
    "       # pass\n",
    "       #original_dataframe[\"revenue (millions)\"][i]=genre_group[\"revenue (millions)\"]\n",
    "#print(count)"
   ]
  },
  {
   "cell_type": "code",
   "execution_count": 31,
   "metadata": {},
   "outputs": [
    {
     "name": "stdout",
     "output_type": "stream",
     "text": [
      "<class 'pandas.core.frame.DataFrame'>\n",
      "RangeIndex: 1000 entries, 0 to 999\n",
      "Data columns (total 12 columns):\n",
      " #   Column              Non-Null Count  Dtype  \n",
      "---  ------              --------------  -----  \n",
      " 0   rank                1000 non-null   int64  \n",
      " 1   title               1000 non-null   object \n",
      " 2   genre               1000 non-null   object \n",
      " 3   description         1000 non-null   object \n",
      " 4   director            1000 non-null   object \n",
      " 5   actors              1000 non-null   object \n",
      " 6   year                1000 non-null   int64  \n",
      " 7   runtime (minutes)   1000 non-null   int64  \n",
      " 8   rating              1000 non-null   float64\n",
      " 9   votes               1000 non-null   int64  \n",
      " 10  revenue (millions)  1000 non-null   float64\n",
      " 11  metascore           936 non-null    float64\n",
      "dtypes: float64(3), int64(4), object(5)\n",
      "memory usage: 93.9+ KB\n"
     ]
    }
   ],
   "source": [
    "original_dataframe.info()"
   ]
  },
  {
   "cell_type": "code",
   "execution_count": 32,
   "metadata": {
    "scrolled": true
   },
   "outputs": [
    {
     "data": {
      "text/html": [
       "<div>\n",
       "<style scoped>\n",
       "    .dataframe tbody tr th:only-of-type {\n",
       "        vertical-align: middle;\n",
       "    }\n",
       "\n",
       "    .dataframe tbody tr th {\n",
       "        vertical-align: top;\n",
       "    }\n",
       "\n",
       "    .dataframe thead th {\n",
       "        text-align: right;\n",
       "    }\n",
       "</style>\n",
       "<table border=\"1\" class=\"dataframe\">\n",
       "  <thead>\n",
       "    <tr style=\"text-align: right;\">\n",
       "      <th></th>\n",
       "      <th>revenue (millions)</th>\n",
       "    </tr>\n",
       "  </thead>\n",
       "  <tbody>\n",
       "    <tr>\n",
       "      <th>count</th>\n",
       "      <td>207.00000</td>\n",
       "    </tr>\n",
       "    <tr>\n",
       "      <th>mean</th>\n",
       "      <td>66.02434</td>\n",
       "    </tr>\n",
       "    <tr>\n",
       "      <th>std</th>\n",
       "      <td>57.25132</td>\n",
       "    </tr>\n",
       "    <tr>\n",
       "      <th>min</th>\n",
       "      <td>0.06000</td>\n",
       "    </tr>\n",
       "    <tr>\n",
       "      <th>25%</th>\n",
       "      <td>24.98750</td>\n",
       "    </tr>\n",
       "    <tr>\n",
       "      <th>50%</th>\n",
       "      <td>54.00400</td>\n",
       "    </tr>\n",
       "    <tr>\n",
       "      <th>75%</th>\n",
       "      <td>85.62000</td>\n",
       "    </tr>\n",
       "    <tr>\n",
       "      <th>max</th>\n",
       "      <td>276.00800</td>\n",
       "    </tr>\n",
       "  </tbody>\n",
       "</table>\n",
       "</div>"
      ],
      "text/plain": [
       "       revenue (millions)\n",
       "count           207.00000\n",
       "mean             66.02434\n",
       "std              57.25132\n",
       "min               0.06000\n",
       "25%              24.98750\n",
       "50%              54.00400\n",
       "75%              85.62000\n",
       "max             276.00800"
      ]
     },
     "execution_count": 32,
     "metadata": {},
     "output_type": "execute_result"
    }
   ],
   "source": [
    "genre_group.describe()"
   ]
  },
  {
   "cell_type": "code",
   "execution_count": 33,
   "metadata": {},
   "outputs": [
    {
     "data": {
      "text/plain": [
       "(207, 2)"
      ]
     },
     "execution_count": 33,
     "metadata": {},
     "output_type": "execute_result"
    }
   ],
   "source": [
    "genre_group.shape"
   ]
  },
  {
   "cell_type": "code",
   "execution_count": 34,
   "metadata": {},
   "outputs": [],
   "source": [
    "# for index, name, group in genre_group:\n",
    "#     print(index)\n",
    "#     print(name)\n",
    "#     print(group)"
   ]
  },
  {
   "cell_type": "code",
   "execution_count": 35,
   "metadata": {},
   "outputs": [
    {
     "name": "stdout",
     "output_type": "stream",
     "text": [
      "<class 'pandas.core.frame.DataFrame'>\n"
     ]
    }
   ],
   "source": [
    "print(type(genre_group))\n",
    "#original_dataframe[\"revenue (millions)\"].fillna(mean_value,inplace=True)"
   ]
  },
  {
   "cell_type": "code",
   "execution_count": 36,
   "metadata": {
    "scrolled": true
   },
   "outputs": [
    {
     "data": {
      "text/html": [
       "<div>\n",
       "<style scoped>\n",
       "    .dataframe tbody tr th:only-of-type {\n",
       "        vertical-align: middle;\n",
       "    }\n",
       "\n",
       "    .dataframe tbody tr th {\n",
       "        vertical-align: top;\n",
       "    }\n",
       "\n",
       "    .dataframe thead th {\n",
       "        text-align: right;\n",
       "    }\n",
       "</style>\n",
       "<table border=\"1\" class=\"dataframe\">\n",
       "  <thead>\n",
       "    <tr style=\"text-align: right;\">\n",
       "      <th></th>\n",
       "      <th>genre</th>\n",
       "      <th>revenue (millions)</th>\n",
       "    </tr>\n",
       "  </thead>\n",
       "  <tbody>\n",
       "    <tr>\n",
       "      <th>0</th>\n",
       "      <td>Action,Adventure,Sci-Fi</td>\n",
       "      <td>333.130000</td>\n",
       "    </tr>\n",
       "    <tr>\n",
       "      <th>1</th>\n",
       "      <td>Adventure,Mystery,Sci-Fi</td>\n",
       "      <td>126.460000</td>\n",
       "    </tr>\n",
       "    <tr>\n",
       "      <th>2</th>\n",
       "      <td>Horror,Thriller</td>\n",
       "      <td>138.120000</td>\n",
       "    </tr>\n",
       "    <tr>\n",
       "      <th>3</th>\n",
       "      <td>Animation,Comedy,Family</td>\n",
       "      <td>270.320000</td>\n",
       "    </tr>\n",
       "    <tr>\n",
       "      <th>4</th>\n",
       "      <td>Action,Adventure,Fantasy</td>\n",
       "      <td>325.020000</td>\n",
       "    </tr>\n",
       "    <tr>\n",
       "      <th>...</th>\n",
       "      <td>...</td>\n",
       "      <td>...</td>\n",
       "    </tr>\n",
       "    <tr>\n",
       "      <th>995</th>\n",
       "      <td>Crime,Drama,Mystery</td>\n",
       "      <td>38.923333</td>\n",
       "    </tr>\n",
       "    <tr>\n",
       "      <th>996</th>\n",
       "      <td>Horror</td>\n",
       "      <td>17.540000</td>\n",
       "    </tr>\n",
       "    <tr>\n",
       "      <th>997</th>\n",
       "      <td>Drama,Music,Romance</td>\n",
       "      <td>58.010000</td>\n",
       "    </tr>\n",
       "    <tr>\n",
       "      <th>998</th>\n",
       "      <td>Adventure,Comedy</td>\n",
       "      <td>58.880000</td>\n",
       "    </tr>\n",
       "    <tr>\n",
       "      <th>999</th>\n",
       "      <td>Comedy,Family,Fantasy</td>\n",
       "      <td>19.640000</td>\n",
       "    </tr>\n",
       "  </tbody>\n",
       "</table>\n",
       "<p>1000 rows × 2 columns</p>\n",
       "</div>"
      ],
      "text/plain": [
       "                        genre  revenue (millions)\n",
       "0     Action,Adventure,Sci-Fi          333.130000\n",
       "1    Adventure,Mystery,Sci-Fi          126.460000\n",
       "2             Horror,Thriller          138.120000\n",
       "3     Animation,Comedy,Family          270.320000\n",
       "4    Action,Adventure,Fantasy          325.020000\n",
       "..                        ...                 ...\n",
       "995       Crime,Drama,Mystery           38.923333\n",
       "996                    Horror           17.540000\n",
       "997       Drama,Music,Romance           58.010000\n",
       "998          Adventure,Comedy           58.880000\n",
       "999     Comedy,Family,Fantasy           19.640000\n",
       "\n",
       "[1000 rows x 2 columns]"
      ]
     },
     "execution_count": 36,
     "metadata": {},
     "output_type": "execute_result"
    }
   ],
   "source": [
    "genre_revenue_data=original_dataframe[[\"genre\",\"revenue (millions)\"]]\n",
    "genre_revenue_data"
   ]
  },
  {
   "cell_type": "code",
   "execution_count": 45,
   "metadata": {
    "scrolled": true
   },
   "outputs": [
    {
     "name": "stdout",
     "output_type": "stream",
     "text": [
      "<pandas.core.groupby.generic.DataFrameGroupBy object at 0x000000000D518B08>\n"
     ]
    }
   ],
   "source": [
    "# genre_group=original_dataframe.groupby(\"genre\",as_index=False)[\"metascore\"].mean()\n",
    "# print(genre_group)\n",
    "genre_group=original_dataframe.groupby(\"genre\",as_index=False)\n",
    "print(genre_group)"
   ]
  },
  {
   "cell_type": "code",
   "execution_count": 38,
   "metadata": {},
   "outputs": [
    {
     "name": "stdout",
     "output_type": "stream",
     "text": [
      "                          genre  metascore\n",
      "0                        Action  37.000000\n",
      "1              Action,Adventure  57.333333\n",
      "2    Action,Adventure,Biography  62.500000\n",
      "3       Action,Adventure,Comedy  47.214286\n",
      "4        Action,Adventure,Crime  48.333333\n",
      "..                          ...        ...\n",
      "202     Romance,Sci-Fi,Thriller        NaN\n",
      "203                      Sci-Fi  53.000000\n",
      "204             Sci-Fi,Thriller  34.000000\n",
      "205                    Thriller  59.714286\n",
      "206                Thriller,War  40.000000\n",
      "\n",
      "[207 rows x 2 columns]\n",
      "<class 'pandas.core.frame.DataFrame'>\n"
     ]
    }
   ],
   "source": [
    "genre_group_metascore=original_dataframe.groupby(\"genre\",as_index=False)[\"metascore\"].mean()\n",
    "print(genre_group_metascore)\n",
    "print(type(genre_group_metascore))\n",
    "# we got 207 rows ,as we have 207 genre\n",
    "# without as_index=False, it returns a Series instead"
   ]
  },
  {
   "cell_type": "code",
   "execution_count": 39,
   "metadata": {
    "scrolled": true
   },
   "outputs": [
    {
     "name": "stdout",
     "output_type": "stream",
     "text": [
      "<class 'pandas.core.frame.DataFrame'>\n",
      "Int64Index: 207 entries, 0 to 206\n",
      "Data columns (total 2 columns):\n",
      " #   Column     Non-Null Count  Dtype  \n",
      "---  ------     --------------  -----  \n",
      " 0   genre      207 non-null    object \n",
      " 1   metascore  200 non-null    float64\n",
      "dtypes: float64(1), object(1)\n",
      "memory usage: 4.9+ KB\n"
     ]
    }
   ],
   "source": [
    "genre_group_metascore.info()"
   ]
  },
  {
   "cell_type": "raw",
   "metadata": {},
   "source": [
    "above output shows that we got 200 means of metascore,we have 7 null values for metascore, we will replace those nan values with mean of means of corresponding metascore"
   ]
  },
  {
   "cell_type": "code",
   "execution_count": 40,
   "metadata": {},
   "outputs": [],
   "source": [
    "mean_value=genre_group_metascore[\"metascore\"].mean()"
   ]
  },
  {
   "cell_type": "code",
   "execution_count": 41,
   "metadata": {},
   "outputs": [
    {
     "data": {
      "text/plain": [
       "58.624719921182134"
      ]
     },
     "execution_count": 41,
     "metadata": {},
     "output_type": "execute_result"
    }
   ],
   "source": [
    "mean_value"
   ]
  },
  {
   "cell_type": "code",
   "execution_count": 42,
   "metadata": {},
   "outputs": [],
   "source": [
    "genre_group_metascore[\"metascore\"].fillna(mean_value,inplace=True)"
   ]
  },
  {
   "cell_type": "code",
   "execution_count": 43,
   "metadata": {},
   "outputs": [
    {
     "name": "stdout",
     "output_type": "stream",
     "text": [
      "<class 'pandas.core.frame.DataFrame'>\n",
      "Int64Index: 207 entries, 0 to 206\n",
      "Data columns (total 2 columns):\n",
      " #   Column     Non-Null Count  Dtype  \n",
      "---  ------     --------------  -----  \n",
      " 0   genre      207 non-null    object \n",
      " 1   metascore  207 non-null    float64\n",
      "dtypes: float64(1), object(1)\n",
      "memory usage: 4.9+ KB\n"
     ]
    }
   ],
   "source": [
    "# now we can see there is no nan value in metascore column\n",
    "genre_group_metascore.info()"
   ]
  },
  {
   "cell_type": "code",
   "execution_count": 44,
   "metadata": {},
   "outputs": [
    {
     "ename": "IndexError",
     "evalue": "Column(s) genre already selected",
     "output_type": "error",
     "traceback": [
      "\u001b[1;31m---------------------------------------------------------------------------\u001b[0m",
      "\u001b[1;31mIndexError\u001b[0m                                Traceback (most recent call last)",
      "\u001b[1;32m<ipython-input-44-5804feb02b7d>\u001b[0m in \u001b[0;36m<module>\u001b[1;34m\u001b[0m\n\u001b[0;32m      2\u001b[0m \u001b[0mmetascore_data_dict\u001b[0m\u001b[1;33m=\u001b[0m\u001b[1;33m{\u001b[0m\u001b[1;33m}\u001b[0m\u001b[1;33m\u001b[0m\u001b[1;33m\u001b[0m\u001b[0m\n\u001b[0;32m      3\u001b[0m \u001b[1;32mfor\u001b[0m \u001b[0mi\u001b[0m \u001b[1;32min\u001b[0m \u001b[0mgenre_group_metascore\u001b[0m\u001b[1;33m.\u001b[0m\u001b[0mindex\u001b[0m\u001b[1;33m:\u001b[0m\u001b[1;33m\u001b[0m\u001b[1;33m\u001b[0m\u001b[0m\n\u001b[1;32m----> 4\u001b[1;33m     \u001b[0mmetascore_data_dict\u001b[0m\u001b[1;33m[\u001b[0m\u001b[0mgenre_group\u001b[0m\u001b[1;33m[\u001b[0m\u001b[1;34m\"genre\"\u001b[0m\u001b[1;33m]\u001b[0m\u001b[1;33m[\u001b[0m\u001b[0mi\u001b[0m\u001b[1;33m]\u001b[0m\u001b[1;33m]\u001b[0m\u001b[1;33m=\u001b[0m\u001b[0mgenre_group_metascore\u001b[0m\u001b[1;33m[\u001b[0m\u001b[1;34m\"metascore\"\u001b[0m\u001b[1;33m]\u001b[0m\u001b[1;33m[\u001b[0m\u001b[0mi\u001b[0m\u001b[1;33m]\u001b[0m\u001b[1;33m\u001b[0m\u001b[1;33m\u001b[0m\u001b[0m\n\u001b[0m\u001b[0;32m      5\u001b[0m \u001b[1;31m#print(metascore_data_dict)\u001b[0m\u001b[1;33m\u001b[0m\u001b[1;33m\u001b[0m\u001b[1;33m\u001b[0m\u001b[0m\n",
      "\u001b[1;32mc:\\users\\tejaswita\\appdata\\local\\programs\\python\\python37\\lib\\site-packages\\pandas\\core\\groupby\\generic.py\u001b[0m in \u001b[0;36m__getitem__\u001b[1;34m(self, key)\u001b[0m\n\u001b[0;32m   1611\u001b[0m                 \u001b[0mstacklevel\u001b[0m\u001b[1;33m=\u001b[0m\u001b[1;36m2\u001b[0m\u001b[1;33m,\u001b[0m\u001b[1;33m\u001b[0m\u001b[1;33m\u001b[0m\u001b[0m\n\u001b[0;32m   1612\u001b[0m             )\n\u001b[1;32m-> 1613\u001b[1;33m         \u001b[1;32mreturn\u001b[0m \u001b[0msuper\u001b[0m\u001b[1;33m(\u001b[0m\u001b[1;33m)\u001b[0m\u001b[1;33m.\u001b[0m\u001b[0m__getitem__\u001b[0m\u001b[1;33m(\u001b[0m\u001b[0mkey\u001b[0m\u001b[1;33m)\u001b[0m\u001b[1;33m\u001b[0m\u001b[1;33m\u001b[0m\u001b[0m\n\u001b[0m\u001b[0;32m   1614\u001b[0m \u001b[1;33m\u001b[0m\u001b[0m\n\u001b[0;32m   1615\u001b[0m     \u001b[1;32mdef\u001b[0m \u001b[0m_gotitem\u001b[0m\u001b[1;33m(\u001b[0m\u001b[0mself\u001b[0m\u001b[1;33m,\u001b[0m \u001b[0mkey\u001b[0m\u001b[1;33m,\u001b[0m \u001b[0mndim\u001b[0m\u001b[1;33m:\u001b[0m \u001b[0mint\u001b[0m\u001b[1;33m,\u001b[0m \u001b[0msubset\u001b[0m\u001b[1;33m=\u001b[0m\u001b[1;32mNone\u001b[0m\u001b[1;33m)\u001b[0m\u001b[1;33m:\u001b[0m\u001b[1;33m\u001b[0m\u001b[1;33m\u001b[0m\u001b[0m\n",
      "\u001b[1;32mc:\\users\\tejaswita\\appdata\\local\\programs\\python\\python37\\lib\\site-packages\\pandas\\core\\base.py\u001b[0m in \u001b[0;36m__getitem__\u001b[1;34m(self, key)\u001b[0m\n\u001b[0;32m    222\u001b[0m     \u001b[1;32mdef\u001b[0m \u001b[0m__getitem__\u001b[0m\u001b[1;33m(\u001b[0m\u001b[0mself\u001b[0m\u001b[1;33m,\u001b[0m \u001b[0mkey\u001b[0m\u001b[1;33m)\u001b[0m\u001b[1;33m:\u001b[0m\u001b[1;33m\u001b[0m\u001b[1;33m\u001b[0m\u001b[0m\n\u001b[0;32m    223\u001b[0m         \u001b[1;32mif\u001b[0m \u001b[0mself\u001b[0m\u001b[1;33m.\u001b[0m\u001b[0m_selection\u001b[0m \u001b[1;32mis\u001b[0m \u001b[1;32mnot\u001b[0m \u001b[1;32mNone\u001b[0m\u001b[1;33m:\u001b[0m\u001b[1;33m\u001b[0m\u001b[1;33m\u001b[0m\u001b[0m\n\u001b[1;32m--> 224\u001b[1;33m             \u001b[1;32mraise\u001b[0m \u001b[0mIndexError\u001b[0m\u001b[1;33m(\u001b[0m\u001b[1;34mf\"Column(s) {self._selection} already selected\"\u001b[0m\u001b[1;33m)\u001b[0m\u001b[1;33m\u001b[0m\u001b[1;33m\u001b[0m\u001b[0m\n\u001b[0m\u001b[0;32m    225\u001b[0m \u001b[1;33m\u001b[0m\u001b[0m\n\u001b[0;32m    226\u001b[0m         \u001b[1;32mif\u001b[0m \u001b[0misinstance\u001b[0m\u001b[1;33m(\u001b[0m\u001b[0mkey\u001b[0m\u001b[1;33m,\u001b[0m \u001b[1;33m(\u001b[0m\u001b[0mlist\u001b[0m\u001b[1;33m,\u001b[0m \u001b[0mtuple\u001b[0m\u001b[1;33m,\u001b[0m \u001b[0mABCSeries\u001b[0m\u001b[1;33m,\u001b[0m \u001b[0mABCIndexClass\u001b[0m\u001b[1;33m,\u001b[0m \u001b[0mnp\u001b[0m\u001b[1;33m.\u001b[0m\u001b[0mndarray\u001b[0m\u001b[1;33m)\u001b[0m\u001b[1;33m)\u001b[0m\u001b[1;33m:\u001b[0m\u001b[1;33m\u001b[0m\u001b[1;33m\u001b[0m\u001b[0m\n",
      "\u001b[1;31mIndexError\u001b[0m: Column(s) genre already selected"
     ]
    }
   ],
   "source": [
    "# i have dict with genre and metascore value without any null value\n",
    "metascore_data_dict={}\n",
    "for i in genre_group_metascore.index:\n",
    "    metascore_data_dict[genre_group[\"genre\"][i]]=genre_group_metascore[\"metascore\"][i]\n",
    "#print(metascore_data_dict)"
   ]
  },
  {
   "cell_type": "raw",
   "metadata": {},
   "source": [
    "Next task is ,I want ot traverse on original dataframe and replace null values in metascore attribute with corresponding mean value of genre."
   ]
  },
  {
   "cell_type": "code",
   "execution_count": null,
   "metadata": {},
   "outputs": [],
   "source": [
    "# it traverse on every row\n",
    "count=0\n",
    "for i in original_dataframe.index:\n",
    "    #print(\"Here\",end=\" \")\n",
    "    #print(i)\n",
    "    if pd.isnull(original_dataframe[\"metascore\"][i]):\n",
    "        #print(original_dataframe[\"revenue (millions)\"][i])\n",
    "        #count+=1\n",
    "        original_dataframe[\"metascore\"][i]=metascore_data_dict[original_dataframe[\"genre\"][i]] \n",
    "       # print(original_dataframe[\"genre\"][i],metascore_data_dict[original_dataframe[\"genre\"][i]])\n",
    "       # pass\n",
    "       #original_dataframe[\"revenue (millions)\"][i]=genre_group[\"revenue (millions)\"]\n",
    "#print(count)"
   ]
  },
  {
   "cell_type": "code",
   "execution_count": null,
   "metadata": {},
   "outputs": [],
   "source": [
    "original_dataframe.info()"
   ]
  }
 ],
 "metadata": {
  "kernelspec": {
   "display_name": "Python 3",
   "language": "python",
   "name": "python3"
  },
  "language_info": {
   "codemirror_mode": {
    "name": "ipython",
    "version": 3
   },
   "file_extension": ".py",
   "mimetype": "text/x-python",
   "name": "python",
   "nbconvert_exporter": "python",
   "pygments_lexer": "ipython3",
   "version": "3.7.6"
  }
 },
 "nbformat": 4,
 "nbformat_minor": 4
}
